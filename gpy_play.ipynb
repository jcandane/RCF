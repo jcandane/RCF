{
  "nbformat": 4,
  "nbformat_minor": 0,
  "metadata": {
    "colab": {
      "provenance": [],
      "authorship_tag": "ABX9TyPYlKxGAM1mJjAk0qRTgE/e",
      "include_colab_link": true
    },
    "kernelspec": {
      "name": "python3",
      "display_name": "Python 3"
    },
    "language_info": {
      "name": "python"
    }
  },
  "cells": [
    {
      "cell_type": "markdown",
      "metadata": {
        "id": "view-in-github",
        "colab_type": "text"
      },
      "source": [
        "<a href=\"https://colab.research.google.com/github/jcandane/RCF/blob/main/gpy_play.ipynb\" target=\"_parent\"><img src=\"https://colab.research.google.com/assets/colab-badge.svg\" alt=\"Open In Colab\"/></a>"
      ]
    },
    {
      "cell_type": "code",
      "execution_count": 1,
      "metadata": {
        "id": "vbPz6tBgOknR",
        "colab": {
          "base_uri": "https://localhost:8080/"
        },
        "outputId": "469e28dd-ab9f-47ce-9274-6faf4b2cc5f0"
      },
      "outputs": [
        {
          "output_type": "stream",
          "name": "stdout",
          "text": [
            "Collecting gpy==1.13.1\n",
            "  Downloading GPy-1.13.1-cp310-cp310-manylinux_2_17_x86_64.manylinux2014_x86_64.whl (3.6 MB)\n",
            "\u001b[2K     \u001b[90m━━━━━━━━━━━━━━━━━━━━━━━━━━━━━━━━━━━━━━━━\u001b[0m \u001b[32m3.6/3.6 MB\u001b[0m \u001b[31m9.5 MB/s\u001b[0m eta \u001b[36m0:00:00\u001b[0m\n",
            "\u001b[?25hRequirement already satisfied: numpy>=1.7 in /usr/local/lib/python3.10/dist-packages (from gpy==1.13.1) (1.25.2)\n",
            "Requirement already satisfied: six in /usr/local/lib/python3.10/dist-packages (from gpy==1.13.1) (1.16.0)\n",
            "Collecting paramz>=0.9.6 (from gpy==1.13.1)\n",
            "  Downloading paramz-0.9.6-py3-none-any.whl (103 kB)\n",
            "\u001b[2K     \u001b[90m━━━━━━━━━━━━━━━━━━━━━━━━━━━━━━━━━━━━━━━━\u001b[0m \u001b[32m103.2/103.2 kB\u001b[0m \u001b[31m5.0 MB/s\u001b[0m eta \u001b[36m0:00:00\u001b[0m\n",
            "\u001b[?25hRequirement already satisfied: cython>=0.29 in /usr/local/lib/python3.10/dist-packages (from gpy==1.13.1) (3.0.9)\n",
            "Requirement already satisfied: scipy<1.12.0,>=1.3.0 in /usr/local/lib/python3.10/dist-packages (from gpy==1.13.1) (1.11.4)\n",
            "Requirement already satisfied: decorator>=4.0.10 in /usr/local/lib/python3.10/dist-packages (from paramz>=0.9.6->gpy==1.13.1) (4.4.2)\n",
            "Installing collected packages: paramz, gpy\n",
            "Successfully installed gpy-1.13.1 paramz-0.9.6\n"
          ]
        }
      ],
      "source": [
        "import numpy as np\n",
        "import scipy\n",
        "\n",
        "try:\n",
        "    import GPy\n",
        "except:\n",
        "    !pip install gpy==1.13.1\n",
        "    import GPy\n",
        "\n",
        "import plotly.graph_objects as go"
      ]
    },
    {
      "cell_type": "markdown",
      "source": [
        "also check out: https://www.pymc.io/projects/examples/en/latest/gaussian_processes/GP-Latent.html"
      ],
      "metadata": {
        "id": "4W6XvJHc0mgS"
      }
    },
    {
      "cell_type": "code",
      "source": [
        "d = 1 # input dimension\n",
        "var = 1. # variance\n",
        "theta = 0.2 # lengthscale\n",
        "k = GPy.kern.RBF(d)"
      ],
      "metadata": {
        "id": "kGadqiuNO_C1"
      },
      "execution_count": 2,
      "outputs": []
    },
    {
      "cell_type": "code",
      "source": [
        "kk = GPy.kern.RBF(d)\n",
        "\n",
        "kk.parameter_names()\n",
        "\n",
        "kk.variance = 3.5\n",
        "\n",
        "k.param_array"
      ],
      "metadata": {
        "colab": {
          "base_uri": "https://localhost:8080/"
        },
        "id": "Hz7w2J5IZulu",
        "outputId": "bf6c9392-2dc8-4668-e339-02b1f2f68248"
      },
      "execution_count": 3,
      "outputs": [
        {
          "output_type": "execute_result",
          "data": {
            "text/plain": [
              "array([1., 1.])"
            ]
          },
          "metadata": {},
          "execution_count": 3
        }
      ]
    },
    {
      "cell_type": "code",
      "source": [
        "yo = {\n",
        "\"lengthscale\":8.1,\n",
        " \"variance\":2.5\n",
        "}\n",
        "\n",
        "GPy.kern.RBF(2, **yo )"
      ],
      "metadata": {
        "colab": {
          "base_uri": "https://localhost:8080/",
          "height": 79
        },
        "id": "bzoAo3-9c8GM",
        "outputId": "65bf7275-4948-42ba-8da8-eb91b55cf555"
      },
      "execution_count": 4,
      "outputs": [
        {
          "output_type": "execute_result",
          "data": {
            "text/plain": [
              "<GPy.kern.src.rbf.RBF at 0x7fdb5070d6c0>"
            ],
            "text/html": [
              "<style type=\"text/css\">\n",
              ".tg  {font-family:\"Courier New\", Courier, monospace !important;padding:2px 3px;word-break:normal;border-collapse:collapse;border-spacing:0;border-color:#DCDCDC;margin:0px auto;width:100%;}\n",
              ".tg td{font-family:\"Courier New\", Courier, monospace !important;font-weight:bold;color:#444;background-color:#F7FDFA;border-style:solid;border-width:1px;overflow:hidden;word-break:normal;border-color:#DCDCDC;}\n",
              ".tg th{font-family:\"Courier New\", Courier, monospace !important;font-weight:normal;color:#fff;background-color:#26ADE4;border-style:solid;border-width:1px;overflow:hidden;word-break:normal;border-color:#DCDCDC;}\n",
              ".tg .tg-left{font-family:\"Courier New\", Courier, monospace !important;font-weight:normal;text-align:left;}\n",
              ".tg .tg-center{font-family:\"Courier New\", Courier, monospace !important;font-weight:normal;text-align:center;}\n",
              ".tg .tg-right{font-family:\"Courier New\", Courier, monospace !important;font-weight:normal;text-align:right;}\n",
              "</style>\n",
              "<table class=\"tg\"><tr><th><b>  rbf.       </b></th><th><b>value</b></th><th><b>constraints</b></th><th><b>priors</b></th></tr>\n",
              "<tr><td class=tg-left>  variance   </td><td class=tg-right>  2.5</td><td class=tg-center>    +ve    </td><td class=tg-center>      </td></tr>\n",
              "<tr><td class=tg-left>  lengthscale</td><td class=tg-right>  8.1</td><td class=tg-center>    +ve    </td><td class=tg-center>      </td></tr>\n",
              "</table>"
            ]
          },
          "metadata": {},
          "execution_count": 4
        }
      ]
    },
    {
      "cell_type": "code",
      "source": [
        "type( k.parameters[0] )"
      ],
      "metadata": {
        "colab": {
          "base_uri": "https://localhost:8080/",
          "height": 187
        },
        "id": "v5Erw5vluvA-",
        "outputId": "fcbdaecb-d90b-4c99-b30f-bb7d1a2614b6"
      },
      "execution_count": 5,
      "outputs": [
        {
          "output_type": "execute_result",
          "data": {
            "text/plain": [
              "GPy.core.parameterization.param.Param"
            ],
            "text/html": [
              "<div style=\"max-width:800px; border: 1px solid var(--colab-border-color);\"><style>\n",
              "      pre.function-repr-contents {\n",
              "        overflow-x: auto;\n",
              "        padding: 8px 12px;\n",
              "        max-height: 500px;\n",
              "      }\n",
              "\n",
              "      pre.function-repr-contents.function-repr-contents-collapsed {\n",
              "        cursor: pointer;\n",
              "        max-height: 100px;\n",
              "      }\n",
              "    </style>\n",
              "    <pre style=\"white-space: initial; background:\n",
              "         var(--colab-secondary-surface-color); padding: 8px 12px;\n",
              "         border-bottom: 1px solid var(--colab-border-color);\"><b>GPy.core.parameterization.param.Param</b><br/>def __init__(name, input_array, default_constraint=None, *a, **kw)</pre><pre class=\"function-repr-contents function-repr-contents-collapsed\" style=\"\"><a class=\"filepath\" style=\"display:none\" href=\"#\">/usr/local/lib/python3.10/dist-packages/GPy/core/parameterization/param.py</a>Parameter object for GPy models.\n",
              "\n",
              ":param str name:           name of the parameter to be printed\n",
              ":param input_array:        array which this parameter handles\n",
              ":type input_array:         np.ndarray\n",
              ":param default_constraint: The default constraint for this parameter\n",
              ":type default_constraint:\n",
              "\n",
              "You can add/remove constraints by calling constrain on the parameter itself, e.g:\n",
              "\n",
              "    - self[:,1].constrain_positive()\n",
              "    - self[0].tie_to(other)\n",
              "    - self.untie()\n",
              "    - self[:3,:].unconstrain()\n",
              "    - self[1].fix()\n",
              "\n",
              "Fixing parameters will fix them to the value they are right now. If you change\n",
              "the fixed value, it will be fixed to the new value!\n",
              "\n",
              "Important Notes:\n",
              "\n",
              "The array given into this, will be used as the Param object. That is, the\n",
              "memory of the numpy array given will be the memory of this object. If\n",
              "you want to make a new Param object you need to copy the input array!\n",
              "\n",
              "Multilevel indexing (e.g. self[:2][1:]) is not supported and might lead to unexpected behaviour.\n",
              "Try to index in one go, using boolean indexing or the numpy builtin\n",
              "np.index function.\n",
              "\n",
              "See :py:class:`GPy.core.parameterized.Parameterized` for more details on constraining etc.</pre>\n",
              "      <script>\n",
              "      if (google.colab.kernel.accessAllowed && google.colab.files && google.colab.files.view) {\n",
              "        for (const element of document.querySelectorAll('.filepath')) {\n",
              "          element.style.display = 'block'\n",
              "          element.onclick = (event) => {\n",
              "            event.preventDefault();\n",
              "            event.stopPropagation();\n",
              "            google.colab.files.view(element.textContent, 9);\n",
              "          };\n",
              "        }\n",
              "      }\n",
              "      for (const element of document.querySelectorAll('.function-repr-contents')) {\n",
              "        element.onclick = (event) => {\n",
              "          event.preventDefault();\n",
              "          event.stopPropagation();\n",
              "          element.classList.toggle('function-repr-contents-collapsed');\n",
              "        };\n",
              "      }\n",
              "      </script>\n",
              "      </div>"
            ]
          },
          "metadata": {},
          "execution_count": 5
        }
      ]
    },
    {
      "cell_type": "code",
      "source": [
        "k.__dict__"
      ],
      "metadata": {
        "colab": {
          "base_uri": "https://localhost:8080/"
        },
        "id": "HxNSannUZ8xG",
        "outputId": "ab1190b9-ed26-49e4-99fe-e8a361b37327"
      },
      "execution_count": 6,
      "outputs": [
        {
          "output_type": "execute_result",
          "data": {
            "text/plain": [
              "{'_name': 'rbf',\n",
              " 'observers': [(-100, <weakref at 0x7fdb88cb0900; to 'RBF' at 0x7fdb7bebd510>, <bound method Parameterizable._parameters_changed_notification of <GPy.kern.src.rbf.RBF object at 0x7fdb7bebd510>>)],\n",
              " '_update_on': True,\n",
              " '_index_operations': OrderedDict([('constraints',\n",
              "               <paramz.core.index_operations.ParameterIndexOperations at 0x7fdb5070cfa0>),\n",
              "              ('priors',\n",
              "               <paramz.core.index_operations.ParameterIndexOperations at 0x7fdb5070ceb0>)]),\n",
              " '_default_constraint_': None,\n",
              " '_optimizer_copy_': None,\n",
              " '_optimizer_copy_transformed': False,\n",
              " 'parameters': [\u001b[1mrbf.variance\u001b[0;0m:\n",
              "  Param([1.]),\n",
              "  \u001b[1mrbf.lengthscale\u001b[0;0m:\n",
              "  Param([1.])],\n",
              " '_param_array_': array([1., 1.]),\n",
              " '_added_names_': set(),\n",
              " 'logger': <Logger RBF (WARNING)>,\n",
              " '_Parameterizable__visited': False,\n",
              " 'cache': {},\n",
              " '_default_prior_': None,\n",
              " 'size': 2,\n",
              " '_fixes_': None,\n",
              " '_param_slices_': [slice(0, 1, None), slice(1, 2, None)],\n",
              " 'input_dim': 1,\n",
              " 'active_dims': array([0]),\n",
              " '_all_dims_active': array([0]),\n",
              " '_sliced_X': 0,\n",
              " 'useGPU': False,\n",
              " 'psicomp': <GPy.kern.src.psi_comp.PSICOMP_RBF at 0x7fdb7bebc8b0>,\n",
              " 'ARD': False,\n",
              " 'lengthscale': \u001b[1mrbf.lengthscale\u001b[0;0m:\n",
              " Param([1.]),\n",
              " 'variance': \u001b[1mrbf.variance\u001b[0;0m:\n",
              " Param([1.]),\n",
              " 'use_invLengthscale': False,\n",
              " '_in_init_': False,\n",
              " '_model_initialized_': True,\n",
              " '_gradient_array_': array([0., 0.]),\n",
              " '__doc__': '\\n    Radial Basis Function kernel, aka squared-exponential, exponentiated quadratic or Gaussian kernel:\\n\\n    .. math::\\n\\n       k(r) = \\\\sigma^2 \\\\exp \\\\bigg(- \\\\frac{1}{2} r^2 \\\\bigg)\\n\\n    Inherited from Stationary: \\n\\n    Stationary kernels (covariance functions).\\n\\n    Stationary covariance fucntion depend only on r, where r is defined as\\n\\n    .. math::\\n        r(x, x\\') = \\\\sqrt{ \\\\sum_{q=1}^Q (x_q - x\\'_q)^2 }\\n\\n    The covariance function k(x, x\\' can then be written k(r).\\n\\n    In this implementation, r is scaled by the lengthscales parameter(s):\\n\\n    .. math::\\n\\n        r(x, x\\') = \\\\sqrt{ \\\\sum_{q=1}^Q \\\\frac{(x_q - x\\'_q)^2}{\\\\ell_q^2} }.\\n\\n    By default, there\\'s only one lengthscale: seaprate lengthscales for each\\n    dimension can be enables by setting ARD=True.\\n\\n    To implement a stationary covariance function using this class, one need\\n    only define the covariance function k(r), and it derivative.\\n\\n    ```\\n    def K_of_r(self, r):\\n        return foo\\n    def dK_dr(self, r):\\n        return bar\\n    ```\\n\\n    The lengthscale(s) and variance parameters are added to the structure automatically.\\n\\n    Thanks to @strongh:\\n    In Stationary, a covariance function is defined in GPy as stationary when it depends only on the l2-norm |x_1 - x_2 |.\\n    However this is the typical definition of isotropy, while stationarity is usually a bit more relaxed.\\n    The more common version of stationarity is that the covariance is a function of x_1 - x_2 (See e.g. R&W first paragraph of section 4.1).\\n    \\nInherited from Parameterized: \\n\\n    Parameterized class\\n\\n    Say m is a handle to a parameterized class.\\n\\n    Printing parameters:\\n\\n        - print m:           prints a nice summary over all parameters\\n        - print m.name:      prints details for param with name \\'name\\'\\n        - print m[regexp]: prints details for all the parameters\\n                             which match (!) regexp\\n        - print m[\\'\\']:       prints details for all parameters\\n\\n        Fields:\\n\\n            Name:       The name of the param, can be renamed!\\n            Value:      Shape or value, if one-valued\\n            Constrain:  constraint of the param, curly \"{c}\" brackets indicate\\n                        some parameters are constrained by c. See detailed print\\n                        to get exact constraints.\\n            Tied_to:    which paramter it is tied to.\\n\\n    Getting and setting parameters:\\n\\n        Set all values in param to one:\\n\\n            m.name.to.param = 1\\n\\n    Handling of constraining, fixing and tieing parameters:\\n\\n        You can constrain parameters by calling the constrain on the param itself, e.g:\\n\\n            - m.name[:,1].constrain_positive()\\n            - m.name[0].tie_to(m.name[1])\\n\\n        Fixing parameters will fix them to the value they are right now. If you change\\n        the parameters value, the param will be fixed to the new value!\\n\\n        If you want to operate on all parameters use m[\\'\\'] to wildcard select all paramters\\n        and concatenate them. Printing m[\\'\\'] will result in printing of all parameters in detail.\\n    \\nInherited from Parameterized: \\n\\n    Say m is a handle to a parameterized class.\\n\\n    Printing parameters::\\n\\n        - print m:           prints a nice summary over all parameters\\n        - print m.name:      prints details for param with name \\'name\\'\\n        - print m[regexp]: prints details for all the parameters\\n                             which match (!) regexp\\n        - print m[\\'\\']:       prints details for all parameters\\n\\n    Fields::\\n\\n        Name:       The name of the param, can be renamed!\\n        Value:      Shape or value, if one-valued\\n        Constrain:  constraint of the param, curly \"{c}\" brackets indicate\\n                    some parameters are constrained by c. See detailed print\\n                    to get exact constraints.\\n        Tied_to:    which paramter it is tied to.\\n\\n    Getting and setting parameters::\\n\\n        - Set all values in param to one:      m.name.to.param = 1\\n        - Set all values in parameterized:     m.name[:] = 1\\n        - Set values to random values:         m[:] = np.random.norm(m.size)\\n\\n    Handling of constraining, fixing and tieing parameters::\\n\\n         - You can constrain parameters by calling the constrain on the param itself, e.g:\\n\\n            - m.name[:,1].constrain_positive()\\n            - m.name[0].tie_to(m.name[1])\\n\\n         - Fixing parameters will fix them to the value they are right now. If you change\\n           the parameters value, the param will be fixed to the new value!\\n\\n         - If you want to operate on all parameters use m[\\'\\'] to wildcard select all paramters\\n           and concatenate them. Printing m[\\'\\'] will result in printing of all parameters in detail.\\n    \\nInherited from Parameterizable: \\n\\n    A parameterisable class.\\n\\n    This class provides the parameters list (ArrayList) and standard parameter handling,\\n    such as {link|unlink}_parameter(), traverse hierarchy and param_array, gradient_array\\n    and the empty parameters_changed().\\n\\n    This class is abstract and should not be instantiated.\\n    Use paramz.Parameterized() as node (or leaf) in the parameterized hierarchy.\\n    Use paramz.Param() for a leaf in the parameterized hierarchy.\\n    \\nInherited from OptimizationHandlable: \\n\\n    This enables optimization handles on an Object as done in GPy 0.4.\\n\\n    `..._optimizer_copy_transformed`: make sure the transformations and constraints etc are handled\\n    \\nInherited from Indexable: \\n\\n    Make an object constrainable with Priors and Transformations.\\n\\n    TODO: Mappings!! (As in ties etc.)\\n\\n    Adding a constraint to a Parameter means to tell the highest parent that\\n    the constraint was added and making sure that all parameters covered\\n    by this object are indeed conforming to the constraint.\\n\\n    :func:`constrain()` and :func:`unconstrain()` are main methods here\\n    \\nInherited from Nameable: \\n\\n    Make an object nameable inside the hierarchy.\\n    \\nInherited from Gradcheckable: \\n\\n    Adds the functionality for an object to be gradcheckable.\\n    It is just a thin wrapper of a call to the highest parent for now.\\n    TODO: Can be done better, by only changing parameters of the current parameter handle,\\n    such that object hierarchy only has to change for those.\\n    \\nInherited from Pickleable: \\n\\n    Make an object pickleable (See python doc \\'pickling\\').\\n\\n    This class allows for pickling support by Memento pattern.\\n    _getstate returns a memento of the class, which gets pickled.\\n    _setstate(<memento>) (re-)sets the state of the class to the memento\\n    \\nInherited from object: \\nThe base class of the class hierarchy.\\n\\nWhen called, it accepts no arguments and returns a new featureless\\ninstance that has no instance attributes and cannot be given any.\\n\\nInherited from Parentable: \\n\\n    Enable an Object to have a parent.\\n\\n    Additionally this adds the parent_index, which is the index for the parent\\n    to look for in its parameter list.\\n    \\nInherited from Updateable: \\n\\n    A model can be updated or not.\\n    Make sure updates can be switched on and off.\\n    \\nInherited from Observable: \\n\\n    Observable pattern for parameterization.\\n\\n    This Object allows for observers to register with self and a (bound!) function\\n    as an observer. Every time the observable changes, it sends a notification with\\n    self as only argument to all its observers.\\n    \\n'}"
            ]
          },
          "metadata": {},
          "execution_count": 6
        }
      ]
    },
    {
      "cell_type": "code",
      "source": [
        "print( k.parameters ) ## define kernel with these parameters????\n",
        "\n",
        "#kk = GPy.kern.RBF(1, k.parameters)\n",
        "\n",
        "#GPy.kern.RBF(**k.__dict__)"
      ],
      "metadata": {
        "colab": {
          "base_uri": "https://localhost:8080/"
        },
        "id": "Y7s6P1ipUw_B",
        "outputId": "9ddb1f1d-891b-45d9-9d43-a08bf1403f67"
      },
      "execution_count": 7,
      "outputs": [
        {
          "output_type": "stream",
          "name": "stdout",
          "text": [
            "[\u001b[1mrbf.variance\u001b[0;0m:\n",
            "Param([1.]), \u001b[1mrbf.lengthscale\u001b[0;0m:\n",
            "Param([1.])]\n"
          ]
        }
      ]
    },
    {
      "cell_type": "code",
      "source": [
        "R_ix = np.random.rand(5,1)\n",
        "R_jx = np.random.rand(8,1)\n",
        "\n",
        "k.K(R_ix, R_jx).shape\n",
        "\n",
        "L_ij = np.linalg.cholesky( k.K(R_ix) )\n",
        "\n",
        "scipy.linalg.cho_solve((L_ij, True), R_ix)"
      ],
      "metadata": {
        "colab": {
          "base_uri": "https://localhost:8080/"
        },
        "id": "xnkkitEbPgyj",
        "outputId": "27aab6d8-4209-49da-990d-73418b00fbdd"
      },
      "execution_count": 8,
      "outputs": [
        {
          "output_type": "execute_result",
          "data": {
            "text/plain": [
              "array([[ -32.429016  ],\n",
              "       [ 321.50558684],\n",
              "       [-497.73653793],\n",
              "       [   1.25170152],\n",
              "       [ 208.56321486]])"
            ]
          },
          "metadata": {},
          "execution_count": 8
        }
      ]
    },
    {
      "cell_type": "code",
      "source": [
        "Domain = np.array([[0,10.],[-3,4.]], dtype=np.float64) #torch.tensor([[0,10.],[-3,4.],[-8,-2]]) ### numpy.2darray\n",
        "N      = 32  ### number of defining points\n",
        "MO     = 1   ### int (dimension of OUT)\n",
        "\n",
        "kernel = GPy.kern.RBF(Domain.shape[0])\n",
        "seed   = 1372\n",
        "############################\n",
        "\n",
        "np.random.seed( 777 )\n",
        "R_ix  = np.random.rand( N, Domain.shape[0] )\n",
        "R_ix  = (Domain[:,1] - Domain[:,0]) * R_ix\n",
        "R_ix += Domain[:,0] ## save this!!!!!\n",
        "\n",
        "L_ij = np.linalg.cholesky( kernel.K(R_ix) )\n",
        "\n",
        "D_iX  = np.random.normal(0,1,size=(N, MO))\n",
        "D_iX *= np.diag(L_ij)[:,None]\n",
        "D_iX  = L_ij @ D_iX\n",
        "\n",
        "S_jX  = scipy.linalg.cho_solve((L_ij, True), D_iX) ## save this!!!!!"
      ],
      "metadata": {
        "id": "4ycsudllP_cK"
      },
      "execution_count": 9,
      "outputs": []
    },
    {
      "cell_type": "markdown",
      "source": [
        "### the RCF class for numpy/GPy"
      ],
      "metadata": {
        "id": "RLazRpaqWMUl"
      }
    },
    {
      "cell_type": "code",
      "source": [
        "import numpy as np\n",
        "import GPy\n",
        "\n",
        "class RCF():\n",
        "    \"\"\" built: 3/19/2024\n",
        "    this an object of a Random-Contionus-Function (RCF), with-respect-to a gpy kernel\n",
        "    RCF : IN -> OUT = R^(MO)\n",
        "    we define a prior, and then sample to form a posterior.\n",
        "    \"\"\"\n",
        "\n",
        "    def __init__(self, Domain:np.ndarray, N:int, MO:int=1, seed:int=777,\n",
        "                 IN_noise=None, OUT_noise=None,\n",
        "                 kernel=GPy.kern.RBF):\n",
        "        \"\"\" !! note datatypes should be tf.float64 for stable Cholesky-operations\n",
        "        GIVEN >\n",
        "             Domain : 2d-np.ndarray (with shape=(d,2), with d=# of dims )\n",
        "                  N : int (number-of-defining-points)\n",
        "                 MO : int (Multiple-Output Dimension)\n",
        "             **seed : int\n",
        "           **kernel : GPy.kern\n",
        "         **IN_noise : 1d-np.ndarray (len == Domain.shape[1])\n",
        "        **OUT_noise : 1d-np.ndarray (len == MO)\n",
        "\n",
        "        GET   >\n",
        "            None\n",
        "        \"\"\"\n",
        "\n",
        "        self.dtype  = np.float64\n",
        "        self.IN     = Domain.astype(self.dtype)  ### : np.ndarray (IN-space range)\n",
        "        self.N      = N      ### number of defining points\n",
        "        self.MO     = MO     ### int (dimension of OUT)\n",
        "        self.kernel = kernel(self.IN.shape[0])\n",
        "        self.seed   = seed ### define pseudo-random seed\n",
        "\n",
        "        np.random.seed( self.seed )\n",
        "\n",
        "        ### define anisotropic i.i.d white-noise\n",
        "        if IN_noise is None:\n",
        "            self.IN_noise=np.zeros(self.IN.shape[0], dtype=self.dtype)\n",
        "        else:\n",
        "            self.IN_noise = IN_noise\n",
        "        if OUT_noise is None:\n",
        "            self.OUT_noise=np.zeros(self.MO, dtype=self.dtype)\n",
        "        else:\n",
        "            self.OUT_noise = OUT_noise\n",
        "\n",
        "        ### define IN-space defining-points\n",
        "        self.R_ix  = np.random.uniform(0,1, (self.N, self.IN.shape[0])).astype(self.dtype)\n",
        "        self.R_ix *= (self.IN[:,1] - self.IN[:,0])\n",
        "        self.R_ix += self.IN[:,0]\n",
        "\n",
        "        ### compute cholesky-factorization\n",
        "        ### this will fail if K is not-PSD LinAlgError: Matrix is not positive definite\n",
        "        try:\n",
        "            L_ij = np.linalg.cholesky( self.kernel.K( self.R_ix ) ) ## not immutable\n",
        "        except:\n",
        "            #print(\"not PSD added to diag\")\n",
        "            L_ij = np.linalg.cholesky( self.kernel.K( self.R_ix ) + np.diag( 1.e-8 * np.random.rand(self.N).astype(self.dtype) ) )\n",
        "\n",
        "        ### compute OUT-space defining-points\n",
        "        D_iX  = np.random.normal(0,1,(self.N, self.MO)).astype(self.dtype)\n",
        "        D_iX *= np.diag(L_ij)[:,None]\n",
        "        D_iX  = np.matmul(L_ij, D_iX)\n",
        "\n",
        "        self.S_jX  = scipy.linalg.cho_solve((L_ij, True), D_iX)\n",
        "\n",
        "    def __call__(self, D_ax):\n",
        "        \"\"\" evaluate for arbitrary values/points in OUT given points in IN.\n",
        "        GIVEN >\n",
        "              self\n",
        "              D_ax : 2d-np.ndarray (D_ax ∈ IN)\n",
        "        GET   >\n",
        "              D_aX : 2d-np.ndarray (D_aX ∈ OUT, note captial 'X')\n",
        "        \"\"\"\n",
        "        D_ax += self.IN_noise*np.random.normal(0,1,D_ax.shape).astype(self.dtype)\n",
        "        D_aX  = np.matmul( self.kernel.K(D_ax, self.R_ix), self.S_jX )\n",
        "        D_aX += self.OUT_noise*np.random.normal(0,1,D_aX.shape).astype(self.dtype)\n",
        "        return D_aX"
      ],
      "metadata": {
        "id": "wT1AIs7FWL_w"
      },
      "execution_count": 14,
      "outputs": []
    },
    {
      "cell_type": "code",
      "source": [
        "Domain = np.array([[0,10.],[-3,4.]], dtype=np.float64) #torch.tensor([[0,10.],[-3,4.],[-8,-2]]) ### numpy.2darray\n",
        "\n",
        "\n",
        "f = RCF(Domain, 4, seed=48)\n",
        "\n",
        "#### generate mesh to plot\n",
        "R_ax = np.stack(np.meshgrid(*[ np.linspace(Domain[i,0], Domain[i,1], 20) for i in range(len(Domain)) ]), axis=-1)\n",
        "#R_ax = R_ax.reshape((tf.prod( tf.asarray(R_ax.shape[:-1]) ), R_ax.shape[-1]))\n",
        "shaper = np.concatenate((np.asarray(R_ax.shape[:-1], dtype=np.int64), R_ax.shape[-1]*np.ones(1, dtype=np.int64)))\n",
        "R_ax = np.reshape(R_ax, (np.prod(R_ax.shape[:-1]), R_ax.shape[-1]))\n",
        "\n",
        "R_ay = f(R_ax)\n",
        "\n",
        "#### the plot\n",
        "fig = go.Figure(data=[go.Scatter3d(x=R_ax[:,0], y=R_ax[:,1], z=R_ay[:,0], mode='markers'),\n",
        "                      go.Scatter3d(x=f.R_ix[:,0], y=f.R_ix[:,1], z=f(f.R_ix)[:,0], mode='markers')])\n",
        "fig.show()"
      ],
      "metadata": {
        "colab": {
          "base_uri": "https://localhost:8080/",
          "height": 542
        },
        "id": "k03XWR68V1v4",
        "outputId": "947987ff-5370-45c6-a09b-cd4b5e218910"
      },
      "execution_count": 16,
      "outputs": [
        {
          "output_type": "display_data",
          "data": {
            "text/html": [
              "<html>\n",
              "<head><meta charset=\"utf-8\" /></head>\n",
              "<body>\n",
              "    <div>            <script src=\"https://cdnjs.cloudflare.com/ajax/libs/mathjax/2.7.5/MathJax.js?config=TeX-AMS-MML_SVG\"></script><script type=\"text/javascript\">if (window.MathJax && window.MathJax.Hub && window.MathJax.Hub.Config) {window.MathJax.Hub.Config({SVG: {font: \"STIX-Web\"}});}</script>                <script type=\"text/javascript\">window.PlotlyConfig = {MathJaxConfig: 'local'};</script>\n",
              "        <script charset=\"utf-8\" src=\"https://cdn.plot.ly/plotly-2.24.1.min.js\"></script>                <div id=\"f639fafa-4529-46ed-bd1c-1549a8efcdb1\" class=\"plotly-graph-div\" style=\"height:525px; width:100%;\"></div>            <script type=\"text/javascript\">                                    window.PLOTLYENV=window.PLOTLYENV || {};                                    if (document.getElementById(\"f639fafa-4529-46ed-bd1c-1549a8efcdb1\")) {                    Plotly.newPlot(                        \"f639fafa-4529-46ed-bd1c-1549a8efcdb1\",                        [{\"mode\":\"markers\",\"x\":[0.0,0.5263157894736842,1.0526315789473684,1.5789473684210527,2.1052631578947367,2.631578947368421,3.1578947368421053,3.6842105263157894,4.2105263157894735,4.7368421052631575,5.263157894736842,5.789473684210526,6.315789473684211,6.842105263157895,7.368421052631579,7.894736842105263,8.421052631578947,8.947368421052632,9.473684210526315,10.0,0.0,0.5263157894736842,1.0526315789473684,1.5789473684210527,2.1052631578947367,2.631578947368421,3.1578947368421053,3.6842105263157894,4.2105263157894735,4.7368421052631575,5.263157894736842,5.789473684210526,6.315789473684211,6.842105263157895,7.368421052631579,7.894736842105263,8.421052631578947,8.947368421052632,9.473684210526315,10.0,0.0,0.5263157894736842,1.0526315789473684,1.5789473684210527,2.1052631578947367,2.631578947368421,3.1578947368421053,3.6842105263157894,4.2105263157894735,4.7368421052631575,5.263157894736842,5.789473684210526,6.315789473684211,6.842105263157895,7.368421052631579,7.894736842105263,8.421052631578947,8.947368421052632,9.473684210526315,10.0,0.0,0.5263157894736842,1.0526315789473684,1.5789473684210527,2.1052631578947367,2.631578947368421,3.1578947368421053,3.6842105263157894,4.2105263157894735,4.7368421052631575,5.263157894736842,5.789473684210526,6.315789473684211,6.842105263157895,7.368421052631579,7.894736842105263,8.421052631578947,8.947368421052632,9.473684210526315,10.0,0.0,0.5263157894736842,1.0526315789473684,1.5789473684210527,2.1052631578947367,2.631578947368421,3.1578947368421053,3.6842105263157894,4.2105263157894735,4.7368421052631575,5.263157894736842,5.789473684210526,6.315789473684211,6.842105263157895,7.368421052631579,7.894736842105263,8.421052631578947,8.947368421052632,9.473684210526315,10.0,0.0,0.5263157894736842,1.0526315789473684,1.5789473684210527,2.1052631578947367,2.631578947368421,3.1578947368421053,3.6842105263157894,4.2105263157894735,4.7368421052631575,5.263157894736842,5.789473684210526,6.315789473684211,6.842105263157895,7.368421052631579,7.894736842105263,8.421052631578947,8.947368421052632,9.473684210526315,10.0,0.0,0.5263157894736842,1.0526315789473684,1.5789473684210527,2.1052631578947367,2.631578947368421,3.1578947368421053,3.6842105263157894,4.2105263157894735,4.7368421052631575,5.263157894736842,5.789473684210526,6.315789473684211,6.842105263157895,7.368421052631579,7.894736842105263,8.421052631578947,8.947368421052632,9.473684210526315,10.0,0.0,0.5263157894736842,1.0526315789473684,1.5789473684210527,2.1052631578947367,2.631578947368421,3.1578947368421053,3.6842105263157894,4.2105263157894735,4.7368421052631575,5.263157894736842,5.789473684210526,6.315789473684211,6.842105263157895,7.368421052631579,7.894736842105263,8.421052631578947,8.947368421052632,9.473684210526315,10.0,0.0,0.5263157894736842,1.0526315789473684,1.5789473684210527,2.1052631578947367,2.631578947368421,3.1578947368421053,3.6842105263157894,4.2105263157894735,4.7368421052631575,5.263157894736842,5.789473684210526,6.315789473684211,6.842105263157895,7.368421052631579,7.894736842105263,8.421052631578947,8.947368421052632,9.473684210526315,10.0,0.0,0.5263157894736842,1.0526315789473684,1.5789473684210527,2.1052631578947367,2.631578947368421,3.1578947368421053,3.6842105263157894,4.2105263157894735,4.7368421052631575,5.263157894736842,5.789473684210526,6.315789473684211,6.842105263157895,7.368421052631579,7.894736842105263,8.421052631578947,8.947368421052632,9.473684210526315,10.0,0.0,0.5263157894736842,1.0526315789473684,1.5789473684210527,2.1052631578947367,2.631578947368421,3.1578947368421053,3.6842105263157894,4.2105263157894735,4.7368421052631575,5.263157894736842,5.789473684210526,6.315789473684211,6.842105263157895,7.368421052631579,7.894736842105263,8.421052631578947,8.947368421052632,9.473684210526315,10.0,0.0,0.5263157894736842,1.0526315789473684,1.5789473684210527,2.1052631578947367,2.631578947368421,3.1578947368421053,3.6842105263157894,4.2105263157894735,4.7368421052631575,5.263157894736842,5.789473684210526,6.315789473684211,6.842105263157895,7.368421052631579,7.894736842105263,8.421052631578947,8.947368421052632,9.473684210526315,10.0,0.0,0.5263157894736842,1.0526315789473684,1.5789473684210527,2.1052631578947367,2.631578947368421,3.1578947368421053,3.6842105263157894,4.2105263157894735,4.7368421052631575,5.263157894736842,5.789473684210526,6.315789473684211,6.842105263157895,7.368421052631579,7.894736842105263,8.421052631578947,8.947368421052632,9.473684210526315,10.0,0.0,0.5263157894736842,1.0526315789473684,1.5789473684210527,2.1052631578947367,2.631578947368421,3.1578947368421053,3.6842105263157894,4.2105263157894735,4.7368421052631575,5.263157894736842,5.789473684210526,6.315789473684211,6.842105263157895,7.368421052631579,7.894736842105263,8.421052631578947,8.947368421052632,9.473684210526315,10.0,0.0,0.5263157894736842,1.0526315789473684,1.5789473684210527,2.1052631578947367,2.631578947368421,3.1578947368421053,3.6842105263157894,4.2105263157894735,4.7368421052631575,5.263157894736842,5.789473684210526,6.315789473684211,6.842105263157895,7.368421052631579,7.894736842105263,8.421052631578947,8.947368421052632,9.473684210526315,10.0,0.0,0.5263157894736842,1.0526315789473684,1.5789473684210527,2.1052631578947367,2.631578947368421,3.1578947368421053,3.6842105263157894,4.2105263157894735,4.7368421052631575,5.263157894736842,5.789473684210526,6.315789473684211,6.842105263157895,7.368421052631579,7.894736842105263,8.421052631578947,8.947368421052632,9.473684210526315,10.0,0.0,0.5263157894736842,1.0526315789473684,1.5789473684210527,2.1052631578947367,2.631578947368421,3.1578947368421053,3.6842105263157894,4.2105263157894735,4.7368421052631575,5.263157894736842,5.789473684210526,6.315789473684211,6.842105263157895,7.368421052631579,7.894736842105263,8.421052631578947,8.947368421052632,9.473684210526315,10.0,0.0,0.5263157894736842,1.0526315789473684,1.5789473684210527,2.1052631578947367,2.631578947368421,3.1578947368421053,3.6842105263157894,4.2105263157894735,4.7368421052631575,5.263157894736842,5.789473684210526,6.315789473684211,6.842105263157895,7.368421052631579,7.894736842105263,8.421052631578947,8.947368421052632,9.473684210526315,10.0,0.0,0.5263157894736842,1.0526315789473684,1.5789473684210527,2.1052631578947367,2.631578947368421,3.1578947368421053,3.6842105263157894,4.2105263157894735,4.7368421052631575,5.263157894736842,5.789473684210526,6.315789473684211,6.842105263157895,7.368421052631579,7.894736842105263,8.421052631578947,8.947368421052632,9.473684210526315,10.0,0.0,0.5263157894736842,1.0526315789473684,1.5789473684210527,2.1052631578947367,2.631578947368421,3.1578947368421053,3.6842105263157894,4.2105263157894735,4.7368421052631575,5.263157894736842,5.789473684210526,6.315789473684211,6.842105263157895,7.368421052631579,7.894736842105263,8.421052631578947,8.947368421052632,9.473684210526315,10.0],\"y\":[-3.0,-3.0,-3.0,-3.0,-3.0,-3.0,-3.0,-3.0,-3.0,-3.0,-3.0,-3.0,-3.0,-3.0,-3.0,-3.0,-3.0,-3.0,-3.0,-3.0,-2.6315789473684212,-2.6315789473684212,-2.6315789473684212,-2.6315789473684212,-2.6315789473684212,-2.6315789473684212,-2.6315789473684212,-2.6315789473684212,-2.6315789473684212,-2.6315789473684212,-2.6315789473684212,-2.6315789473684212,-2.6315789473684212,-2.6315789473684212,-2.6315789473684212,-2.6315789473684212,-2.6315789473684212,-2.6315789473684212,-2.6315789473684212,-2.6315789473684212,-2.263157894736842,-2.263157894736842,-2.263157894736842,-2.263157894736842,-2.263157894736842,-2.263157894736842,-2.263157894736842,-2.263157894736842,-2.263157894736842,-2.263157894736842,-2.263157894736842,-2.263157894736842,-2.263157894736842,-2.263157894736842,-2.263157894736842,-2.263157894736842,-2.263157894736842,-2.263157894736842,-2.263157894736842,-2.263157894736842,-1.8947368421052633,-1.8947368421052633,-1.8947368421052633,-1.8947368421052633,-1.8947368421052633,-1.8947368421052633,-1.8947368421052633,-1.8947368421052633,-1.8947368421052633,-1.8947368421052633,-1.8947368421052633,-1.8947368421052633,-1.8947368421052633,-1.8947368421052633,-1.8947368421052633,-1.8947368421052633,-1.8947368421052633,-1.8947368421052633,-1.8947368421052633,-1.8947368421052633,-1.5263157894736843,-1.5263157894736843,-1.5263157894736843,-1.5263157894736843,-1.5263157894736843,-1.5263157894736843,-1.5263157894736843,-1.5263157894736843,-1.5263157894736843,-1.5263157894736843,-1.5263157894736843,-1.5263157894736843,-1.5263157894736843,-1.5263157894736843,-1.5263157894736843,-1.5263157894736843,-1.5263157894736843,-1.5263157894736843,-1.5263157894736843,-1.5263157894736843,-1.1578947368421053,-1.1578947368421053,-1.1578947368421053,-1.1578947368421053,-1.1578947368421053,-1.1578947368421053,-1.1578947368421053,-1.1578947368421053,-1.1578947368421053,-1.1578947368421053,-1.1578947368421053,-1.1578947368421053,-1.1578947368421053,-1.1578947368421053,-1.1578947368421053,-1.1578947368421053,-1.1578947368421053,-1.1578947368421053,-1.1578947368421053,-1.1578947368421053,-0.7894736842105265,-0.7894736842105265,-0.7894736842105265,-0.7894736842105265,-0.7894736842105265,-0.7894736842105265,-0.7894736842105265,-0.7894736842105265,-0.7894736842105265,-0.7894736842105265,-0.7894736842105265,-0.7894736842105265,-0.7894736842105265,-0.7894736842105265,-0.7894736842105265,-0.7894736842105265,-0.7894736842105265,-0.7894736842105265,-0.7894736842105265,-0.7894736842105265,-0.42105263157894735,-0.42105263157894735,-0.42105263157894735,-0.42105263157894735,-0.42105263157894735,-0.42105263157894735,-0.42105263157894735,-0.42105263157894735,-0.42105263157894735,-0.42105263157894735,-0.42105263157894735,-0.42105263157894735,-0.42105263157894735,-0.42105263157894735,-0.42105263157894735,-0.42105263157894735,-0.42105263157894735,-0.42105263157894735,-0.42105263157894735,-0.42105263157894735,-0.052631578947368585,-0.052631578947368585,-0.052631578947368585,-0.052631578947368585,-0.052631578947368585,-0.052631578947368585,-0.052631578947368585,-0.052631578947368585,-0.052631578947368585,-0.052631578947368585,-0.052631578947368585,-0.052631578947368585,-0.052631578947368585,-0.052631578947368585,-0.052631578947368585,-0.052631578947368585,-0.052631578947368585,-0.052631578947368585,-0.052631578947368585,-0.052631578947368585,0.3157894736842102,0.3157894736842102,0.3157894736842102,0.3157894736842102,0.3157894736842102,0.3157894736842102,0.3157894736842102,0.3157894736842102,0.3157894736842102,0.3157894736842102,0.3157894736842102,0.3157894736842102,0.3157894736842102,0.3157894736842102,0.3157894736842102,0.3157894736842102,0.3157894736842102,0.3157894736842102,0.3157894736842102,0.3157894736842102,0.6842105263157894,0.6842105263157894,0.6842105263157894,0.6842105263157894,0.6842105263157894,0.6842105263157894,0.6842105263157894,0.6842105263157894,0.6842105263157894,0.6842105263157894,0.6842105263157894,0.6842105263157894,0.6842105263157894,0.6842105263157894,0.6842105263157894,0.6842105263157894,0.6842105263157894,0.6842105263157894,0.6842105263157894,0.6842105263157894,1.0526315789473681,1.0526315789473681,1.0526315789473681,1.0526315789473681,1.0526315789473681,1.0526315789473681,1.0526315789473681,1.0526315789473681,1.0526315789473681,1.0526315789473681,1.0526315789473681,1.0526315789473681,1.0526315789473681,1.0526315789473681,1.0526315789473681,1.0526315789473681,1.0526315789473681,1.0526315789473681,1.0526315789473681,1.0526315789473681,1.421052631578947,1.421052631578947,1.421052631578947,1.421052631578947,1.421052631578947,1.421052631578947,1.421052631578947,1.421052631578947,1.421052631578947,1.421052631578947,1.421052631578947,1.421052631578947,1.421052631578947,1.421052631578947,1.421052631578947,1.421052631578947,1.421052631578947,1.421052631578947,1.421052631578947,1.421052631578947,1.7894736842105257,1.7894736842105257,1.7894736842105257,1.7894736842105257,1.7894736842105257,1.7894736842105257,1.7894736842105257,1.7894736842105257,1.7894736842105257,1.7894736842105257,1.7894736842105257,1.7894736842105257,1.7894736842105257,1.7894736842105257,1.7894736842105257,1.7894736842105257,1.7894736842105257,1.7894736842105257,1.7894736842105257,1.7894736842105257,2.1578947368421053,2.1578947368421053,2.1578947368421053,2.1578947368421053,2.1578947368421053,2.1578947368421053,2.1578947368421053,2.1578947368421053,2.1578947368421053,2.1578947368421053,2.1578947368421053,2.1578947368421053,2.1578947368421053,2.1578947368421053,2.1578947368421053,2.1578947368421053,2.1578947368421053,2.1578947368421053,2.1578947368421053,2.1578947368421053,2.526315789473684,2.526315789473684,2.526315789473684,2.526315789473684,2.526315789473684,2.526315789473684,2.526315789473684,2.526315789473684,2.526315789473684,2.526315789473684,2.526315789473684,2.526315789473684,2.526315789473684,2.526315789473684,2.526315789473684,2.526315789473684,2.526315789473684,2.526315789473684,2.526315789473684,2.526315789473684,2.894736842105263,2.894736842105263,2.894736842105263,2.894736842105263,2.894736842105263,2.894736842105263,2.894736842105263,2.894736842105263,2.894736842105263,2.894736842105263,2.894736842105263,2.894736842105263,2.894736842105263,2.894736842105263,2.894736842105263,2.894736842105263,2.894736842105263,2.894736842105263,2.894736842105263,2.894736842105263,3.2631578947368416,3.2631578947368416,3.2631578947368416,3.2631578947368416,3.2631578947368416,3.2631578947368416,3.2631578947368416,3.2631578947368416,3.2631578947368416,3.2631578947368416,3.2631578947368416,3.2631578947368416,3.2631578947368416,3.2631578947368416,3.2631578947368416,3.2631578947368416,3.2631578947368416,3.2631578947368416,3.2631578947368416,3.2631578947368416,3.6315789473684204,3.6315789473684204,3.6315789473684204,3.6315789473684204,3.6315789473684204,3.6315789473684204,3.6315789473684204,3.6315789473684204,3.6315789473684204,3.6315789473684204,3.6315789473684204,3.6315789473684204,3.6315789473684204,3.6315789473684204,3.6315789473684204,3.6315789473684204,3.6315789473684204,3.6315789473684204,3.6315789473684204,3.6315789473684204,4.0,4.0,4.0,4.0,4.0,4.0,4.0,4.0,4.0,4.0,4.0,4.0,4.0,4.0,4.0,4.0,4.0,4.0,4.0,4.0],\"z\":[0.0013562173425197932,0.005288150538563145,0.01563053508252002,0.03502195496957805,0.05948448522272989,0.07658865138340551,0.07475332153215293,0.0553243867745593,0.031165393471511996,0.014086770548128135,0.008428101425238466,0.015751462454742203,0.03945097618449985,0.07937658001252881,0.12144785623775867,0.1406749506518508,0.12323087590752653,0.08154300564482636,0.04068664641192227,0.015266104548967076,0.0027397257229904554,0.010682866928581149,0.03157616450696998,0.0707499746317534,0.12016824123433488,0.15472143514966685,0.15101399083225356,0.1117666559894437,0.06297911877107695,0.02857983060181034,0.01759195613788523,0.0338004694064762,0.08493059110773575,0.17078258454420697,0.26097126543437194,0.30171423869899144,0.2635555670472471,0.17366084750275462,0.08609635545536103,0.03198744263702742,0.0048317739526575485,0.018841522560352018,0.0556922247471321,0.12478523383712309,0.2119468846201829,0.2728902168833692,0.26635162738763235,0.19713329461371223,0.11111710202854662,0.05063712896900727,0.032087294380232854,0.0633122807642484,0.1595251578236368,0.3204800795229649,0.4888629248864825,0.5636961749552173,0.49046438037235396,0.3212530686348008,0.15781839333676445,0.05779849075817888,0.007437389744825219,0.029010958220283455,0.08575767321189337,0.19215404773652595,0.32637382350224997,0.42022005199860973,0.41015214165903907,0.3035706678907112,0.17116935106192183,0.07835061879234423,0.05113875317589323,0.1034987948276348,0.2613590711642774,0.5243164933644783,0.7978409339498417,0.9165906448375087,0.7930964377804767,0.5150834751721369,0.2497040516857334,0.08951006666190786,0.009980523116891479,0.03898566273656039,0.11528292777883563,0.25833190815994744,0.4387860119765292,0.5649583962683749,0.5514243853936364,0.408142425682169,0.23021425747490604,0.10587193430641648,0.07120546898510553,0.14762321411914875,0.3733612599476762,0.747448956738069,1.1334910905558664,1.2954800948278606,1.112128651026291,0.7134716479666693,0.33913344638750126,0.11759083109719293,0.011614550537103644,0.045665164520823184,0.13524893674878352,0.3031902843304295,0.5150284396085523,0.6631397284165523,0.6472585839146858,0.4790884420591156,0.27033343201286003,0.12493467475416233,0.08660632258154215,0.18365191651004018,0.4648157030740263,0.927743379358317,1.400155562125092,1.5885630314761574,1.3483245053826833,0.849468906217907,0.39173772162082543,0.12859298143391734,0.01142776344336012,0.04634471977223204,0.1382763356658578,0.3105323728968951,0.5277313117500931,0.6795685412883304,0.6633126431774701,0.49098828585828735,0.2771587309698695,0.12874897505109614,0.09199328156658887,0.19918187536619206,0.5039393444649881,1.0015048182687694,1.501221275987453,1.68539360488393,1.4068365864519075,0.8621937405693857,0.37855227896749316,0.1124578004525203,0.008265728501735141,0.03959608827663179,0.12236740790049173,0.2771019586780042,0.47187124257289403,0.6079368886104415,0.5934674506348319,0.43931447026609793,0.24809488547303693,0.11586505423381313,0.08530775735380572,0.18820363094009226,0.47530955804324554,0.9387854843391866,1.3935522839713828,1.5406227656742872,1.2539417344209647,0.7352611666118465,0.2958582034444648,0.07034224574269723,-0.0005984912234849454,0.024196108229411605,0.09071599124732793,0.21379042162845716,0.3675003718246276,0.47455229742968974,0.4635169216762762,0.3431761092148083,0.19389384172629173,0.09105201677145483,0.06903089521795205,0.1547825545024898,0.38943639108338457,0.762349614765681,1.11569098420401,1.2052559526230495,0.9425910997771297,0.5118799563308324,0.17135529325900323,0.016156315922711356,-0.022592369090126276,-0.004675047572068838,0.046545403095421926,0.13740299944576492,0.24714717851292062,0.32255263564983677,0.3158656215693118,0.23401377854727543,0.13229783479873417,0.06247714461558121,0.048711683326794986,0.11064959140168008,0.2765824310687062,0.5344285670880957,0.765727331871809,0.7978213195699329,0.582996523891212,0.27128258133730293,0.04931518295461057,-0.03077529748068142,-0.07435233578299474,-0.06091927701123083,-0.014353593711740859,0.058739969994397685,0.13756875521817627,0.18904069293540263,0.18736146267042422,0.1392188837019886,0.07879905651944627,0.03742700956400449,0.02994650073955985,0.0686225714835122,0.1697240199143618,0.3216517312196373,0.44597301304179565,0.43743549163157647,0.2802922214898465,0.08381609747561869,-0.034576533026545925,-0.056727746554708997,-0.18461503087440273,-0.17100664717301142,-0.10829158259773437,-0.024773024818112575,0.0485189244633937,0.0910278597370556,0.09567273505270958,0.07206560664135075,0.040943511305203524,0.019567958325136768,0.016017163487933545,0.036814603561162416,0.08954219690485277,0.16470401231438883,0.21636660398896668,0.1895532551707106,0.08664998065782897,-0.02110093378649544,-0.0694769887039759,-0.05982949789541405,-0.3892243614597998,-0.3691848737269495,-0.26014234783364815,-0.1269838540081999,-0.026105855051193956,0.0261457846439175,0.039800010398778396,0.03205456789443311,0.01850302407553679,0.008920919225095358,0.00743807777408463,0.017009378940487097,0.040285831911136605,0.07059848013119138,0.08408231322173897,0.0563894149728717,-0.003914892312028018,-0.05525766713110661,-0.06715223775882959,-0.047865045074589274,-0.7122442935241956,-0.678976536811246,-0.4885559249572037,-0.26177105309573745,-0.0982727357114902,-0.017355448400049732,0.009149114327977787,0.011503454386136777,0.007171137735042333,0.0035344355972420217,0.002989221295822078,0.006720329934952702,0.015238176142601954,0.02450770865338902,0.023495348807580932,0.003233543387768864,-0.02834653834212926,-0.04955920076356935,-0.04787666064059172,-0.031221546322600283,-1.136470460488405,-1.0845631475980706,-0.7838736544728256,-0.42784311512397105,-0.17425019075600928,-0.05021418458356323,-0.007398501816981166,0.0020666360997581516,0.0022193892606784497,0.0011994464207465269,0.0010335297060552946,0.0022430335274962587,0.004711754332707612,0.00633019379113957,0.002546377533821243,-0.00927508797683348,-0.024018399588384632,-0.03159442250647072,-0.027564265009589327,-0.017100480393078037,-1.5827755869485114,-1.5108385822525796,-1.0930157913603291,-0.5989288857371646,-0.24794781079413283,-0.0767345388186579,-0.01694627877549819,-0.0020404773255178516,0.00030473761727608774,0.0003245633187140571,0.00030327569114395444,0.0006179073540258867,0.0011131051891473554,0.0008346349135861198,-0.0018967836443354938,-0.007630975949777968,-0.013749389641470778,-0.016077327913414416,-0.013267029382078875,-0.00798191095739528,-1.924447546152956,-1.8370751757241706,-1.3293082304204014,-0.729027727625047,-0.3028611207898668,-0.09509253066795188,-0.02235609022941089,-0.003778102949602846,-0.00036449072498174627,3.902102998575371e-05,7.219049758301952e-05,0.0001332183977601622,0.00015614170512295497,-0.00023200451869819947,-0.0015857302819124786,-0.0039437306489745845,-0.006193956866158749,-0.0068047265434734786,-0.005429016711147148,-0.003201789124603419,-2.0428601552804326,-1.9501332515169865,-1.4111807905783273,-0.7740715307039343,-0.32181622001545873,-0.10135657221416251,-0.024134993894291405,-0.0043092511048375155,-0.0005561896937614603,-4.0360015304034874e-05,1.0891169596673925e-05,1.8867886643422467e-05,-1.4749834385247978e-05,-0.00021479782910781677,-0.0007450605835144004,-0.0015758202891788821,-0.002307130859574055,-0.0024421575035473648,-0.0019065682658045626,-0.0011094151070499421,-1.8933086569125879,-1.8073743362766723,-1.3078885322593756,-0.7174415733168769,-0.29832134350010575,-0.09401958106199063,-0.022449224136268903,-0.004053828338027059,-0.0005495000336275674,-5.374784958804455e-05,-2.0490923437759684e-06,-1.7911500942967634e-07,-1.884214264645031e-05,-9.262950684874865e-05,-0.0002646724059974196,-0.0005170174762408777,-0.0007265020205022456,-0.0007510199593758001,-0.0005778569509760531,-0.00033315424875594434,-1.5319880606109426,-1.4624542774426073,-1.0582927963447524,-0.5805309979968434,-0.24140073568795964,-0.07609137577100444,-0.01817922604072475,-0.0032907309889882177,-0.00045060280344834044,-4.632058695689325e-05,-3.4523709963825637e-06,-1.2371698560923945e-06,-7.572252457897322e-06,-2.933739187566005e-05,-7.656827636884426e-05,-0.00014291574542947598,-0.00019569192391012092,-0.00019913656187466508,-0.00015170162058520575,-8.689666154564364e-05],\"type\":\"scatter3d\"},{\"mode\":\"markers\",\"x\":[0.1749027093115263,2.848611674739183,7.920342606554294,8.647103866902583],\"y\":[3.241012870261809,-0.9071653577872949,-0.7287058176523984,0.13258842549711902],\"z\":[-2.0748540185455435,0.7006223397070594,1.6746404228257818,0.601694945599563],\"type\":\"scatter3d\"}],                        {\"template\":{\"data\":{\"histogram2dcontour\":[{\"type\":\"histogram2dcontour\",\"colorbar\":{\"outlinewidth\":0,\"ticks\":\"\"},\"colorscale\":[[0.0,\"#0d0887\"],[0.1111111111111111,\"#46039f\"],[0.2222222222222222,\"#7201a8\"],[0.3333333333333333,\"#9c179e\"],[0.4444444444444444,\"#bd3786\"],[0.5555555555555556,\"#d8576b\"],[0.6666666666666666,\"#ed7953\"],[0.7777777777777778,\"#fb9f3a\"],[0.8888888888888888,\"#fdca26\"],[1.0,\"#f0f921\"]]}],\"choropleth\":[{\"type\":\"choropleth\",\"colorbar\":{\"outlinewidth\":0,\"ticks\":\"\"}}],\"histogram2d\":[{\"type\":\"histogram2d\",\"colorbar\":{\"outlinewidth\":0,\"ticks\":\"\"},\"colorscale\":[[0.0,\"#0d0887\"],[0.1111111111111111,\"#46039f\"],[0.2222222222222222,\"#7201a8\"],[0.3333333333333333,\"#9c179e\"],[0.4444444444444444,\"#bd3786\"],[0.5555555555555556,\"#d8576b\"],[0.6666666666666666,\"#ed7953\"],[0.7777777777777778,\"#fb9f3a\"],[0.8888888888888888,\"#fdca26\"],[1.0,\"#f0f921\"]]}],\"heatmap\":[{\"type\":\"heatmap\",\"colorbar\":{\"outlinewidth\":0,\"ticks\":\"\"},\"colorscale\":[[0.0,\"#0d0887\"],[0.1111111111111111,\"#46039f\"],[0.2222222222222222,\"#7201a8\"],[0.3333333333333333,\"#9c179e\"],[0.4444444444444444,\"#bd3786\"],[0.5555555555555556,\"#d8576b\"],[0.6666666666666666,\"#ed7953\"],[0.7777777777777778,\"#fb9f3a\"],[0.8888888888888888,\"#fdca26\"],[1.0,\"#f0f921\"]]}],\"heatmapgl\":[{\"type\":\"heatmapgl\",\"colorbar\":{\"outlinewidth\":0,\"ticks\":\"\"},\"colorscale\":[[0.0,\"#0d0887\"],[0.1111111111111111,\"#46039f\"],[0.2222222222222222,\"#7201a8\"],[0.3333333333333333,\"#9c179e\"],[0.4444444444444444,\"#bd3786\"],[0.5555555555555556,\"#d8576b\"],[0.6666666666666666,\"#ed7953\"],[0.7777777777777778,\"#fb9f3a\"],[0.8888888888888888,\"#fdca26\"],[1.0,\"#f0f921\"]]}],\"contourcarpet\":[{\"type\":\"contourcarpet\",\"colorbar\":{\"outlinewidth\":0,\"ticks\":\"\"}}],\"contour\":[{\"type\":\"contour\",\"colorbar\":{\"outlinewidth\":0,\"ticks\":\"\"},\"colorscale\":[[0.0,\"#0d0887\"],[0.1111111111111111,\"#46039f\"],[0.2222222222222222,\"#7201a8\"],[0.3333333333333333,\"#9c179e\"],[0.4444444444444444,\"#bd3786\"],[0.5555555555555556,\"#d8576b\"],[0.6666666666666666,\"#ed7953\"],[0.7777777777777778,\"#fb9f3a\"],[0.8888888888888888,\"#fdca26\"],[1.0,\"#f0f921\"]]}],\"surface\":[{\"type\":\"surface\",\"colorbar\":{\"outlinewidth\":0,\"ticks\":\"\"},\"colorscale\":[[0.0,\"#0d0887\"],[0.1111111111111111,\"#46039f\"],[0.2222222222222222,\"#7201a8\"],[0.3333333333333333,\"#9c179e\"],[0.4444444444444444,\"#bd3786\"],[0.5555555555555556,\"#d8576b\"],[0.6666666666666666,\"#ed7953\"],[0.7777777777777778,\"#fb9f3a\"],[0.8888888888888888,\"#fdca26\"],[1.0,\"#f0f921\"]]}],\"mesh3d\":[{\"type\":\"mesh3d\",\"colorbar\":{\"outlinewidth\":0,\"ticks\":\"\"}}],\"scatter\":[{\"fillpattern\":{\"fillmode\":\"overlay\",\"size\":10,\"solidity\":0.2},\"type\":\"scatter\"}],\"parcoords\":[{\"type\":\"parcoords\",\"line\":{\"colorbar\":{\"outlinewidth\":0,\"ticks\":\"\"}}}],\"scatterpolargl\":[{\"type\":\"scatterpolargl\",\"marker\":{\"colorbar\":{\"outlinewidth\":0,\"ticks\":\"\"}}}],\"bar\":[{\"error_x\":{\"color\":\"#2a3f5f\"},\"error_y\":{\"color\":\"#2a3f5f\"},\"marker\":{\"line\":{\"color\":\"#E5ECF6\",\"width\":0.5},\"pattern\":{\"fillmode\":\"overlay\",\"size\":10,\"solidity\":0.2}},\"type\":\"bar\"}],\"scattergeo\":[{\"type\":\"scattergeo\",\"marker\":{\"colorbar\":{\"outlinewidth\":0,\"ticks\":\"\"}}}],\"scatterpolar\":[{\"type\":\"scatterpolar\",\"marker\":{\"colorbar\":{\"outlinewidth\":0,\"ticks\":\"\"}}}],\"histogram\":[{\"marker\":{\"pattern\":{\"fillmode\":\"overlay\",\"size\":10,\"solidity\":0.2}},\"type\":\"histogram\"}],\"scattergl\":[{\"type\":\"scattergl\",\"marker\":{\"colorbar\":{\"outlinewidth\":0,\"ticks\":\"\"}}}],\"scatter3d\":[{\"type\":\"scatter3d\",\"line\":{\"colorbar\":{\"outlinewidth\":0,\"ticks\":\"\"}},\"marker\":{\"colorbar\":{\"outlinewidth\":0,\"ticks\":\"\"}}}],\"scattermapbox\":[{\"type\":\"scattermapbox\",\"marker\":{\"colorbar\":{\"outlinewidth\":0,\"ticks\":\"\"}}}],\"scatterternary\":[{\"type\":\"scatterternary\",\"marker\":{\"colorbar\":{\"outlinewidth\":0,\"ticks\":\"\"}}}],\"scattercarpet\":[{\"type\":\"scattercarpet\",\"marker\":{\"colorbar\":{\"outlinewidth\":0,\"ticks\":\"\"}}}],\"carpet\":[{\"aaxis\":{\"endlinecolor\":\"#2a3f5f\",\"gridcolor\":\"white\",\"linecolor\":\"white\",\"minorgridcolor\":\"white\",\"startlinecolor\":\"#2a3f5f\"},\"baxis\":{\"endlinecolor\":\"#2a3f5f\",\"gridcolor\":\"white\",\"linecolor\":\"white\",\"minorgridcolor\":\"white\",\"startlinecolor\":\"#2a3f5f\"},\"type\":\"carpet\"}],\"table\":[{\"cells\":{\"fill\":{\"color\":\"#EBF0F8\"},\"line\":{\"color\":\"white\"}},\"header\":{\"fill\":{\"color\":\"#C8D4E3\"},\"line\":{\"color\":\"white\"}},\"type\":\"table\"}],\"barpolar\":[{\"marker\":{\"line\":{\"color\":\"#E5ECF6\",\"width\":0.5},\"pattern\":{\"fillmode\":\"overlay\",\"size\":10,\"solidity\":0.2}},\"type\":\"barpolar\"}],\"pie\":[{\"automargin\":true,\"type\":\"pie\"}]},\"layout\":{\"autotypenumbers\":\"strict\",\"colorway\":[\"#636efa\",\"#EF553B\",\"#00cc96\",\"#ab63fa\",\"#FFA15A\",\"#19d3f3\",\"#FF6692\",\"#B6E880\",\"#FF97FF\",\"#FECB52\"],\"font\":{\"color\":\"#2a3f5f\"},\"hovermode\":\"closest\",\"hoverlabel\":{\"align\":\"left\"},\"paper_bgcolor\":\"white\",\"plot_bgcolor\":\"#E5ECF6\",\"polar\":{\"bgcolor\":\"#E5ECF6\",\"angularaxis\":{\"gridcolor\":\"white\",\"linecolor\":\"white\",\"ticks\":\"\"},\"radialaxis\":{\"gridcolor\":\"white\",\"linecolor\":\"white\",\"ticks\":\"\"}},\"ternary\":{\"bgcolor\":\"#E5ECF6\",\"aaxis\":{\"gridcolor\":\"white\",\"linecolor\":\"white\",\"ticks\":\"\"},\"baxis\":{\"gridcolor\":\"white\",\"linecolor\":\"white\",\"ticks\":\"\"},\"caxis\":{\"gridcolor\":\"white\",\"linecolor\":\"white\",\"ticks\":\"\"}},\"coloraxis\":{\"colorbar\":{\"outlinewidth\":0,\"ticks\":\"\"}},\"colorscale\":{\"sequential\":[[0.0,\"#0d0887\"],[0.1111111111111111,\"#46039f\"],[0.2222222222222222,\"#7201a8\"],[0.3333333333333333,\"#9c179e\"],[0.4444444444444444,\"#bd3786\"],[0.5555555555555556,\"#d8576b\"],[0.6666666666666666,\"#ed7953\"],[0.7777777777777778,\"#fb9f3a\"],[0.8888888888888888,\"#fdca26\"],[1.0,\"#f0f921\"]],\"sequentialminus\":[[0.0,\"#0d0887\"],[0.1111111111111111,\"#46039f\"],[0.2222222222222222,\"#7201a8\"],[0.3333333333333333,\"#9c179e\"],[0.4444444444444444,\"#bd3786\"],[0.5555555555555556,\"#d8576b\"],[0.6666666666666666,\"#ed7953\"],[0.7777777777777778,\"#fb9f3a\"],[0.8888888888888888,\"#fdca26\"],[1.0,\"#f0f921\"]],\"diverging\":[[0,\"#8e0152\"],[0.1,\"#c51b7d\"],[0.2,\"#de77ae\"],[0.3,\"#f1b6da\"],[0.4,\"#fde0ef\"],[0.5,\"#f7f7f7\"],[0.6,\"#e6f5d0\"],[0.7,\"#b8e186\"],[0.8,\"#7fbc41\"],[0.9,\"#4d9221\"],[1,\"#276419\"]]},\"xaxis\":{\"gridcolor\":\"white\",\"linecolor\":\"white\",\"ticks\":\"\",\"title\":{\"standoff\":15},\"zerolinecolor\":\"white\",\"automargin\":true,\"zerolinewidth\":2},\"yaxis\":{\"gridcolor\":\"white\",\"linecolor\":\"white\",\"ticks\":\"\",\"title\":{\"standoff\":15},\"zerolinecolor\":\"white\",\"automargin\":true,\"zerolinewidth\":2},\"scene\":{\"xaxis\":{\"backgroundcolor\":\"#E5ECF6\",\"gridcolor\":\"white\",\"linecolor\":\"white\",\"showbackground\":true,\"ticks\":\"\",\"zerolinecolor\":\"white\",\"gridwidth\":2},\"yaxis\":{\"backgroundcolor\":\"#E5ECF6\",\"gridcolor\":\"white\",\"linecolor\":\"white\",\"showbackground\":true,\"ticks\":\"\",\"zerolinecolor\":\"white\",\"gridwidth\":2},\"zaxis\":{\"backgroundcolor\":\"#E5ECF6\",\"gridcolor\":\"white\",\"linecolor\":\"white\",\"showbackground\":true,\"ticks\":\"\",\"zerolinecolor\":\"white\",\"gridwidth\":2}},\"shapedefaults\":{\"line\":{\"color\":\"#2a3f5f\"}},\"annotationdefaults\":{\"arrowcolor\":\"#2a3f5f\",\"arrowhead\":0,\"arrowwidth\":1},\"geo\":{\"bgcolor\":\"white\",\"landcolor\":\"#E5ECF6\",\"subunitcolor\":\"white\",\"showland\":true,\"showlakes\":true,\"lakecolor\":\"white\"},\"title\":{\"x\":0.05},\"mapbox\":{\"style\":\"light\"}}}},                        {\"responsive\": true}                    ).then(function(){\n",
              "                            \n",
              "var gd = document.getElementById('f639fafa-4529-46ed-bd1c-1549a8efcdb1');\n",
              "var x = new MutationObserver(function (mutations, observer) {{\n",
              "        var display = window.getComputedStyle(gd).display;\n",
              "        if (!display || display === 'none') {{\n",
              "            console.log([gd, 'removed!']);\n",
              "            Plotly.purge(gd);\n",
              "            observer.disconnect();\n",
              "        }}\n",
              "}});\n",
              "\n",
              "// Listen for the removal of the full notebook cells\n",
              "var notebookContainer = gd.closest('#notebook-container');\n",
              "if (notebookContainer) {{\n",
              "    x.observe(notebookContainer, {childList: true});\n",
              "}}\n",
              "\n",
              "// Listen for the clearing of the current output cell\n",
              "var outputEl = gd.closest('.output');\n",
              "if (outputEl) {{\n",
              "    x.observe(outputEl, {childList: true});\n",
              "}}\n",
              "\n",
              "                        })                };                            </script>        </div>\n",
              "</body>\n",
              "</html>"
            ]
          },
          "metadata": {}
        }
      ]
    },
    {
      "cell_type": "markdown",
      "source": [
        "## very small domain"
      ],
      "metadata": {
        "id": "hxHOEE9Q51IX"
      }
    },
    {
      "cell_type": "code",
      "source": [
        "Domain = np.array([[0,1.e-4],[-1.e-3,1.e-3]], dtype=np.float64) #torch.tensor([[0,10.],[-3,4.],[-8,-2]]) ### numpy.2darray\n",
        "\n",
        "\n",
        "f = RCF(Domain, 41, seed=48)\n",
        "\n",
        "#### generate mesh to plot\n",
        "R_ax = np.stack(np.meshgrid(*[ np.linspace(Domain[i,0], Domain[i,1], 20) for i in range(len(Domain)) ]), axis=-1)\n",
        "#R_ax = R_ax.reshape((tf.prod( tf.asarray(R_ax.shape[:-1]) ), R_ax.shape[-1]))\n",
        "shaper = np.concatenate((np.asarray(R_ax.shape[:-1], dtype=np.int64), R_ax.shape[-1]*np.ones(1, dtype=np.int64)))\n",
        "R_ax = np.reshape(R_ax, (np.prod(R_ax.shape[:-1]), R_ax.shape[-1]))\n",
        "\n",
        "R_ay = f(R_ax)\n",
        "\n",
        "#### the plot\n",
        "fig = go.Figure(data=[go.Scatter3d(x=R_ax[:,0], y=R_ax[:,1], z=R_ay[:,0], mode='markers'),\n",
        "                      go.Scatter3d(x=f.R_ix[:,0], y=f.R_ix[:,1], z=f(f.R_ix)[:,0], mode='markers')])\n",
        "fig.show()"
      ],
      "metadata": {
        "colab": {
          "base_uri": "https://localhost:8080/",
          "height": 542
        },
        "id": "YPCRaQM05224",
        "outputId": "cf94683f-5e28-40df-e132-e9f933935aa4"
      },
      "execution_count": 19,
      "outputs": [
        {
          "output_type": "display_data",
          "data": {
            "text/html": [
              "<html>\n",
              "<head><meta charset=\"utf-8\" /></head>\n",
              "<body>\n",
              "    <div>            <script src=\"https://cdnjs.cloudflare.com/ajax/libs/mathjax/2.7.5/MathJax.js?config=TeX-AMS-MML_SVG\"></script><script type=\"text/javascript\">if (window.MathJax && window.MathJax.Hub && window.MathJax.Hub.Config) {window.MathJax.Hub.Config({SVG: {font: \"STIX-Web\"}});}</script>                <script type=\"text/javascript\">window.PlotlyConfig = {MathJaxConfig: 'local'};</script>\n",
              "        <script charset=\"utf-8\" src=\"https://cdn.plot.ly/plotly-2.24.1.min.js\"></script>                <div id=\"80e86319-a6fd-4559-b494-a343f0c342cb\" class=\"plotly-graph-div\" style=\"height:525px; width:100%;\"></div>            <script type=\"text/javascript\">                                    window.PLOTLYENV=window.PLOTLYENV || {};                                    if (document.getElementById(\"80e86319-a6fd-4559-b494-a343f0c342cb\")) {                    Plotly.newPlot(                        \"80e86319-a6fd-4559-b494-a343f0c342cb\",                        [{\"mode\":\"markers\",\"x\":[0.0,5.263157894736842e-06,1.0526315789473684e-05,1.5789473684210526e-05,2.105263157894737e-05,2.6315789473684212e-05,3.157894736842105e-05,3.6842105263157895e-05,4.210526315789474e-05,4.736842105263158e-05,5.2631578947368424e-05,5.789473684210527e-05,6.31578947368421e-05,6.842105263157895e-05,7.368421052631579e-05,7.894736842105263e-05,8.421052631578948e-05,8.947368421052632e-05,9.473684210526316e-05,0.0001,0.0,5.263157894736842e-06,1.0526315789473684e-05,1.5789473684210526e-05,2.105263157894737e-05,2.6315789473684212e-05,3.157894736842105e-05,3.6842105263157895e-05,4.210526315789474e-05,4.736842105263158e-05,5.2631578947368424e-05,5.789473684210527e-05,6.31578947368421e-05,6.842105263157895e-05,7.368421052631579e-05,7.894736842105263e-05,8.421052631578948e-05,8.947368421052632e-05,9.473684210526316e-05,0.0001,0.0,5.263157894736842e-06,1.0526315789473684e-05,1.5789473684210526e-05,2.105263157894737e-05,2.6315789473684212e-05,3.157894736842105e-05,3.6842105263157895e-05,4.210526315789474e-05,4.736842105263158e-05,5.2631578947368424e-05,5.789473684210527e-05,6.31578947368421e-05,6.842105263157895e-05,7.368421052631579e-05,7.894736842105263e-05,8.421052631578948e-05,8.947368421052632e-05,9.473684210526316e-05,0.0001,0.0,5.263157894736842e-06,1.0526315789473684e-05,1.5789473684210526e-05,2.105263157894737e-05,2.6315789473684212e-05,3.157894736842105e-05,3.6842105263157895e-05,4.210526315789474e-05,4.736842105263158e-05,5.2631578947368424e-05,5.789473684210527e-05,6.31578947368421e-05,6.842105263157895e-05,7.368421052631579e-05,7.894736842105263e-05,8.421052631578948e-05,8.947368421052632e-05,9.473684210526316e-05,0.0001,0.0,5.263157894736842e-06,1.0526315789473684e-05,1.5789473684210526e-05,2.105263157894737e-05,2.6315789473684212e-05,3.157894736842105e-05,3.6842105263157895e-05,4.210526315789474e-05,4.736842105263158e-05,5.2631578947368424e-05,5.789473684210527e-05,6.31578947368421e-05,6.842105263157895e-05,7.368421052631579e-05,7.894736842105263e-05,8.421052631578948e-05,8.947368421052632e-05,9.473684210526316e-05,0.0001,0.0,5.263157894736842e-06,1.0526315789473684e-05,1.5789473684210526e-05,2.105263157894737e-05,2.6315789473684212e-05,3.157894736842105e-05,3.6842105263157895e-05,4.210526315789474e-05,4.736842105263158e-05,5.2631578947368424e-05,5.789473684210527e-05,6.31578947368421e-05,6.842105263157895e-05,7.368421052631579e-05,7.894736842105263e-05,8.421052631578948e-05,8.947368421052632e-05,9.473684210526316e-05,0.0001,0.0,5.263157894736842e-06,1.0526315789473684e-05,1.5789473684210526e-05,2.105263157894737e-05,2.6315789473684212e-05,3.157894736842105e-05,3.6842105263157895e-05,4.210526315789474e-05,4.736842105263158e-05,5.2631578947368424e-05,5.789473684210527e-05,6.31578947368421e-05,6.842105263157895e-05,7.368421052631579e-05,7.894736842105263e-05,8.421052631578948e-05,8.947368421052632e-05,9.473684210526316e-05,0.0001,0.0,5.263157894736842e-06,1.0526315789473684e-05,1.5789473684210526e-05,2.105263157894737e-05,2.6315789473684212e-05,3.157894736842105e-05,3.6842105263157895e-05,4.210526315789474e-05,4.736842105263158e-05,5.2631578947368424e-05,5.789473684210527e-05,6.31578947368421e-05,6.842105263157895e-05,7.368421052631579e-05,7.894736842105263e-05,8.421052631578948e-05,8.947368421052632e-05,9.473684210526316e-05,0.0001,0.0,5.263157894736842e-06,1.0526315789473684e-05,1.5789473684210526e-05,2.105263157894737e-05,2.6315789473684212e-05,3.157894736842105e-05,3.6842105263157895e-05,4.210526315789474e-05,4.736842105263158e-05,5.2631578947368424e-05,5.789473684210527e-05,6.31578947368421e-05,6.842105263157895e-05,7.368421052631579e-05,7.894736842105263e-05,8.421052631578948e-05,8.947368421052632e-05,9.473684210526316e-05,0.0001,0.0,5.263157894736842e-06,1.0526315789473684e-05,1.5789473684210526e-05,2.105263157894737e-05,2.6315789473684212e-05,3.157894736842105e-05,3.6842105263157895e-05,4.210526315789474e-05,4.736842105263158e-05,5.2631578947368424e-05,5.789473684210527e-05,6.31578947368421e-05,6.842105263157895e-05,7.368421052631579e-05,7.894736842105263e-05,8.421052631578948e-05,8.947368421052632e-05,9.473684210526316e-05,0.0001,0.0,5.263157894736842e-06,1.0526315789473684e-05,1.5789473684210526e-05,2.105263157894737e-05,2.6315789473684212e-05,3.157894736842105e-05,3.6842105263157895e-05,4.210526315789474e-05,4.736842105263158e-05,5.2631578947368424e-05,5.789473684210527e-05,6.31578947368421e-05,6.842105263157895e-05,7.368421052631579e-05,7.894736842105263e-05,8.421052631578948e-05,8.947368421052632e-05,9.473684210526316e-05,0.0001,0.0,5.263157894736842e-06,1.0526315789473684e-05,1.5789473684210526e-05,2.105263157894737e-05,2.6315789473684212e-05,3.157894736842105e-05,3.6842105263157895e-05,4.210526315789474e-05,4.736842105263158e-05,5.2631578947368424e-05,5.789473684210527e-05,6.31578947368421e-05,6.842105263157895e-05,7.368421052631579e-05,7.894736842105263e-05,8.421052631578948e-05,8.947368421052632e-05,9.473684210526316e-05,0.0001,0.0,5.263157894736842e-06,1.0526315789473684e-05,1.5789473684210526e-05,2.105263157894737e-05,2.6315789473684212e-05,3.157894736842105e-05,3.6842105263157895e-05,4.210526315789474e-05,4.736842105263158e-05,5.2631578947368424e-05,5.789473684210527e-05,6.31578947368421e-05,6.842105263157895e-05,7.368421052631579e-05,7.894736842105263e-05,8.421052631578948e-05,8.947368421052632e-05,9.473684210526316e-05,0.0001,0.0,5.263157894736842e-06,1.0526315789473684e-05,1.5789473684210526e-05,2.105263157894737e-05,2.6315789473684212e-05,3.157894736842105e-05,3.6842105263157895e-05,4.210526315789474e-05,4.736842105263158e-05,5.2631578947368424e-05,5.789473684210527e-05,6.31578947368421e-05,6.842105263157895e-05,7.368421052631579e-05,7.894736842105263e-05,8.421052631578948e-05,8.947368421052632e-05,9.473684210526316e-05,0.0001,0.0,5.263157894736842e-06,1.0526315789473684e-05,1.5789473684210526e-05,2.105263157894737e-05,2.6315789473684212e-05,3.157894736842105e-05,3.6842105263157895e-05,4.210526315789474e-05,4.736842105263158e-05,5.2631578947368424e-05,5.789473684210527e-05,6.31578947368421e-05,6.842105263157895e-05,7.368421052631579e-05,7.894736842105263e-05,8.421052631578948e-05,8.947368421052632e-05,9.473684210526316e-05,0.0001,0.0,5.263157894736842e-06,1.0526315789473684e-05,1.5789473684210526e-05,2.105263157894737e-05,2.6315789473684212e-05,3.157894736842105e-05,3.6842105263157895e-05,4.210526315789474e-05,4.736842105263158e-05,5.2631578947368424e-05,5.789473684210527e-05,6.31578947368421e-05,6.842105263157895e-05,7.368421052631579e-05,7.894736842105263e-05,8.421052631578948e-05,8.947368421052632e-05,9.473684210526316e-05,0.0001,0.0,5.263157894736842e-06,1.0526315789473684e-05,1.5789473684210526e-05,2.105263157894737e-05,2.6315789473684212e-05,3.157894736842105e-05,3.6842105263157895e-05,4.210526315789474e-05,4.736842105263158e-05,5.2631578947368424e-05,5.789473684210527e-05,6.31578947368421e-05,6.842105263157895e-05,7.368421052631579e-05,7.894736842105263e-05,8.421052631578948e-05,8.947368421052632e-05,9.473684210526316e-05,0.0001,0.0,5.263157894736842e-06,1.0526315789473684e-05,1.5789473684210526e-05,2.105263157894737e-05,2.6315789473684212e-05,3.157894736842105e-05,3.6842105263157895e-05,4.210526315789474e-05,4.736842105263158e-05,5.2631578947368424e-05,5.789473684210527e-05,6.31578947368421e-05,6.842105263157895e-05,7.368421052631579e-05,7.894736842105263e-05,8.421052631578948e-05,8.947368421052632e-05,9.473684210526316e-05,0.0001,0.0,5.263157894736842e-06,1.0526315789473684e-05,1.5789473684210526e-05,2.105263157894737e-05,2.6315789473684212e-05,3.157894736842105e-05,3.6842105263157895e-05,4.210526315789474e-05,4.736842105263158e-05,5.2631578947368424e-05,5.789473684210527e-05,6.31578947368421e-05,6.842105263157895e-05,7.368421052631579e-05,7.894736842105263e-05,8.421052631578948e-05,8.947368421052632e-05,9.473684210526316e-05,0.0001,0.0,5.263157894736842e-06,1.0526315789473684e-05,1.5789473684210526e-05,2.105263157894737e-05,2.6315789473684212e-05,3.157894736842105e-05,3.6842105263157895e-05,4.210526315789474e-05,4.736842105263158e-05,5.2631578947368424e-05,5.789473684210527e-05,6.31578947368421e-05,6.842105263157895e-05,7.368421052631579e-05,7.894736842105263e-05,8.421052631578948e-05,8.947368421052632e-05,9.473684210526316e-05,0.0001],\"y\":[-0.001,-0.001,-0.001,-0.001,-0.001,-0.001,-0.001,-0.001,-0.001,-0.001,-0.001,-0.001,-0.001,-0.001,-0.001,-0.001,-0.001,-0.001,-0.001,-0.001,-0.0008947368421052632,-0.0008947368421052632,-0.0008947368421052632,-0.0008947368421052632,-0.0008947368421052632,-0.0008947368421052632,-0.0008947368421052632,-0.0008947368421052632,-0.0008947368421052632,-0.0008947368421052632,-0.0008947368421052632,-0.0008947368421052632,-0.0008947368421052632,-0.0008947368421052632,-0.0008947368421052632,-0.0008947368421052632,-0.0008947368421052632,-0.0008947368421052632,-0.0008947368421052632,-0.0008947368421052632,-0.0007894736842105263,-0.0007894736842105263,-0.0007894736842105263,-0.0007894736842105263,-0.0007894736842105263,-0.0007894736842105263,-0.0007894736842105263,-0.0007894736842105263,-0.0007894736842105263,-0.0007894736842105263,-0.0007894736842105263,-0.0007894736842105263,-0.0007894736842105263,-0.0007894736842105263,-0.0007894736842105263,-0.0007894736842105263,-0.0007894736842105263,-0.0007894736842105263,-0.0007894736842105263,-0.0007894736842105263,-0.0006842105263157895,-0.0006842105263157895,-0.0006842105263157895,-0.0006842105263157895,-0.0006842105263157895,-0.0006842105263157895,-0.0006842105263157895,-0.0006842105263157895,-0.0006842105263157895,-0.0006842105263157895,-0.0006842105263157895,-0.0006842105263157895,-0.0006842105263157895,-0.0006842105263157895,-0.0006842105263157895,-0.0006842105263157895,-0.0006842105263157895,-0.0006842105263157895,-0.0006842105263157895,-0.0006842105263157895,-0.0005789473684210526,-0.0005789473684210526,-0.0005789473684210526,-0.0005789473684210526,-0.0005789473684210526,-0.0005789473684210526,-0.0005789473684210526,-0.0005789473684210526,-0.0005789473684210526,-0.0005789473684210526,-0.0005789473684210526,-0.0005789473684210526,-0.0005789473684210526,-0.0005789473684210526,-0.0005789473684210526,-0.0005789473684210526,-0.0005789473684210526,-0.0005789473684210526,-0.0005789473684210526,-0.0005789473684210526,-0.0004736842105263158,-0.0004736842105263158,-0.0004736842105263158,-0.0004736842105263158,-0.0004736842105263158,-0.0004736842105263158,-0.0004736842105263158,-0.0004736842105263158,-0.0004736842105263158,-0.0004736842105263158,-0.0004736842105263158,-0.0004736842105263158,-0.0004736842105263158,-0.0004736842105263158,-0.0004736842105263158,-0.0004736842105263158,-0.0004736842105263158,-0.0004736842105263158,-0.0004736842105263158,-0.0004736842105263158,-0.00036842105263157896,-0.00036842105263157896,-0.00036842105263157896,-0.00036842105263157896,-0.00036842105263157896,-0.00036842105263157896,-0.00036842105263157896,-0.00036842105263157896,-0.00036842105263157896,-0.00036842105263157896,-0.00036842105263157896,-0.00036842105263157896,-0.00036842105263157896,-0.00036842105263157896,-0.00036842105263157896,-0.00036842105263157896,-0.00036842105263157896,-0.00036842105263157896,-0.00036842105263157896,-0.00036842105263157896,-0.0002631578947368421,-0.0002631578947368421,-0.0002631578947368421,-0.0002631578947368421,-0.0002631578947368421,-0.0002631578947368421,-0.0002631578947368421,-0.0002631578947368421,-0.0002631578947368421,-0.0002631578947368421,-0.0002631578947368421,-0.0002631578947368421,-0.0002631578947368421,-0.0002631578947368421,-0.0002631578947368421,-0.0002631578947368421,-0.0002631578947368421,-0.0002631578947368421,-0.0002631578947368421,-0.0002631578947368421,-0.00015789473684210524,-0.00015789473684210524,-0.00015789473684210524,-0.00015789473684210524,-0.00015789473684210524,-0.00015789473684210524,-0.00015789473684210524,-0.00015789473684210524,-0.00015789473684210524,-0.00015789473684210524,-0.00015789473684210524,-0.00015789473684210524,-0.00015789473684210524,-0.00015789473684210524,-0.00015789473684210524,-0.00015789473684210524,-0.00015789473684210524,-0.00015789473684210524,-0.00015789473684210524,-0.00015789473684210524,-5.2631578947368376e-05,-5.2631578947368376e-05,-5.2631578947368376e-05,-5.2631578947368376e-05,-5.2631578947368376e-05,-5.2631578947368376e-05,-5.2631578947368376e-05,-5.2631578947368376e-05,-5.2631578947368376e-05,-5.2631578947368376e-05,-5.2631578947368376e-05,-5.2631578947368376e-05,-5.2631578947368376e-05,-5.2631578947368376e-05,-5.2631578947368376e-05,-5.2631578947368376e-05,-5.2631578947368376e-05,-5.2631578947368376e-05,-5.2631578947368376e-05,-5.2631578947368376e-05,5.2631578947368376e-05,5.2631578947368376e-05,5.2631578947368376e-05,5.2631578947368376e-05,5.2631578947368376e-05,5.2631578947368376e-05,5.2631578947368376e-05,5.2631578947368376e-05,5.2631578947368376e-05,5.2631578947368376e-05,5.2631578947368376e-05,5.2631578947368376e-05,5.2631578947368376e-05,5.2631578947368376e-05,5.2631578947368376e-05,5.2631578947368376e-05,5.2631578947368376e-05,5.2631578947368376e-05,5.2631578947368376e-05,5.2631578947368376e-05,0.00015789473684210535,0.00015789473684210535,0.00015789473684210535,0.00015789473684210535,0.00015789473684210535,0.00015789473684210535,0.00015789473684210535,0.00015789473684210535,0.00015789473684210535,0.00015789473684210535,0.00015789473684210535,0.00015789473684210535,0.00015789473684210535,0.00015789473684210535,0.00015789473684210535,0.00015789473684210535,0.00015789473684210535,0.00015789473684210535,0.00015789473684210535,0.00015789473684210535,0.0002631578947368421,0.0002631578947368421,0.0002631578947368421,0.0002631578947368421,0.0002631578947368421,0.0002631578947368421,0.0002631578947368421,0.0002631578947368421,0.0002631578947368421,0.0002631578947368421,0.0002631578947368421,0.0002631578947368421,0.0002631578947368421,0.0002631578947368421,0.0002631578947368421,0.0002631578947368421,0.0002631578947368421,0.0002631578947368421,0.0002631578947368421,0.0002631578947368421,0.00036842105263157907,0.00036842105263157907,0.00036842105263157907,0.00036842105263157907,0.00036842105263157907,0.00036842105263157907,0.00036842105263157907,0.00036842105263157907,0.00036842105263157907,0.00036842105263157907,0.00036842105263157907,0.00036842105263157907,0.00036842105263157907,0.00036842105263157907,0.00036842105263157907,0.00036842105263157907,0.00036842105263157907,0.00036842105263157907,0.00036842105263157907,0.00036842105263157907,0.0004736842105263158,0.0004736842105263158,0.0004736842105263158,0.0004736842105263158,0.0004736842105263158,0.0004736842105263158,0.0004736842105263158,0.0004736842105263158,0.0004736842105263158,0.0004736842105263158,0.0004736842105263158,0.0004736842105263158,0.0004736842105263158,0.0004736842105263158,0.0004736842105263158,0.0004736842105263158,0.0004736842105263158,0.0004736842105263158,0.0004736842105263158,0.0004736842105263158,0.0005789473684210528,0.0005789473684210528,0.0005789473684210528,0.0005789473684210528,0.0005789473684210528,0.0005789473684210528,0.0005789473684210528,0.0005789473684210528,0.0005789473684210528,0.0005789473684210528,0.0005789473684210528,0.0005789473684210528,0.0005789473684210528,0.0005789473684210528,0.0005789473684210528,0.0005789473684210528,0.0005789473684210528,0.0005789473684210528,0.0005789473684210528,0.0005789473684210528,0.0006842105263157895,0.0006842105263157895,0.0006842105263157895,0.0006842105263157895,0.0006842105263157895,0.0006842105263157895,0.0006842105263157895,0.0006842105263157895,0.0006842105263157895,0.0006842105263157895,0.0006842105263157895,0.0006842105263157895,0.0006842105263157895,0.0006842105263157895,0.0006842105263157895,0.0006842105263157895,0.0006842105263157895,0.0006842105263157895,0.0006842105263157895,0.0006842105263157895,0.0007894736842105263,0.0007894736842105263,0.0007894736842105263,0.0007894736842105263,0.0007894736842105263,0.0007894736842105263,0.0007894736842105263,0.0007894736842105263,0.0007894736842105263,0.0007894736842105263,0.0007894736842105263,0.0007894736842105263,0.0007894736842105263,0.0007894736842105263,0.0007894736842105263,0.0007894736842105263,0.0007894736842105263,0.0007894736842105263,0.0007894736842105263,0.0007894736842105263,0.0008947368421052633,0.0008947368421052633,0.0008947368421052633,0.0008947368421052633,0.0008947368421052633,0.0008947368421052633,0.0008947368421052633,0.0008947368421052633,0.0008947368421052633,0.0008947368421052633,0.0008947368421052633,0.0008947368421052633,0.0008947368421052633,0.0008947368421052633,0.0008947368421052633,0.0008947368421052633,0.0008947368421052633,0.0008947368421052633,0.0008947368421052633,0.0008947368421052633,0.001,0.001,0.001,0.001,0.001,0.001,0.001,0.001,0.001,0.001,0.001,0.001,0.001,0.001,0.001,0.001,0.001,0.001,0.001,0.001],\"z\":[0.541237155549858,0.541237155243662,0.5412371549224738,0.5412371545862924,0.5412371542351168,0.5412371538689522,0.5412371534877953,0.5412371530916444,0.5412371526805002,0.5412371522543615,0.5412371518132315,0.5412371513571067,0.5412371508859946,0.5412371503998837,0.5412371498987835,0.5412371493826899,0.5412371488516029,0.5412371483055226,0.54123714774445,0.5412371471683883,0.5412372801311811,0.5412372798249864,0.5412372795037973,0.5412372791676141,0.5412372788164402,0.5412372784502705,0.5412372780691155,0.5412372776729608,0.5412372772618184,0.5412372768356817,0.54123727639455,0.5412372759384259,0.5412372754673122,0.5412372749812022,0.541237274480102,0.5412372739640091,0.5412372734329222,0.5412372728868438,0.5412372723257701,0.5412372717497068,0.5412373987154159,0.5412373984092211,0.541237398088033,0.5412373977518498,0.5412373974006797,0.5412373970345117,0.5412373966533522,0.5412373962572005,0.5412373958460542,0.541237395419915,0.5412373949787888,0.5412373945226655,0.541237394051548,0.5412373935654392,0.5412373930643378,0.5412373925482451,0.541237392017159,0.5412373914710805,0.5412373909100051,0.5412373903339436,0.5412375113025675,0.5412375109963744,0.5412375106751837,0.541237510339004,0.5412375099878295,0.5412375096216625,0.5412375092405021,0.5412375088443503,0.5412375084332052,0.5412375080070694,0.5412375075659395,0.5412375071098164,0.5412375066387007,0.5412375061525884,0.5412375056514905,0.541237505135395,0.5412375046043081,0.5412375040582288,0.541237503497156,0.5412375029210936,0.54123761789263,0.5412376175864353,0.541237617265243,0.5412376169290642,0.5412376165778906,0.5412376162117211,0.5412376158305632,0.5412376154344105,0.5412376150232663,0.5412376145971269,0.5412376141559955,0.5412376136998731,0.5412376132287583,0.5412376127426504,0.5412376122415465,0.5412376117254544,0.5412376111943683,0.5412376106482899,0.5412376100872154,0.5412376095111514,0.5412377184855961,0.5412377181794021,0.5412377178582107,0.5412377175220304,0.5412377171708548,0.541237716804687,0.5412377164235295,0.5412377160273786,0.5412377156162343,0.541237715190095,0.5412377147489624,0.5412377142928403,0.5412377138217264,0.5412377133356167,0.5412377128345134,0.5412377123184207,0.5412377117873328,0.5412377112412516,0.5412377106801817,0.5412377101041147,0.541237813081466,0.5412378127752697,0.5412378124540799,0.5412378121179005,0.5412378117667259,0.5412378114005569,0.5412378110193994,0.5412378106232476,0.541237810212098,0.5412378097859633,0.5412378093448327,0.5412378088887102,0.5412378084175948,0.5412378079314858,0.5412378074303854,0.5412378069142882,0.5412378063832002,0.5412378058371226,0.541237805276048,0.5412378046999823,0.5412379016802348,0.5412379013740382,0.5412379010528494,0.5412379007166682,0.5412379003654917,0.5412378999993248,0.5412378996181682,0.5412378992220146,0.5412378988108704,0.5412378983847319,0.5412378979436011,0.5412378974874763,0.5412378970163606,0.5412378965302527,0.5412378960291506,0.5412378955130567,0.5412378949819697,0.5412378944358903,0.5412378938748177,0.5412378932987516,0.5412379842818983,0.5412379839757044,0.5412379836545136,0.5412379833183325,0.5412379829671597,0.5412379826009908,0.5412379822198332,0.5412379818236779,0.5412379814125354,0.5412379809863973,0.5412379805452664,0.541237980089144,0.5412379796180268,0.5412379791319168,0.5412379786308157,0.5412379781147221,0.541237977583634,0.5412379770375537,0.541237976476481,0.541237975900417,0.5412380608864591,0.5412380605802635,0.5412380602590747,0.5412380599228906,0.541238059571717,0.5412380592055528,0.541238058824394,0.5412380584282396,0.5412380580170927,0.5412380575909551,0.5412380571498254,0.5412380566937013,0.5412380562225865,0.5412380557364741,0.5412380552353747,0.54123805471928,0.5412380541881939,0.5412380536421127,0.5412380530810391,0.5412380525049749,0.5412381314939101,0.5412381311877136,0.5412381308665231,0.5412381305303433,0.541238130179168,0.5412381298130035,0.5412381294318406,0.5412381290356906,0.5412381286245437,0.5412381281984052,0.5412381277572744,0.541238127301153,0.5412381268300348,0.5412381263439258,0.5412381258428228,0.5412381253267273,0.5412381247956413,0.5412381242495646,0.5412381236884892,0.5412381231124224,0.5412381961042494,0.5412381957980511,0.5412381954768648,0.5412381951406815,0.5412381947895089,0.5412381944233399,0.5412381940421814,0.541238193646027,0.5412381932348815,0.5412381928087443,0.5412381923676153,0.5412381919114893,0.5412381914403753,0.5412381909542657,0.5412381904531653,0.5412381899370688,0.5412381894059837,0.5412381888598989,0.541238188298828,0.5412381877227622,0.5412382547174756,0.5412382544112782,0.54123825409009,0.5412382537539059,0.541238253402732,0.5412382530365678,0.5412382526554081,0.5412382522592537,0.5412382518481077,0.5412382514219694,0.5412382509808402,0.5412382505247179,0.5412382500536015,0.5412382495674916,0.5412382490663877,0.541238248550292,0.5412382480192068,0.5412382474731274,0.5412382469120532,0.5412382463359873,0.541238307333587,0.5412383070273905,0.5412383067061994,0.5412383063700189,0.5412383060188442,0.5412383056526789,0.5412383052715194,0.5412383048753641,0.541238304464216,0.541238304038082,0.541238303596952,0.5412383031408288,0.5412383026697115,0.5412383021835989,0.5412383016824986,0.5412383011664041,0.5412383006353172,0.5412383000892351,0.5412382995281633,0.5412382989520991,0.5412383539525788,0.5412383536463848,0.5412383533251947,0.541238352989015,0.5412383526378385,0.5412383522716713,0.54123835189051,0.5412383514943587,0.5412383510832111,0.5412383506570753,0.5412383502159452,0.5412383497598238,0.5412383492887063,0.5412383488025949,0.5412383483014934,0.5412383477853971,0.5412383472543102,0.541238346708229,0.5412383461471572,0.5412383455710932,0.5412383945744571,0.5412383942682585,0.5412383939470718,0.5412383936108887,0.5412383932597155,0.5412383928935465,0.5412383925123868,0.5412383921162348,0.5412383917050906,0.541238391278951,0.5412383908378183,0.5412383903816951,0.5412383899105787,0.5412383894244707,0.5412383889233694,0.5412383884072747,0.541238387876186,0.5412383873301065,0.5412383867690332,0.5412383861929672,0.5412384291992114,0.5412384288930145,0.5412384285718271,0.5412384282356454,0.5412384278844689,0.5412384275183014,0.5412384271371435,0.5412384267409907,0.5412384263298455,0.541238425903706,0.5412384254625769,0.5412384250064527,0.5412384245353343,0.5412384240492253,0.5412384235481241,0.5412384230320278,0.5412384225009409,0.5412384219548633,0.5412384213937887,0.5412384208177221,0.5412384578268458,0.5412384575206495,0.5412384571994612,0.5412384568632794,0.5412384565121053,0.5412384561459388,0.5412384557647774,0.5412384553686254,0.5412384549574781,0.5412384545313403,0.5412384540902095,0.5412384536340872,0.5412384531629715,0.5412384526768615,0.5412384521757576,0.5412384516596629,0.5412384511285742,0.5412384505824959,0.5412384500214241,0.5412384494453566,0.5412384804573593,0.5412384801511613,0.5412384798299726,0.5412384794937924,0.5412384791426184,0.5412384787764509,0.5412384783952922,0.5412384779991364,0.5412384775879936,0.541238477161854,0.5412384767207241,0.5412384762646,0.5412384757934824,0.5412384753073735,0.5412384748062684,0.5412384742901766,0.5412384737590905,0.5412384732130087,0.541238472651936,0.5412384720758694,0.5412384970907473,0.5412384967845509,0.5412384964633641,0.5412384961271821,0.5412384957760088,0.5412384954098411,0.5412384950286797,0.5412384946325284,0.541238494221382,0.5412384937952442,0.5412384933541122,0.541238492897989,0.541238492426873,0.5412384919407633,0.5412384914396627,0.5412384909235665,0.5412384903924777,0.5412384898463978,0.541238489285325,0.541238488709262],\"type\":\"scatter3d\"},{\"mode\":\"markers\",\"x\":[1.749027093115263e-06,2.8486116747391832e-05,7.920342606554293e-05,8.647103866902583e-05,5.482299063500942e-05,1.123120253927098e-05,4.4495907671218494e-05,4.601012281962716e-05,3.3671385742908125e-05,1.8712777283052473e-05,1.3210203994591609e-05,8.198783075111104e-06,5.4522926371474766e-05,5.88787915812131e-05,3.346853176856943e-05,4.016406919272847e-05,1.4617642058355407e-05,3.7427055624344456e-06,1.5206782544023679e-05,2.6311903992324417e-05,2.874523484341315e-05,9.505888386030898e-05,1.6478338022933327e-05,9.006696587638664e-06,6.79914691937932e-05,3.060759666375992e-05,3.477780936045416e-06,9.62847380415031e-05,8.895603495940223e-05,7.281009213924426e-05,9.917553504679501e-05,1.4266544519129043e-05,6.0774633915169464e-06,4.66770986739871e-05,6.894078317568419e-05,7.12535043859182e-05,9.26427123967295e-05,6.16505735181776e-05,3.52939314109096e-05,1.5531754408554921e-06,7.443675178743386e-05],\"y\":[0.000783146534360517,-0.0004020472450820843,-0.00035105880504354237,-0.00010497473557225163,-0.00028565601034002096,-0.0007162056903034057,0.00046396045037382376,0.00018548881795074483,-9.11443583434204e-05,-0.0001823295734465788,-0.0009257793700303227,-0.0005731200978393175,0.00031013269674694515,0.00014996717430201833,-0.0002388551226061177,0.0003586496642776838,0.0005775684365962714,0.00022726077497283348,0.0005437541002972191,0.0005439384595962978,0.00030335874800500135,0.0008369486849325993,-0.0003244125789079426,0.00038567666424978967,0.0008183313395106399,-0.0006357849883519449,-0.00025960189861066096,0.00015849068030067892,3.539965667800015e-05,-0.00023442227916576394,-0.00021472853639916203,0.0008140408411808062,-0.000816714111651147,-0.000998405391886144,-0.00023846784147534765,0.0002135247467202055,-0.0008401944209358483,0.0001987203668646683,-0.0003245975765907523,0.0006619607612115791,-0.00029965906707239286],\"z\":[0.5412384561754144,0.5412377816785486,0.541237821915407,0.5412380166127236,0.5412378793230149,0.5412374770440964,0.5412383468364541,0.5412382088652419,0.541238031336969,0.5412379644852078,0.541237243218205,0.5412376231346736,0.5412382750401322,0.5412381871674408,0.5412379190808972,0.5412382999858601,0.5412383931936634,0.54123823518669,0.5412383807348335,0.5412383800492075,0.5412382736648292,0.541238460935693,0.5412378498437198,0.5412383148536187,0.5412384595178874,0.5412375590927962,0.54123790436791,0.5412381884796796,0.5412381131557835,0.5412379192578164,0.5412379321381269,0.5412384627802805,0.5412373682479648,0.5412371542431803,0.5412379163944698,0.5412382224098733,0.5412373347442332,0.5412382150215078,0.5412378483556807,0.5412384222915245,0.5412378659128922],\"type\":\"scatter3d\"}],                        {\"template\":{\"data\":{\"histogram2dcontour\":[{\"type\":\"histogram2dcontour\",\"colorbar\":{\"outlinewidth\":0,\"ticks\":\"\"},\"colorscale\":[[0.0,\"#0d0887\"],[0.1111111111111111,\"#46039f\"],[0.2222222222222222,\"#7201a8\"],[0.3333333333333333,\"#9c179e\"],[0.4444444444444444,\"#bd3786\"],[0.5555555555555556,\"#d8576b\"],[0.6666666666666666,\"#ed7953\"],[0.7777777777777778,\"#fb9f3a\"],[0.8888888888888888,\"#fdca26\"],[1.0,\"#f0f921\"]]}],\"choropleth\":[{\"type\":\"choropleth\",\"colorbar\":{\"outlinewidth\":0,\"ticks\":\"\"}}],\"histogram2d\":[{\"type\":\"histogram2d\",\"colorbar\":{\"outlinewidth\":0,\"ticks\":\"\"},\"colorscale\":[[0.0,\"#0d0887\"],[0.1111111111111111,\"#46039f\"],[0.2222222222222222,\"#7201a8\"],[0.3333333333333333,\"#9c179e\"],[0.4444444444444444,\"#bd3786\"],[0.5555555555555556,\"#d8576b\"],[0.6666666666666666,\"#ed7953\"],[0.7777777777777778,\"#fb9f3a\"],[0.8888888888888888,\"#fdca26\"],[1.0,\"#f0f921\"]]}],\"heatmap\":[{\"type\":\"heatmap\",\"colorbar\":{\"outlinewidth\":0,\"ticks\":\"\"},\"colorscale\":[[0.0,\"#0d0887\"],[0.1111111111111111,\"#46039f\"],[0.2222222222222222,\"#7201a8\"],[0.3333333333333333,\"#9c179e\"],[0.4444444444444444,\"#bd3786\"],[0.5555555555555556,\"#d8576b\"],[0.6666666666666666,\"#ed7953\"],[0.7777777777777778,\"#fb9f3a\"],[0.8888888888888888,\"#fdca26\"],[1.0,\"#f0f921\"]]}],\"heatmapgl\":[{\"type\":\"heatmapgl\",\"colorbar\":{\"outlinewidth\":0,\"ticks\":\"\"},\"colorscale\":[[0.0,\"#0d0887\"],[0.1111111111111111,\"#46039f\"],[0.2222222222222222,\"#7201a8\"],[0.3333333333333333,\"#9c179e\"],[0.4444444444444444,\"#bd3786\"],[0.5555555555555556,\"#d8576b\"],[0.6666666666666666,\"#ed7953\"],[0.7777777777777778,\"#fb9f3a\"],[0.8888888888888888,\"#fdca26\"],[1.0,\"#f0f921\"]]}],\"contourcarpet\":[{\"type\":\"contourcarpet\",\"colorbar\":{\"outlinewidth\":0,\"ticks\":\"\"}}],\"contour\":[{\"type\":\"contour\",\"colorbar\":{\"outlinewidth\":0,\"ticks\":\"\"},\"colorscale\":[[0.0,\"#0d0887\"],[0.1111111111111111,\"#46039f\"],[0.2222222222222222,\"#7201a8\"],[0.3333333333333333,\"#9c179e\"],[0.4444444444444444,\"#bd3786\"],[0.5555555555555556,\"#d8576b\"],[0.6666666666666666,\"#ed7953\"],[0.7777777777777778,\"#fb9f3a\"],[0.8888888888888888,\"#fdca26\"],[1.0,\"#f0f921\"]]}],\"surface\":[{\"type\":\"surface\",\"colorbar\":{\"outlinewidth\":0,\"ticks\":\"\"},\"colorscale\":[[0.0,\"#0d0887\"],[0.1111111111111111,\"#46039f\"],[0.2222222222222222,\"#7201a8\"],[0.3333333333333333,\"#9c179e\"],[0.4444444444444444,\"#bd3786\"],[0.5555555555555556,\"#d8576b\"],[0.6666666666666666,\"#ed7953\"],[0.7777777777777778,\"#fb9f3a\"],[0.8888888888888888,\"#fdca26\"],[1.0,\"#f0f921\"]]}],\"mesh3d\":[{\"type\":\"mesh3d\",\"colorbar\":{\"outlinewidth\":0,\"ticks\":\"\"}}],\"scatter\":[{\"fillpattern\":{\"fillmode\":\"overlay\",\"size\":10,\"solidity\":0.2},\"type\":\"scatter\"}],\"parcoords\":[{\"type\":\"parcoords\",\"line\":{\"colorbar\":{\"outlinewidth\":0,\"ticks\":\"\"}}}],\"scatterpolargl\":[{\"type\":\"scatterpolargl\",\"marker\":{\"colorbar\":{\"outlinewidth\":0,\"ticks\":\"\"}}}],\"bar\":[{\"error_x\":{\"color\":\"#2a3f5f\"},\"error_y\":{\"color\":\"#2a3f5f\"},\"marker\":{\"line\":{\"color\":\"#E5ECF6\",\"width\":0.5},\"pattern\":{\"fillmode\":\"overlay\",\"size\":10,\"solidity\":0.2}},\"type\":\"bar\"}],\"scattergeo\":[{\"type\":\"scattergeo\",\"marker\":{\"colorbar\":{\"outlinewidth\":0,\"ticks\":\"\"}}}],\"scatterpolar\":[{\"type\":\"scatterpolar\",\"marker\":{\"colorbar\":{\"outlinewidth\":0,\"ticks\":\"\"}}}],\"histogram\":[{\"marker\":{\"pattern\":{\"fillmode\":\"overlay\",\"size\":10,\"solidity\":0.2}},\"type\":\"histogram\"}],\"scattergl\":[{\"type\":\"scattergl\",\"marker\":{\"colorbar\":{\"outlinewidth\":0,\"ticks\":\"\"}}}],\"scatter3d\":[{\"type\":\"scatter3d\",\"line\":{\"colorbar\":{\"outlinewidth\":0,\"ticks\":\"\"}},\"marker\":{\"colorbar\":{\"outlinewidth\":0,\"ticks\":\"\"}}}],\"scattermapbox\":[{\"type\":\"scattermapbox\",\"marker\":{\"colorbar\":{\"outlinewidth\":0,\"ticks\":\"\"}}}],\"scatterternary\":[{\"type\":\"scatterternary\",\"marker\":{\"colorbar\":{\"outlinewidth\":0,\"ticks\":\"\"}}}],\"scattercarpet\":[{\"type\":\"scattercarpet\",\"marker\":{\"colorbar\":{\"outlinewidth\":0,\"ticks\":\"\"}}}],\"carpet\":[{\"aaxis\":{\"endlinecolor\":\"#2a3f5f\",\"gridcolor\":\"white\",\"linecolor\":\"white\",\"minorgridcolor\":\"white\",\"startlinecolor\":\"#2a3f5f\"},\"baxis\":{\"endlinecolor\":\"#2a3f5f\",\"gridcolor\":\"white\",\"linecolor\":\"white\",\"minorgridcolor\":\"white\",\"startlinecolor\":\"#2a3f5f\"},\"type\":\"carpet\"}],\"table\":[{\"cells\":{\"fill\":{\"color\":\"#EBF0F8\"},\"line\":{\"color\":\"white\"}},\"header\":{\"fill\":{\"color\":\"#C8D4E3\"},\"line\":{\"color\":\"white\"}},\"type\":\"table\"}],\"barpolar\":[{\"marker\":{\"line\":{\"color\":\"#E5ECF6\",\"width\":0.5},\"pattern\":{\"fillmode\":\"overlay\",\"size\":10,\"solidity\":0.2}},\"type\":\"barpolar\"}],\"pie\":[{\"automargin\":true,\"type\":\"pie\"}]},\"layout\":{\"autotypenumbers\":\"strict\",\"colorway\":[\"#636efa\",\"#EF553B\",\"#00cc96\",\"#ab63fa\",\"#FFA15A\",\"#19d3f3\",\"#FF6692\",\"#B6E880\",\"#FF97FF\",\"#FECB52\"],\"font\":{\"color\":\"#2a3f5f\"},\"hovermode\":\"closest\",\"hoverlabel\":{\"align\":\"left\"},\"paper_bgcolor\":\"white\",\"plot_bgcolor\":\"#E5ECF6\",\"polar\":{\"bgcolor\":\"#E5ECF6\",\"angularaxis\":{\"gridcolor\":\"white\",\"linecolor\":\"white\",\"ticks\":\"\"},\"radialaxis\":{\"gridcolor\":\"white\",\"linecolor\":\"white\",\"ticks\":\"\"}},\"ternary\":{\"bgcolor\":\"#E5ECF6\",\"aaxis\":{\"gridcolor\":\"white\",\"linecolor\":\"white\",\"ticks\":\"\"},\"baxis\":{\"gridcolor\":\"white\",\"linecolor\":\"white\",\"ticks\":\"\"},\"caxis\":{\"gridcolor\":\"white\",\"linecolor\":\"white\",\"ticks\":\"\"}},\"coloraxis\":{\"colorbar\":{\"outlinewidth\":0,\"ticks\":\"\"}},\"colorscale\":{\"sequential\":[[0.0,\"#0d0887\"],[0.1111111111111111,\"#46039f\"],[0.2222222222222222,\"#7201a8\"],[0.3333333333333333,\"#9c179e\"],[0.4444444444444444,\"#bd3786\"],[0.5555555555555556,\"#d8576b\"],[0.6666666666666666,\"#ed7953\"],[0.7777777777777778,\"#fb9f3a\"],[0.8888888888888888,\"#fdca26\"],[1.0,\"#f0f921\"]],\"sequentialminus\":[[0.0,\"#0d0887\"],[0.1111111111111111,\"#46039f\"],[0.2222222222222222,\"#7201a8\"],[0.3333333333333333,\"#9c179e\"],[0.4444444444444444,\"#bd3786\"],[0.5555555555555556,\"#d8576b\"],[0.6666666666666666,\"#ed7953\"],[0.7777777777777778,\"#fb9f3a\"],[0.8888888888888888,\"#fdca26\"],[1.0,\"#f0f921\"]],\"diverging\":[[0,\"#8e0152\"],[0.1,\"#c51b7d\"],[0.2,\"#de77ae\"],[0.3,\"#f1b6da\"],[0.4,\"#fde0ef\"],[0.5,\"#f7f7f7\"],[0.6,\"#e6f5d0\"],[0.7,\"#b8e186\"],[0.8,\"#7fbc41\"],[0.9,\"#4d9221\"],[1,\"#276419\"]]},\"xaxis\":{\"gridcolor\":\"white\",\"linecolor\":\"white\",\"ticks\":\"\",\"title\":{\"standoff\":15},\"zerolinecolor\":\"white\",\"automargin\":true,\"zerolinewidth\":2},\"yaxis\":{\"gridcolor\":\"white\",\"linecolor\":\"white\",\"ticks\":\"\",\"title\":{\"standoff\":15},\"zerolinecolor\":\"white\",\"automargin\":true,\"zerolinewidth\":2},\"scene\":{\"xaxis\":{\"backgroundcolor\":\"#E5ECF6\",\"gridcolor\":\"white\",\"linecolor\":\"white\",\"showbackground\":true,\"ticks\":\"\",\"zerolinecolor\":\"white\",\"gridwidth\":2},\"yaxis\":{\"backgroundcolor\":\"#E5ECF6\",\"gridcolor\":\"white\",\"linecolor\":\"white\",\"showbackground\":true,\"ticks\":\"\",\"zerolinecolor\":\"white\",\"gridwidth\":2},\"zaxis\":{\"backgroundcolor\":\"#E5ECF6\",\"gridcolor\":\"white\",\"linecolor\":\"white\",\"showbackground\":true,\"ticks\":\"\",\"zerolinecolor\":\"white\",\"gridwidth\":2}},\"shapedefaults\":{\"line\":{\"color\":\"#2a3f5f\"}},\"annotationdefaults\":{\"arrowcolor\":\"#2a3f5f\",\"arrowhead\":0,\"arrowwidth\":1},\"geo\":{\"bgcolor\":\"white\",\"landcolor\":\"#E5ECF6\",\"subunitcolor\":\"white\",\"showland\":true,\"showlakes\":true,\"lakecolor\":\"white\"},\"title\":{\"x\":0.05},\"mapbox\":{\"style\":\"light\"}}}},                        {\"responsive\": true}                    ).then(function(){\n",
              "                            \n",
              "var gd = document.getElementById('80e86319-a6fd-4559-b494-a343f0c342cb');\n",
              "var x = new MutationObserver(function (mutations, observer) {{\n",
              "        var display = window.getComputedStyle(gd).display;\n",
              "        if (!display || display === 'none') {{\n",
              "            console.log([gd, 'removed!']);\n",
              "            Plotly.purge(gd);\n",
              "            observer.disconnect();\n",
              "        }}\n",
              "}});\n",
              "\n",
              "// Listen for the removal of the full notebook cells\n",
              "var notebookContainer = gd.closest('#notebook-container');\n",
              "if (notebookContainer) {{\n",
              "    x.observe(notebookContainer, {childList: true});\n",
              "}}\n",
              "\n",
              "// Listen for the clearing of the current output cell\n",
              "var outputEl = gd.closest('.output');\n",
              "if (outputEl) {{\n",
              "    x.observe(outputEl, {childList: true});\n",
              "}}\n",
              "\n",
              "                        })                };                            </script>        </div>\n",
              "</body>\n",
              "</html>"
            ]
          },
          "metadata": {}
        }
      ]
    },
    {
      "cell_type": "markdown",
      "source": [
        "### how is this random function different from, just summing randomly distributed Gaussians (random means & random covariances)?\n",
        "\n",
        "lets build this function..."
      ],
      "metadata": {
        "id": "_n7MLLtPD6NV"
      }
    },
    {
      "cell_type": "markdown",
      "source": [
        "### we need to detect when the matrix is not PSD, if the matrix is degenerate?? PSD can be degenerate, PD cannot be degenerate??"
      ],
      "metadata": {
        "id": "A8Xobk4zRlAH"
      }
    },
    {
      "cell_type": "code",
      "source": [
        "#i.i.d. gaussians...."
      ],
      "metadata": {
        "id": "aMv3ZAxuWRnt"
      },
      "execution_count": 13,
      "outputs": []
    },
    {
      "cell_type": "code",
      "source": [],
      "metadata": {
        "id": "yQxkgg0iNlIF"
      },
      "execution_count": 13,
      "outputs": []
    },
    {
      "cell_type": "code",
      "source": [],
      "metadata": {
        "id": "Z5tLbRUlEcFZ"
      },
      "execution_count": 13,
      "outputs": []
    }
  ]
}