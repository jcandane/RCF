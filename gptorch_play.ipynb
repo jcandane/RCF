{
  "nbformat": 4,
  "nbformat_minor": 0,
  "metadata": {
    "colab": {
      "provenance": [],
      "collapsed_sections": [
        "WbdoVxl-0nR_",
        "6RcxOKdkxCg5"
      ],
      "authorship_tag": "ABX9TyMlJRz+kM+GicAkKwfC/UAK",
      "include_colab_link": true
    },
    "kernelspec": {
      "name": "python3",
      "display_name": "Python 3"
    },
    "language_info": {
      "name": "python"
    }
  },
  "cells": [
    {
      "cell_type": "markdown",
      "metadata": {
        "id": "view-in-github",
        "colab_type": "text"
      },
      "source": [
        "<a href=\"https://colab.research.google.com/github/jcandane/RCF/blob/main/gptorch_play.ipynb\" target=\"_parent\"><img src=\"https://colab.research.google.com/assets/colab-badge.svg\" alt=\"Open In Colab\"/></a>"
      ]
    },
    {
      "cell_type": "code",
      "execution_count": 1,
      "metadata": {
        "id": "paDn4_6jyGnJ",
        "colab": {
          "base_uri": "https://localhost:8080/"
        },
        "outputId": "3291aa48-5cc5-421d-b9f7-83f6f4c29895"
      },
      "outputs": [
        {
          "output_type": "stream",
          "name": "stdout",
          "text": [
            "Collecting gpytorch\n",
            "  Downloading gpytorch-1.11-py3-none-any.whl (266 kB)\n",
            "\u001b[2K     \u001b[90m━━━━━━━━━━━━━━━━━━━━━━━━━━━━━━━━━━━━━━━━\u001b[0m \u001b[32m266.1/266.1 kB\u001b[0m \u001b[31m2.3 MB/s\u001b[0m eta \u001b[36m0:00:00\u001b[0m\n",
            "\u001b[?25hRequirement already satisfied: scikit-learn in /usr/local/lib/python3.10/dist-packages (from gpytorch) (1.2.2)\n",
            "Collecting linear-operator>=0.5.0 (from gpytorch)\n",
            "  Downloading linear_operator-0.5.2-py3-none-any.whl (175 kB)\n",
            "\u001b[2K     \u001b[90m━━━━━━━━━━━━━━━━━━━━━━━━━━━━━━━━━━━━━━━━\u001b[0m \u001b[32m175.6/175.6 kB\u001b[0m \u001b[31m7.1 MB/s\u001b[0m eta \u001b[36m0:00:00\u001b[0m\n",
            "\u001b[?25hRequirement already satisfied: torch>=1.11 in /usr/local/lib/python3.10/dist-packages (from linear-operator>=0.5.0->gpytorch) (2.2.1+cu121)\n",
            "Requirement already satisfied: scipy in /usr/local/lib/python3.10/dist-packages (from linear-operator>=0.5.0->gpytorch) (1.11.4)\n",
            "Collecting jaxtyping>=0.2.9 (from linear-operator>=0.5.0->gpytorch)\n",
            "  Downloading jaxtyping-0.2.28-py3-none-any.whl (40 kB)\n",
            "\u001b[2K     \u001b[90m━━━━━━━━━━━━━━━━━━━━━━━━━━━━━━━━━━━━━━━━\u001b[0m \u001b[32m40.7/40.7 kB\u001b[0m \u001b[31m1.6 MB/s\u001b[0m eta \u001b[36m0:00:00\u001b[0m\n",
            "\u001b[?25hCollecting typeguard~=2.13.3 (from linear-operator>=0.5.0->gpytorch)\n",
            "  Downloading typeguard-2.13.3-py3-none-any.whl (17 kB)\n",
            "Requirement already satisfied: numpy>=1.17.3 in /usr/local/lib/python3.10/dist-packages (from scikit-learn->gpytorch) (1.25.2)\n",
            "Requirement already satisfied: joblib>=1.1.1 in /usr/local/lib/python3.10/dist-packages (from scikit-learn->gpytorch) (1.3.2)\n",
            "Requirement already satisfied: threadpoolctl>=2.0.0 in /usr/local/lib/python3.10/dist-packages (from scikit-learn->gpytorch) (3.3.0)\n",
            "Requirement already satisfied: filelock in /usr/local/lib/python3.10/dist-packages (from torch>=1.11->linear-operator>=0.5.0->gpytorch) (3.13.1)\n",
            "Requirement already satisfied: typing-extensions>=4.8.0 in /usr/local/lib/python3.10/dist-packages (from torch>=1.11->linear-operator>=0.5.0->gpytorch) (4.10.0)\n",
            "Requirement already satisfied: sympy in /usr/local/lib/python3.10/dist-packages (from torch>=1.11->linear-operator>=0.5.0->gpytorch) (1.12)\n",
            "Requirement already satisfied: networkx in /usr/local/lib/python3.10/dist-packages (from torch>=1.11->linear-operator>=0.5.0->gpytorch) (3.2.1)\n",
            "Requirement already satisfied: jinja2 in /usr/local/lib/python3.10/dist-packages (from torch>=1.11->linear-operator>=0.5.0->gpytorch) (3.1.3)\n",
            "Requirement already satisfied: fsspec in /usr/local/lib/python3.10/dist-packages (from torch>=1.11->linear-operator>=0.5.0->gpytorch) (2023.6.0)\n",
            "Collecting nvidia-cuda-nvrtc-cu12==12.1.105 (from torch>=1.11->linear-operator>=0.5.0->gpytorch)\n",
            "  Downloading nvidia_cuda_nvrtc_cu12-12.1.105-py3-none-manylinux1_x86_64.whl (23.7 MB)\n",
            "\u001b[2K     \u001b[90m━━━━━━━━━━━━━━━━━━━━━━━━━━━━━━━━━━━━━━━━\u001b[0m \u001b[32m23.7/23.7 MB\u001b[0m \u001b[31m16.0 MB/s\u001b[0m eta \u001b[36m0:00:00\u001b[0m\n",
            "\u001b[?25hCollecting nvidia-cuda-runtime-cu12==12.1.105 (from torch>=1.11->linear-operator>=0.5.0->gpytorch)\n",
            "  Downloading nvidia_cuda_runtime_cu12-12.1.105-py3-none-manylinux1_x86_64.whl (823 kB)\n",
            "\u001b[2K     \u001b[90m━━━━━━━━━━━━━━━━━━━━━━━━━━━━━━━━━━━━━━━━\u001b[0m \u001b[32m823.6/823.6 kB\u001b[0m \u001b[31m24.3 MB/s\u001b[0m eta \u001b[36m0:00:00\u001b[0m\n",
            "\u001b[?25hCollecting nvidia-cuda-cupti-cu12==12.1.105 (from torch>=1.11->linear-operator>=0.5.0->gpytorch)\n",
            "  Downloading nvidia_cuda_cupti_cu12-12.1.105-py3-none-manylinux1_x86_64.whl (14.1 MB)\n",
            "\u001b[2K     \u001b[90m━━━━━━━━━━━━━━━━━━━━━━━━━━━━━━━━━━━━━━━━\u001b[0m \u001b[32m14.1/14.1 MB\u001b[0m \u001b[31m11.3 MB/s\u001b[0m eta \u001b[36m0:00:00\u001b[0m\n",
            "\u001b[?25hCollecting nvidia-cudnn-cu12==8.9.2.26 (from torch>=1.11->linear-operator>=0.5.0->gpytorch)\n",
            "  Downloading nvidia_cudnn_cu12-8.9.2.26-py3-none-manylinux1_x86_64.whl (731.7 MB)\n",
            "\u001b[2K     \u001b[90m━━━━━━━━━━━━━━━━━━━━━━━━━━━━━━━━━━━━━━━━\u001b[0m \u001b[32m731.7/731.7 MB\u001b[0m \u001b[31m2.1 MB/s\u001b[0m eta \u001b[36m0:00:00\u001b[0m\n",
            "\u001b[?25hCollecting nvidia-cublas-cu12==12.1.3.1 (from torch>=1.11->linear-operator>=0.5.0->gpytorch)\n",
            "  Downloading nvidia_cublas_cu12-12.1.3.1-py3-none-manylinux1_x86_64.whl (410.6 MB)\n",
            "\u001b[2K     \u001b[90m━━━━━━━━━━━━━━━━━━━━━━━━━━━━━━━━━━━━━━━━\u001b[0m \u001b[32m410.6/410.6 MB\u001b[0m \u001b[31m3.6 MB/s\u001b[0m eta \u001b[36m0:00:00\u001b[0m\n",
            "\u001b[?25hCollecting nvidia-cufft-cu12==11.0.2.54 (from torch>=1.11->linear-operator>=0.5.0->gpytorch)\n",
            "  Downloading nvidia_cufft_cu12-11.0.2.54-py3-none-manylinux1_x86_64.whl (121.6 MB)\n",
            "\u001b[2K     \u001b[90m━━━━━━━━━━━━━━━━━━━━━━━━━━━━━━━━━━━━━━━━\u001b[0m \u001b[32m121.6/121.6 MB\u001b[0m \u001b[31m8.5 MB/s\u001b[0m eta \u001b[36m0:00:00\u001b[0m\n",
            "\u001b[?25hCollecting nvidia-curand-cu12==10.3.2.106 (from torch>=1.11->linear-operator>=0.5.0->gpytorch)\n",
            "  Downloading nvidia_curand_cu12-10.3.2.106-py3-none-manylinux1_x86_64.whl (56.5 MB)\n",
            "\u001b[2K     \u001b[90m━━━━━━━━━━━━━━━━━━━━━━━━━━━━━━━━━━━━━━━━\u001b[0m \u001b[32m56.5/56.5 MB\u001b[0m \u001b[31m10.9 MB/s\u001b[0m eta \u001b[36m0:00:00\u001b[0m\n",
            "\u001b[?25hCollecting nvidia-cusolver-cu12==11.4.5.107 (from torch>=1.11->linear-operator>=0.5.0->gpytorch)\n",
            "  Downloading nvidia_cusolver_cu12-11.4.5.107-py3-none-manylinux1_x86_64.whl (124.2 MB)\n",
            "\u001b[2K     \u001b[90m━━━━━━━━━━━━━━━━━━━━━━━━━━━━━━━━━━━━━━━━\u001b[0m \u001b[32m124.2/124.2 MB\u001b[0m \u001b[31m7.5 MB/s\u001b[0m eta \u001b[36m0:00:00\u001b[0m\n",
            "\u001b[?25hCollecting nvidia-cusparse-cu12==12.1.0.106 (from torch>=1.11->linear-operator>=0.5.0->gpytorch)\n",
            "  Downloading nvidia_cusparse_cu12-12.1.0.106-py3-none-manylinux1_x86_64.whl (196.0 MB)\n",
            "\u001b[2K     \u001b[90m━━━━━━━━━━━━━━━━━━━━━━━━━━━━━━━━━━━━━━━━\u001b[0m \u001b[32m196.0/196.0 MB\u001b[0m \u001b[31m2.6 MB/s\u001b[0m eta \u001b[36m0:00:00\u001b[0m\n",
            "\u001b[?25hCollecting nvidia-nccl-cu12==2.19.3 (from torch>=1.11->linear-operator>=0.5.0->gpytorch)\n",
            "  Downloading nvidia_nccl_cu12-2.19.3-py3-none-manylinux1_x86_64.whl (166.0 MB)\n",
            "\u001b[2K     \u001b[90m━━━━━━━━━━━━━━━━━━━━━━━━━━━━━━━━━━━━━━━━\u001b[0m \u001b[32m166.0/166.0 MB\u001b[0m \u001b[31m5.5 MB/s\u001b[0m eta \u001b[36m0:00:00\u001b[0m\n",
            "\u001b[?25hCollecting nvidia-nvtx-cu12==12.1.105 (from torch>=1.11->linear-operator>=0.5.0->gpytorch)\n",
            "  Downloading nvidia_nvtx_cu12-12.1.105-py3-none-manylinux1_x86_64.whl (99 kB)\n",
            "\u001b[2K     \u001b[90m━━━━━━━━━━━━━━━━━━━━━━━━━━━━━━━━━━━━━━━━\u001b[0m \u001b[32m99.1/99.1 kB\u001b[0m \u001b[31m11.9 MB/s\u001b[0m eta \u001b[36m0:00:00\u001b[0m\n",
            "\u001b[?25hRequirement already satisfied: triton==2.2.0 in /usr/local/lib/python3.10/dist-packages (from torch>=1.11->linear-operator>=0.5.0->gpytorch) (2.2.0)\n",
            "Collecting nvidia-nvjitlink-cu12 (from nvidia-cusolver-cu12==11.4.5.107->torch>=1.11->linear-operator>=0.5.0->gpytorch)\n",
            "  Downloading nvidia_nvjitlink_cu12-12.4.99-py3-none-manylinux2014_x86_64.whl (21.1 MB)\n",
            "\u001b[2K     \u001b[90m━━━━━━━━━━━━━━━━━━━━━━━━━━━━━━━━━━━━━━━━\u001b[0m \u001b[32m21.1/21.1 MB\u001b[0m \u001b[31m60.5 MB/s\u001b[0m eta \u001b[36m0:00:00\u001b[0m\n",
            "\u001b[?25hRequirement already satisfied: MarkupSafe>=2.0 in /usr/local/lib/python3.10/dist-packages (from jinja2->torch>=1.11->linear-operator>=0.5.0->gpytorch) (2.1.5)\n",
            "Requirement already satisfied: mpmath>=0.19 in /usr/local/lib/python3.10/dist-packages (from sympy->torch>=1.11->linear-operator>=0.5.0->gpytorch) (1.3.0)\n",
            "Installing collected packages: typeguard, nvidia-nvtx-cu12, nvidia-nvjitlink-cu12, nvidia-nccl-cu12, nvidia-curand-cu12, nvidia-cufft-cu12, nvidia-cuda-runtime-cu12, nvidia-cuda-nvrtc-cu12, nvidia-cuda-cupti-cu12, nvidia-cublas-cu12, nvidia-cusparse-cu12, nvidia-cudnn-cu12, jaxtyping, nvidia-cusolver-cu12, linear-operator, gpytorch\n",
            "Successfully installed gpytorch-1.11 jaxtyping-0.2.28 linear-operator-0.5.2 nvidia-cublas-cu12-12.1.3.1 nvidia-cuda-cupti-cu12-12.1.105 nvidia-cuda-nvrtc-cu12-12.1.105 nvidia-cuda-runtime-cu12-12.1.105 nvidia-cudnn-cu12-8.9.2.26 nvidia-cufft-cu12-11.0.2.54 nvidia-curand-cu12-10.3.2.106 nvidia-cusolver-cu12-11.4.5.107 nvidia-cusparse-cu12-12.1.0.106 nvidia-nccl-cu12-2.19.3 nvidia-nvjitlink-cu12-12.4.99 nvidia-nvtx-cu12-12.1.105 typeguard-2.13.3\n",
            "Collecting pyro-ppl\n",
            "  Downloading pyro_ppl-1.9.0-py3-none-any.whl (745 kB)\n",
            "\u001b[2K     \u001b[90m━━━━━━━━━━━━━━━━━━━━━━━━━━━━━━━━━━━━━━━━\u001b[0m \u001b[32m745.2/745.2 kB\u001b[0m \u001b[31m8.5 MB/s\u001b[0m eta \u001b[36m0:00:00\u001b[0m\n",
            "\u001b[?25hRequirement already satisfied: numpy>=1.7 in /usr/local/lib/python3.10/dist-packages (from pyro-ppl) (1.25.2)\n",
            "Requirement already satisfied: opt-einsum>=2.3.2 in /usr/local/lib/python3.10/dist-packages (from pyro-ppl) (3.3.0)\n",
            "Collecting pyro-api>=0.1.1 (from pyro-ppl)\n",
            "  Downloading pyro_api-0.1.2-py3-none-any.whl (11 kB)\n",
            "Requirement already satisfied: torch>=2.0 in /usr/local/lib/python3.10/dist-packages (from pyro-ppl) (2.2.1+cu121)\n",
            "Requirement already satisfied: tqdm>=4.36 in /usr/local/lib/python3.10/dist-packages (from pyro-ppl) (4.66.2)\n",
            "Requirement already satisfied: filelock in /usr/local/lib/python3.10/dist-packages (from torch>=2.0->pyro-ppl) (3.13.1)\n",
            "Requirement already satisfied: typing-extensions>=4.8.0 in /usr/local/lib/python3.10/dist-packages (from torch>=2.0->pyro-ppl) (4.10.0)\n",
            "Requirement already satisfied: sympy in /usr/local/lib/python3.10/dist-packages (from torch>=2.0->pyro-ppl) (1.12)\n",
            "Requirement already satisfied: networkx in /usr/local/lib/python3.10/dist-packages (from torch>=2.0->pyro-ppl) (3.2.1)\n",
            "Requirement already satisfied: jinja2 in /usr/local/lib/python3.10/dist-packages (from torch>=2.0->pyro-ppl) (3.1.3)\n",
            "Requirement already satisfied: fsspec in /usr/local/lib/python3.10/dist-packages (from torch>=2.0->pyro-ppl) (2023.6.0)\n",
            "Requirement already satisfied: nvidia-cuda-nvrtc-cu12==12.1.105 in /usr/local/lib/python3.10/dist-packages (from torch>=2.0->pyro-ppl) (12.1.105)\n",
            "Requirement already satisfied: nvidia-cuda-runtime-cu12==12.1.105 in /usr/local/lib/python3.10/dist-packages (from torch>=2.0->pyro-ppl) (12.1.105)\n",
            "Requirement already satisfied: nvidia-cuda-cupti-cu12==12.1.105 in /usr/local/lib/python3.10/dist-packages (from torch>=2.0->pyro-ppl) (12.1.105)\n",
            "Requirement already satisfied: nvidia-cudnn-cu12==8.9.2.26 in /usr/local/lib/python3.10/dist-packages (from torch>=2.0->pyro-ppl) (8.9.2.26)\n",
            "Requirement already satisfied: nvidia-cublas-cu12==12.1.3.1 in /usr/local/lib/python3.10/dist-packages (from torch>=2.0->pyro-ppl) (12.1.3.1)\n",
            "Requirement already satisfied: nvidia-cufft-cu12==11.0.2.54 in /usr/local/lib/python3.10/dist-packages (from torch>=2.0->pyro-ppl) (11.0.2.54)\n",
            "Requirement already satisfied: nvidia-curand-cu12==10.3.2.106 in /usr/local/lib/python3.10/dist-packages (from torch>=2.0->pyro-ppl) (10.3.2.106)\n",
            "Requirement already satisfied: nvidia-cusolver-cu12==11.4.5.107 in /usr/local/lib/python3.10/dist-packages (from torch>=2.0->pyro-ppl) (11.4.5.107)\n",
            "Requirement already satisfied: nvidia-cusparse-cu12==12.1.0.106 in /usr/local/lib/python3.10/dist-packages (from torch>=2.0->pyro-ppl) (12.1.0.106)\n",
            "Requirement already satisfied: nvidia-nccl-cu12==2.19.3 in /usr/local/lib/python3.10/dist-packages (from torch>=2.0->pyro-ppl) (2.19.3)\n",
            "Requirement already satisfied: nvidia-nvtx-cu12==12.1.105 in /usr/local/lib/python3.10/dist-packages (from torch>=2.0->pyro-ppl) (12.1.105)\n",
            "Requirement already satisfied: triton==2.2.0 in /usr/local/lib/python3.10/dist-packages (from torch>=2.0->pyro-ppl) (2.2.0)\n",
            "Requirement already satisfied: nvidia-nvjitlink-cu12 in /usr/local/lib/python3.10/dist-packages (from nvidia-cusolver-cu12==11.4.5.107->torch>=2.0->pyro-ppl) (12.4.99)\n",
            "Requirement already satisfied: MarkupSafe>=2.0 in /usr/local/lib/python3.10/dist-packages (from jinja2->torch>=2.0->pyro-ppl) (2.1.5)\n",
            "Requirement already satisfied: mpmath>=0.19 in /usr/local/lib/python3.10/dist-packages (from sympy->torch>=2.0->pyro-ppl) (1.3.0)\n",
            "Installing collected packages: pyro-api, pyro-ppl\n",
            "Successfully installed pyro-api-0.1.2 pyro-ppl-1.9.0\n"
          ]
        }
      ],
      "source": [
        "import torch\n",
        "import math\n",
        "\n",
        "###\n",
        "try:\n",
        "    import gpytorch\n",
        "except:\n",
        "    !pip install gpytorch\n",
        "    import gpytorch\n",
        "\n",
        "###\n",
        "try:\n",
        "    import pyro\n",
        "    from pyro.infer.mcmc import NUTS, MCMC, HMC\n",
        "except:\n",
        "    !pip install pyro-ppl\n",
        "    import pyro\n",
        "    from pyro.infer.mcmc import NUTS, MCMC, HMC\n",
        "\n",
        "from matplotlib import pyplot as plt\n",
        "import plotly.graph_objects as go"
      ]
    },
    {
      "cell_type": "code",
      "source": [
        "# Training data is 11 points in [0,1] inclusive regularly spaced\n",
        "train_x = torch.linspace(0, 1, 4)\n",
        "# True function is sin(2*pi*x) with Gaussian noise\n",
        "train_y = torch.sin(train_x * (2 * math.pi)) + torch.randn(train_x.size()) * 0.2\n",
        "\n",
        "# We will use the simplest form of GP model, exact inference\n",
        "class ExactGPModel(gpytorch.models.ExactGP):\n",
        "    def __init__(self, train_x, train_y, likelihood):\n",
        "        super(ExactGPModel, self).__init__(train_x, train_y, likelihood)\n",
        "        self.mean_module = gpytorch.means.ConstantMean()\n",
        "        self.covar_module = gpytorch.kernels.ScaleKernel(gpytorch.kernels.RBFKernel())\n",
        "\n",
        "    def forward(self, x):\n",
        "        mean_x = self.mean_module(x)\n",
        "        covar_x = self.covar_module(x)\n",
        "        return gpytorch.distributions.MultivariateNormal(mean_x, covar_x)\n",
        "\n"
      ],
      "metadata": {
        "id": "YT2NQKqiyOkw"
      },
      "execution_count": 2,
      "outputs": []
    },
    {
      "cell_type": "code",
      "source": [
        "k = ( gpytorch.kernels.RBFKernel() )"
      ],
      "metadata": {
        "id": "FlFBJf0pyTmL"
      },
      "execution_count": 3,
      "outputs": []
    },
    {
      "cell_type": "code",
      "source": [
        "covar_module = gpytorch.kernels.LinearKernel()\n",
        "x1 = torch.randn(8, 3)\n",
        "x2 = torch.randn(7, 3)\n",
        "lazy_covar_matrix = covar_module(x1)              # Returns a RootLinearOperator, ## abstract-sparse\n",
        "covariance_matrix = lazy_covar_matrix.to_dense()  # Gets the actual tensor for this kernel matrix\n",
        "\n",
        "covariance_matrix"
      ],
      "metadata": {
        "colab": {
          "base_uri": "https://localhost:8080/"
        },
        "id": "uIAL4ncHyU1D",
        "outputId": "180c3b78-e271-4a63-bb4f-27e808c01f9a"
      },
      "execution_count": 4,
      "outputs": [
        {
          "output_type": "execute_result",
          "data": {
            "text/plain": [
              "tensor([[ 4.4629, -0.4004, -2.5833,  1.4110,  1.8167, -0.8309,  1.0717,  2.0069],\n",
              "        [-0.4004,  1.3829, -1.5677, -0.8583, -0.1202,  0.6020, -0.8475,  0.4011],\n",
              "        [-2.5833, -1.5677,  4.5381,  0.0502, -1.6813,  0.9356,  0.7518, -2.9122],\n",
              "        [ 1.4110, -0.8583,  0.0502,  0.8627,  0.6502, -0.7499,  0.6832,  0.4875],\n",
              "        [ 1.8167, -0.1202, -1.6813,  0.6502,  1.2540, -1.3605,  0.0821,  1.7086],\n",
              "        [-0.8309,  0.6020,  0.9356, -0.7499, -1.3605,  2.4652,  0.1750, -1.9141],\n",
              "        [ 1.0717, -0.8475,  0.7518,  0.6832,  0.0821,  0.1750,  0.8890, -0.4042],\n",
              "        [ 2.0069,  0.4011, -2.9122,  0.4875,  1.7086, -1.9141, -0.4042,  2.6389]],\n",
              "       grad_fn=<MmBackward0>)"
            ]
          },
          "metadata": {},
          "execution_count": 4
        }
      ]
    },
    {
      "cell_type": "code",
      "source": [
        "torch.rand(2, 3)"
      ],
      "metadata": {
        "colab": {
          "base_uri": "https://localhost:8080/"
        },
        "id": "KvQN3dI7SilO",
        "outputId": "b5214955-1c80-4f16-9db3-c4a92830962b"
      },
      "execution_count": 5,
      "outputs": [
        {
          "output_type": "execute_result",
          "data": {
            "text/plain": [
              "tensor([[0.0284, 0.4245, 0.3037],\n",
              "        [0.7171, 0.0501, 0.0909]])"
            ]
          },
          "metadata": {},
          "execution_count": 5
        }
      ]
    },
    {
      "cell_type": "code",
      "source": [
        "k = gpytorch.kernels.ScaleKernel(gpytorch.kernels.RBFKernel())\n",
        "\n",
        "type( covar_module )"
      ],
      "metadata": {
        "colab": {
          "base_uri": "https://localhost:8080/",
          "height": 204
        },
        "id": "gUc1dtbzyPwf",
        "outputId": "63e2be26-e70f-4ad6-dd25-40e8744a097f"
      },
      "execution_count": 6,
      "outputs": [
        {
          "output_type": "execute_result",
          "data": {
            "text/plain": [
              "gpytorch.kernels.linear_kernel.LinearKernel"
            ],
            "text/html": [
              "<div style=\"max-width:800px; border: 1px solid var(--colab-border-color);\"><style>\n",
              "      pre.function-repr-contents {\n",
              "        overflow-x: auto;\n",
              "        padding: 8px 12px;\n",
              "        max-height: 500px;\n",
              "      }\n",
              "\n",
              "      pre.function-repr-contents.function-repr-contents-collapsed {\n",
              "        cursor: pointer;\n",
              "        max-height: 100px;\n",
              "      }\n",
              "    </style>\n",
              "    <pre style=\"white-space: initial; background:\n",
              "         var(--colab-secondary-surface-color); padding: 8px 12px;\n",
              "         border-bottom: 1px solid var(--colab-border-color);\"><b>gpytorch.kernels.linear_kernel.LinearKernel</b><br/>def __call__(x1: Tensor, x2: Optional[Tensor]=None, diag: bool=False, last_dim_is_batch: bool=False, **params) -&gt; Union[LazyEvaluatedKernelTensor, LinearOperator, Tensor]</pre><pre class=\"function-repr-contents function-repr-contents-collapsed\" style=\"\"><a class=\"filepath\" style=\"display:none\" href=\"#\">/usr/local/lib/python3.10/dist-packages/gpytorch/kernels/linear_kernel.py</a>Computes a covariance matrix based on the Linear kernel\n",
              "between inputs :math:`\\mathbf{x_1}` and :math:`\\mathbf{x_2}`:\n",
              "\n",
              ".. math::\n",
              "    \\begin{equation*}\n",
              "        k_\\text{Linear}(\\mathbf{x_1}, \\mathbf{x_2}) = v\\mathbf{x_1}^\\top\n",
              "        \\mathbf{x_2}.\n",
              "    \\end{equation*}\n",
              "\n",
              "where\n",
              "\n",
              "* :math:`v` is a variance parameter.\n",
              "\n",
              "\n",
              ".. note::\n",
              "\n",
              "    To implement this efficiently, we use a\n",
              "    :obj:`~linear_operator.operators.RootLinearOperator` during training\n",
              "    and a :class:`~linear_operator.operators.MatmulLinearOperator` during\n",
              "    test. These lazy tensors represent matrices of the form :math:`\\mathbf\n",
              "    K = \\mathbf X \\mathbf X^{\\prime \\top}`. This makes inference efficient\n",
              "    because a matrix-vector product :math:`\\mathbf K \\mathbf v` can be\n",
              "    computed as :math:`\\mathbf K \\mathbf v = \\mathbf X( \\mathbf X^{\\prime\n",
              "    \\top} \\mathbf v)`, where the base multiply :math:`\\mathbf X \\mathbf v`\n",
              "    takes only :math:`\\mathcal O(ND)` time and space.\n",
              "\n",
              ":param variance_prior: Prior over the variance parameter. (Default `None`.)\n",
              ":param variance_constraint: Constraint to place on variance parameter. (Default: `Positive`.)\n",
              ":param active_dims: List of data dimensions to operate on. `len(active_dims)` should equal `num_dimensions`.</pre>\n",
              "      <script>\n",
              "      if (google.colab.kernel.accessAllowed && google.colab.files && google.colab.files.view) {\n",
              "        for (const element of document.querySelectorAll('.filepath')) {\n",
              "          element.style.display = 'block'\n",
              "          element.onclick = (event) => {\n",
              "            event.preventDefault();\n",
              "            event.stopPropagation();\n",
              "            google.colab.files.view(element.textContent, 15);\n",
              "          };\n",
              "        }\n",
              "      }\n",
              "      for (const element of document.querySelectorAll('.function-repr-contents')) {\n",
              "        element.onclick = (event) => {\n",
              "          event.preventDefault();\n",
              "          event.stopPropagation();\n",
              "          element.classList.toggle('function-repr-contents-collapsed');\n",
              "        };\n",
              "      }\n",
              "      </script>\n",
              "      </div>"
            ]
          },
          "metadata": {},
          "execution_count": 6
        }
      ]
    },
    {
      "cell_type": "code",
      "source": [
        "lazy_covar_matrix"
      ],
      "metadata": {
        "colab": {
          "base_uri": "https://localhost:8080/"
        },
        "id": "Q6HMusPByWIB",
        "outputId": "15378667-1bbc-4683-e807-689ea8efddcf"
      },
      "execution_count": 7,
      "outputs": [
        {
          "output_type": "execute_result",
          "data": {
            "text/plain": [
              "<gpytorch.lazy.lazy_evaluated_kernel_tensor.LazyEvaluatedKernelTensor at 0x7d5b96420a00>"
            ]
          },
          "metadata": {},
          "execution_count": 7
        }
      ]
    },
    {
      "cell_type": "code",
      "source": [
        "gpytorch.kernels.LinearKernel()(x1, x2).to_dense().shape\n",
        "k(x1, x2).to_dense().shape"
      ],
      "metadata": {
        "colab": {
          "base_uri": "https://localhost:8080/"
        },
        "id": "c7g7GPXLyXTD",
        "outputId": "3cf057e7-58bc-431f-fc5e-5fc74314ae6d"
      },
      "execution_count": 8,
      "outputs": [
        {
          "output_type": "execute_result",
          "data": {
            "text/plain": [
              "torch.Size([8, 7])"
            ]
          },
          "metadata": {},
          "execution_count": 8
        }
      ]
    },
    {
      "cell_type": "code",
      "source": [
        "k(x1) #.to_dense()"
      ],
      "metadata": {
        "colab": {
          "base_uri": "https://localhost:8080/"
        },
        "id": "8P_uO8UlUTxa",
        "outputId": "567911c2-ef1f-44b3-8c34-a2f84f89e4a5"
      },
      "execution_count": 9,
      "outputs": [
        {
          "output_type": "execute_result",
          "data": {
            "text/plain": [
              "<gpytorch.lazy.lazy_evaluated_kernel_tensor.LazyEvaluatedKernelTensor at 0x7d5abf8e7bb0>"
            ]
          },
          "metadata": {},
          "execution_count": 9
        }
      ]
    },
    {
      "cell_type": "markdown",
      "source": [
        "# RCF torch function"
      ],
      "metadata": {
        "id": "Ir_W98H9S1a0"
      }
    },
    {
      "cell_type": "code",
      "source": [
        "torch.set_default_tensor_type(torch.DoubleTensor)\n",
        "torch.manual_seed(80)\n",
        "\n",
        "Domain = torch.tensor([[0,10.],[-3,4.]]) #torch.tensor([[0,10.],[-3,4.],[-8,-2]]) ### numpy.2darray\n",
        "N      = 3  ### number of defining points\n",
        "MO     = 1   ### int (dimension of OUT)\n",
        "\n",
        "kernel = gpytorch.kernels.RBFKernel() ##gpx.kernels.RBF()\n",
        "μ_i    = torch.zeros(N, dtype=torch.float64) ##jax.numpy.zeros(self.N)\n",
        "seed   = 137\n",
        "\n",
        "\n",
        "### set of randomly sampled points\n",
        "R_ix  = torch.rand(N, Domain.shape[0], dtype=torch.float64) ## domain.shape ??\n",
        "R_ix *= torch.diff(Domain, axis=1).reshape(-1)\n",
        "R_ix += Domain[:,0] ## save this!!!!!\n",
        "\n",
        "L_ij  = torch.linalg.cholesky( kernel(R_ix) ) ## .to_dense() for concrete implementation\n",
        "\n",
        "D_iX  = torch.normal(0, 1, size=(N, MO))\n",
        "D_iX *= torch.diag(L_ij.to_dense()).reshape(-1,1)\n",
        "D_iX += μ_i.reshape(-1,1)\n",
        "D_iX  = torch.matmul(L_ij, D_iX)\n",
        "#S_jX  = torch.linalg.solve(L_ij, D_iX)\n",
        "S_jX  = torch.cholesky_solve(D_iX, L_ij.to_dense()) ## save this!!!!!\n",
        "\n",
        "\n",
        "\n",
        "#####################\n",
        "### random points\n",
        "D_ax  = torch.rand(N, Domain.shape[0]) ## [0,1) domain.shape ??\n",
        "D_ax *= torch.diff(Domain, axis=1).reshape(-1)\n",
        "D_ax += Domain[:,0]\n",
        "\n",
        "D_ay  = torch.matmul(kernel(D_ax, R_ix), S_jX)"
      ],
      "metadata": {
        "id": "vuAupaV7Vz0H",
        "colab": {
          "base_uri": "https://localhost:8080/"
        },
        "outputId": "fe0b639e-2812-466c-c747-d4178a2d2f2a"
      },
      "execution_count": 10,
      "outputs": [
        {
          "output_type": "stream",
          "name": "stderr",
          "text": [
            "/usr/local/lib/python3.10/dist-packages/torch/__init__.py:696: UserWarning: torch.set_default_tensor_type() is deprecated as of PyTorch 2.1, please use torch.set_default_dtype() and torch.set_default_device() as alternatives. (Triggered internally at ../torch/csrc/tensor/python_tensor.cpp:451.)\n",
            "  _C._set_default_tensor_type(t)\n"
          ]
        }
      ]
    },
    {
      "cell_type": "code",
      "source": [
        "kernel.state_dict()"
      ],
      "metadata": {
        "colab": {
          "base_uri": "https://localhost:8080/"
        },
        "id": "tgsooFht0p_E",
        "outputId": "9b7b2f18-31b3-429f-d3b1-226ff5d659b3"
      },
      "execution_count": 11,
      "outputs": [
        {
          "output_type": "execute_result",
          "data": {
            "text/plain": [
              "OrderedDict([('raw_lengthscale', tensor([[0.]])),\n",
              "             ('raw_lengthscale_constraint.lower_bound', tensor(0.)),\n",
              "             ('raw_lengthscale_constraint.upper_bound', tensor(inf))])"
            ]
          },
          "metadata": {},
          "execution_count": 11
        }
      ]
    },
    {
      "cell_type": "code",
      "source": [
        "from torch.autograd import grad\n",
        "#d_loss_dx = grad(outputs=D_ay, inputs=R_ix)"
      ],
      "metadata": {
        "id": "qOnnP6IX0UbP"
      },
      "execution_count": 12,
      "outputs": []
    },
    {
      "cell_type": "code",
      "source": [
        "#### generate mesh to plot\n",
        "R_ax = torch.stack(torch.meshgrid(*[ torch.arange(Domain[i,0], Domain[i,1], 0.33) for i in range(len(Domain)) ]), axis=-1)\n",
        "R_ax = R_ax.reshape((torch.prod( torch.asarray(R_ax.shape[:-1]) ), R_ax.shape[-1]))\n",
        "\n",
        "R_ay = (torch.matmul(kernel(R_ax, R_ix), S_jX)).detach().numpy()\n",
        "R_ax = R_ax.detach().numpy()\n",
        "\n",
        "#### the plot\n",
        "fig = go.Figure(data=[go.Scatter3d(x=R_ax[:,0], y=R_ax[:,1], z=R_ay[:,0], mode='markers'),\n",
        "                      go.Scatter3d(x=R_ix.detach().numpy()[:,0], y=R_ix.detach().numpy()[:,1], z=D_iX.detach().numpy()[:,0], mode='markers'),\n",
        "                      go.Scatter3d(x=D_ax.detach().numpy()[:,0], y=D_ax.detach().numpy()[:,1], z=D_ay.detach().numpy()[:,0], mode='markers')])\n",
        "fig.show()"
      ],
      "metadata": {
        "colab": {
          "base_uri": "https://localhost:8080/",
          "height": 597
        },
        "id": "0wVEsTfqh8lu",
        "outputId": "59ffb588-c6be-44f8-ce4d-b252376d2dc6"
      },
      "execution_count": 13,
      "outputs": [
        {
          "output_type": "stream",
          "name": "stderr",
          "text": [
            "/usr/local/lib/python3.10/dist-packages/torch/functional.py:507: UserWarning: torch.meshgrid: in an upcoming release, it will be required to pass the indexing argument. (Triggered internally at ../aten/src/ATen/native/TensorShape.cpp:3549.)\n",
            "  return _VF.meshgrid(tensors, **kwargs)  # type: ignore[attr-defined]\n"
          ]
        },
        {
          "output_type": "display_data",
          "data": {
            "text/html": [
              "<html>\n",
              "<head><meta charset=\"utf-8\" /></head>\n",
              "<body>\n",
              "    <div>            <script src=\"https://cdnjs.cloudflare.com/ajax/libs/mathjax/2.7.5/MathJax.js?config=TeX-AMS-MML_SVG\"></script><script type=\"text/javascript\">if (window.MathJax && window.MathJax.Hub && window.MathJax.Hub.Config) {window.MathJax.Hub.Config({SVG: {font: \"STIX-Web\"}});}</script>                <script type=\"text/javascript\">window.PlotlyConfig = {MathJaxConfig: 'local'};</script>\n",
              "        <script charset=\"utf-8\" src=\"https://cdn.plot.ly/plotly-2.24.1.min.js\"></script>                <div id=\"150d67df-cc7e-4c31-8cb5-a38459d9ac87\" class=\"plotly-graph-div\" style=\"height:525px; width:100%;\"></div>            <script type=\"text/javascript\">                                    window.PLOTLYENV=window.PLOTLYENV || {};                                    if (document.getElementById(\"150d67df-cc7e-4c31-8cb5-a38459d9ac87\")) {                    Plotly.newPlot(                        \"150d67df-cc7e-4c31-8cb5-a38459d9ac87\",                        [{\"mode\":\"markers\",\"x\":[0.0,0.0,0.0,0.0,0.0,0.0,0.0,0.0,0.0,0.0,0.0,0.0,0.0,0.0,0.0,0.0,0.0,0.0,0.0,0.0,0.0,0.0,0.33,0.33,0.33,0.33,0.33,0.33,0.33,0.33,0.33,0.33,0.33,0.33,0.33,0.33,0.33,0.33,0.33,0.33,0.33,0.33,0.33,0.33,0.66,0.66,0.66,0.66,0.66,0.66,0.66,0.66,0.66,0.66,0.66,0.66,0.66,0.66,0.66,0.66,0.66,0.66,0.66,0.66,0.66,0.66,0.99,0.99,0.99,0.99,0.99,0.99,0.99,0.99,0.99,0.99,0.99,0.99,0.99,0.99,0.99,0.99,0.99,0.99,0.99,0.99,0.99,0.99,1.32,1.32,1.32,1.32,1.32,1.32,1.32,1.32,1.32,1.32,1.32,1.32,1.32,1.32,1.32,1.32,1.32,1.32,1.32,1.32,1.32,1.32,1.6500000000000001,1.6500000000000001,1.6500000000000001,1.6500000000000001,1.6500000000000001,1.6500000000000001,1.6500000000000001,1.6500000000000001,1.6500000000000001,1.6500000000000001,1.6500000000000001,1.6500000000000001,1.6500000000000001,1.6500000000000001,1.6500000000000001,1.6500000000000001,1.6500000000000001,1.6500000000000001,1.6500000000000001,1.6500000000000001,1.6500000000000001,1.6500000000000001,1.98,1.98,1.98,1.98,1.98,1.98,1.98,1.98,1.98,1.98,1.98,1.98,1.98,1.98,1.98,1.98,1.98,1.98,1.98,1.98,1.98,1.98,2.31,2.31,2.31,2.31,2.31,2.31,2.31,2.31,2.31,2.31,2.31,2.31,2.31,2.31,2.31,2.31,2.31,2.31,2.31,2.31,2.31,2.31,2.64,2.64,2.64,2.64,2.64,2.64,2.64,2.64,2.64,2.64,2.64,2.64,2.64,2.64,2.64,2.64,2.64,2.64,2.64,2.64,2.64,2.64,2.97,2.97,2.97,2.97,2.97,2.97,2.97,2.97,2.97,2.97,2.97,2.97,2.97,2.97,2.97,2.97,2.97,2.97,2.97,2.97,2.97,2.97,3.3000000000000003,3.3000000000000003,3.3000000000000003,3.3000000000000003,3.3000000000000003,3.3000000000000003,3.3000000000000003,3.3000000000000003,3.3000000000000003,3.3000000000000003,3.3000000000000003,3.3000000000000003,3.3000000000000003,3.3000000000000003,3.3000000000000003,3.3000000000000003,3.3000000000000003,3.3000000000000003,3.3000000000000003,3.3000000000000003,3.3000000000000003,3.3000000000000003,3.6300000000000003,3.6300000000000003,3.6300000000000003,3.6300000000000003,3.6300000000000003,3.6300000000000003,3.6300000000000003,3.6300000000000003,3.6300000000000003,3.6300000000000003,3.6300000000000003,3.6300000000000003,3.6300000000000003,3.6300000000000003,3.6300000000000003,3.6300000000000003,3.6300000000000003,3.6300000000000003,3.6300000000000003,3.6300000000000003,3.6300000000000003,3.6300000000000003,3.96,3.96,3.96,3.96,3.96,3.96,3.96,3.96,3.96,3.96,3.96,3.96,3.96,3.96,3.96,3.96,3.96,3.96,3.96,3.96,3.96,3.96,4.29,4.29,4.29,4.29,4.29,4.29,4.29,4.29,4.29,4.29,4.29,4.29,4.29,4.29,4.29,4.29,4.29,4.29,4.29,4.29,4.29,4.29,4.62,4.62,4.62,4.62,4.62,4.62,4.62,4.62,4.62,4.62,4.62,4.62,4.62,4.62,4.62,4.62,4.62,4.62,4.62,4.62,4.62,4.62,4.95,4.95,4.95,4.95,4.95,4.95,4.95,4.95,4.95,4.95,4.95,4.95,4.95,4.95,4.95,4.95,4.95,4.95,4.95,4.95,4.95,4.95,5.28,5.28,5.28,5.28,5.28,5.28,5.28,5.28,5.28,5.28,5.28,5.28,5.28,5.28,5.28,5.28,5.28,5.28,5.28,5.28,5.28,5.28,5.61,5.61,5.61,5.61,5.61,5.61,5.61,5.61,5.61,5.61,5.61,5.61,5.61,5.61,5.61,5.61,5.61,5.61,5.61,5.61,5.61,5.61,5.94,5.94,5.94,5.94,5.94,5.94,5.94,5.94,5.94,5.94,5.94,5.94,5.94,5.94,5.94,5.94,5.94,5.94,5.94,5.94,5.94,5.94,6.2700000000000005,6.2700000000000005,6.2700000000000005,6.2700000000000005,6.2700000000000005,6.2700000000000005,6.2700000000000005,6.2700000000000005,6.2700000000000005,6.2700000000000005,6.2700000000000005,6.2700000000000005,6.2700000000000005,6.2700000000000005,6.2700000000000005,6.2700000000000005,6.2700000000000005,6.2700000000000005,6.2700000000000005,6.2700000000000005,6.2700000000000005,6.2700000000000005,6.6000000000000005,6.6000000000000005,6.6000000000000005,6.6000000000000005,6.6000000000000005,6.6000000000000005,6.6000000000000005,6.6000000000000005,6.6000000000000005,6.6000000000000005,6.6000000000000005,6.6000000000000005,6.6000000000000005,6.6000000000000005,6.6000000000000005,6.6000000000000005,6.6000000000000005,6.6000000000000005,6.6000000000000005,6.6000000000000005,6.6000000000000005,6.6000000000000005,6.930000000000001,6.930000000000001,6.930000000000001,6.930000000000001,6.930000000000001,6.930000000000001,6.930000000000001,6.930000000000001,6.930000000000001,6.930000000000001,6.930000000000001,6.930000000000001,6.930000000000001,6.930000000000001,6.930000000000001,6.930000000000001,6.930000000000001,6.930000000000001,6.930000000000001,6.930000000000001,6.930000000000001,6.930000000000001,7.260000000000001,7.260000000000001,7.260000000000001,7.260000000000001,7.260000000000001,7.260000000000001,7.260000000000001,7.260000000000001,7.260000000000001,7.260000000000001,7.260000000000001,7.260000000000001,7.260000000000001,7.260000000000001,7.260000000000001,7.260000000000001,7.260000000000001,7.260000000000001,7.260000000000001,7.260000000000001,7.260000000000001,7.260000000000001,7.590000000000001,7.590000000000001,7.590000000000001,7.590000000000001,7.590000000000001,7.590000000000001,7.590000000000001,7.590000000000001,7.590000000000001,7.590000000000001,7.590000000000001,7.590000000000001,7.590000000000001,7.590000000000001,7.590000000000001,7.590000000000001,7.590000000000001,7.590000000000001,7.590000000000001,7.590000000000001,7.590000000000001,7.590000000000001,7.92,7.92,7.92,7.92,7.92,7.92,7.92,7.92,7.92,7.92,7.92,7.92,7.92,7.92,7.92,7.92,7.92,7.92,7.92,7.92,7.92,7.92,8.25,8.25,8.25,8.25,8.25,8.25,8.25,8.25,8.25,8.25,8.25,8.25,8.25,8.25,8.25,8.25,8.25,8.25,8.25,8.25,8.25,8.25,8.58,8.58,8.58,8.58,8.58,8.58,8.58,8.58,8.58,8.58,8.58,8.58,8.58,8.58,8.58,8.58,8.58,8.58,8.58,8.58,8.58,8.58,8.91,8.91,8.91,8.91,8.91,8.91,8.91,8.91,8.91,8.91,8.91,8.91,8.91,8.91,8.91,8.91,8.91,8.91,8.91,8.91,8.91,8.91,9.24,9.24,9.24,9.24,9.24,9.24,9.24,9.24,9.24,9.24,9.24,9.24,9.24,9.24,9.24,9.24,9.24,9.24,9.24,9.24,9.24,9.24,9.57,9.57,9.57,9.57,9.57,9.57,9.57,9.57,9.57,9.57,9.57,9.57,9.57,9.57,9.57,9.57,9.57,9.57,9.57,9.57,9.57,9.57,9.9,9.9,9.9,9.9,9.9,9.9,9.9,9.9,9.9,9.9,9.9,9.9,9.9,9.9,9.9,9.9,9.9,9.9,9.9,9.9,9.9,9.9],\"y\":[-3.0,-2.67,-2.34,-2.01,-1.68,-1.3499999999999999,-1.02,-0.69,-0.3599999999999999,-0.02999999999999986,0.30000000000000016,0.6300000000000001,0.9600000000000002,1.2900000000000003,1.62,1.9500000000000002,2.2800000000000002,2.6100000000000003,2.9400000000000004,3.2700000000000005,3.6000000000000005,3.93,-3.0,-2.67,-2.34,-2.01,-1.68,-1.3499999999999999,-1.02,-0.69,-0.3599999999999999,-0.02999999999999986,0.30000000000000016,0.6300000000000001,0.9600000000000002,1.2900000000000003,1.62,1.9500000000000002,2.2800000000000002,2.6100000000000003,2.9400000000000004,3.2700000000000005,3.6000000000000005,3.93,-3.0,-2.67,-2.34,-2.01,-1.68,-1.3499999999999999,-1.02,-0.69,-0.3599999999999999,-0.02999999999999986,0.30000000000000016,0.6300000000000001,0.9600000000000002,1.2900000000000003,1.62,1.9500000000000002,2.2800000000000002,2.6100000000000003,2.9400000000000004,3.2700000000000005,3.6000000000000005,3.93,-3.0,-2.67,-2.34,-2.01,-1.68,-1.3499999999999999,-1.02,-0.69,-0.3599999999999999,-0.02999999999999986,0.30000000000000016,0.6300000000000001,0.9600000000000002,1.2900000000000003,1.62,1.9500000000000002,2.2800000000000002,2.6100000000000003,2.9400000000000004,3.2700000000000005,3.6000000000000005,3.93,-3.0,-2.67,-2.34,-2.01,-1.68,-1.3499999999999999,-1.02,-0.69,-0.3599999999999999,-0.02999999999999986,0.30000000000000016,0.6300000000000001,0.9600000000000002,1.2900000000000003,1.62,1.9500000000000002,2.2800000000000002,2.6100000000000003,2.9400000000000004,3.2700000000000005,3.6000000000000005,3.93,-3.0,-2.67,-2.34,-2.01,-1.68,-1.3499999999999999,-1.02,-0.69,-0.3599999999999999,-0.02999999999999986,0.30000000000000016,0.6300000000000001,0.9600000000000002,1.2900000000000003,1.62,1.9500000000000002,2.2800000000000002,2.6100000000000003,2.9400000000000004,3.2700000000000005,3.6000000000000005,3.93,-3.0,-2.67,-2.34,-2.01,-1.68,-1.3499999999999999,-1.02,-0.69,-0.3599999999999999,-0.02999999999999986,0.30000000000000016,0.6300000000000001,0.9600000000000002,1.2900000000000003,1.62,1.9500000000000002,2.2800000000000002,2.6100000000000003,2.9400000000000004,3.2700000000000005,3.6000000000000005,3.93,-3.0,-2.67,-2.34,-2.01,-1.68,-1.3499999999999999,-1.02,-0.69,-0.3599999999999999,-0.02999999999999986,0.30000000000000016,0.6300000000000001,0.9600000000000002,1.2900000000000003,1.62,1.9500000000000002,2.2800000000000002,2.6100000000000003,2.9400000000000004,3.2700000000000005,3.6000000000000005,3.93,-3.0,-2.67,-2.34,-2.01,-1.68,-1.3499999999999999,-1.02,-0.69,-0.3599999999999999,-0.02999999999999986,0.30000000000000016,0.6300000000000001,0.9600000000000002,1.2900000000000003,1.62,1.9500000000000002,2.2800000000000002,2.6100000000000003,2.9400000000000004,3.2700000000000005,3.6000000000000005,3.93,-3.0,-2.67,-2.34,-2.01,-1.68,-1.3499999999999999,-1.02,-0.69,-0.3599999999999999,-0.02999999999999986,0.30000000000000016,0.6300000000000001,0.9600000000000002,1.2900000000000003,1.62,1.9500000000000002,2.2800000000000002,2.6100000000000003,2.9400000000000004,3.2700000000000005,3.6000000000000005,3.93,-3.0,-2.67,-2.34,-2.01,-1.68,-1.3499999999999999,-1.02,-0.69,-0.3599999999999999,-0.02999999999999986,0.30000000000000016,0.6300000000000001,0.9600000000000002,1.2900000000000003,1.62,1.9500000000000002,2.2800000000000002,2.6100000000000003,2.9400000000000004,3.2700000000000005,3.6000000000000005,3.93,-3.0,-2.67,-2.34,-2.01,-1.68,-1.3499999999999999,-1.02,-0.69,-0.3599999999999999,-0.02999999999999986,0.30000000000000016,0.6300000000000001,0.9600000000000002,1.2900000000000003,1.62,1.9500000000000002,2.2800000000000002,2.6100000000000003,2.9400000000000004,3.2700000000000005,3.6000000000000005,3.93,-3.0,-2.67,-2.34,-2.01,-1.68,-1.3499999999999999,-1.02,-0.69,-0.3599999999999999,-0.02999999999999986,0.30000000000000016,0.6300000000000001,0.9600000000000002,1.2900000000000003,1.62,1.9500000000000002,2.2800000000000002,2.6100000000000003,2.9400000000000004,3.2700000000000005,3.6000000000000005,3.93,-3.0,-2.67,-2.34,-2.01,-1.68,-1.3499999999999999,-1.02,-0.69,-0.3599999999999999,-0.02999999999999986,0.30000000000000016,0.6300000000000001,0.9600000000000002,1.2900000000000003,1.62,1.9500000000000002,2.2800000000000002,2.6100000000000003,2.9400000000000004,3.2700000000000005,3.6000000000000005,3.93,-3.0,-2.67,-2.34,-2.01,-1.68,-1.3499999999999999,-1.02,-0.69,-0.3599999999999999,-0.02999999999999986,0.30000000000000016,0.6300000000000001,0.9600000000000002,1.2900000000000003,1.62,1.9500000000000002,2.2800000000000002,2.6100000000000003,2.9400000000000004,3.2700000000000005,3.6000000000000005,3.93,-3.0,-2.67,-2.34,-2.01,-1.68,-1.3499999999999999,-1.02,-0.69,-0.3599999999999999,-0.02999999999999986,0.30000000000000016,0.6300000000000001,0.9600000000000002,1.2900000000000003,1.62,1.9500000000000002,2.2800000000000002,2.6100000000000003,2.9400000000000004,3.2700000000000005,3.6000000000000005,3.93,-3.0,-2.67,-2.34,-2.01,-1.68,-1.3499999999999999,-1.02,-0.69,-0.3599999999999999,-0.02999999999999986,0.30000000000000016,0.6300000000000001,0.9600000000000002,1.2900000000000003,1.62,1.9500000000000002,2.2800000000000002,2.6100000000000003,2.9400000000000004,3.2700000000000005,3.6000000000000005,3.93,-3.0,-2.67,-2.34,-2.01,-1.68,-1.3499999999999999,-1.02,-0.69,-0.3599999999999999,-0.02999999999999986,0.30000000000000016,0.6300000000000001,0.9600000000000002,1.2900000000000003,1.62,1.9500000000000002,2.2800000000000002,2.6100000000000003,2.9400000000000004,3.2700000000000005,3.6000000000000005,3.93,-3.0,-2.67,-2.34,-2.01,-1.68,-1.3499999999999999,-1.02,-0.69,-0.3599999999999999,-0.02999999999999986,0.30000000000000016,0.6300000000000001,0.9600000000000002,1.2900000000000003,1.62,1.9500000000000002,2.2800000000000002,2.6100000000000003,2.9400000000000004,3.2700000000000005,3.6000000000000005,3.93,-3.0,-2.67,-2.34,-2.01,-1.68,-1.3499999999999999,-1.02,-0.69,-0.3599999999999999,-0.02999999999999986,0.30000000000000016,0.6300000000000001,0.9600000000000002,1.2900000000000003,1.62,1.9500000000000002,2.2800000000000002,2.6100000000000003,2.9400000000000004,3.2700000000000005,3.6000000000000005,3.93,-3.0,-2.67,-2.34,-2.01,-1.68,-1.3499999999999999,-1.02,-0.69,-0.3599999999999999,-0.02999999999999986,0.30000000000000016,0.6300000000000001,0.9600000000000002,1.2900000000000003,1.62,1.9500000000000002,2.2800000000000002,2.6100000000000003,2.9400000000000004,3.2700000000000005,3.6000000000000005,3.93,-3.0,-2.67,-2.34,-2.01,-1.68,-1.3499999999999999,-1.02,-0.69,-0.3599999999999999,-0.02999999999999986,0.30000000000000016,0.6300000000000001,0.9600000000000002,1.2900000000000003,1.62,1.9500000000000002,2.2800000000000002,2.6100000000000003,2.9400000000000004,3.2700000000000005,3.6000000000000005,3.93,-3.0,-2.67,-2.34,-2.01,-1.68,-1.3499999999999999,-1.02,-0.69,-0.3599999999999999,-0.02999999999999986,0.30000000000000016,0.6300000000000001,0.9600000000000002,1.2900000000000003,1.62,1.9500000000000002,2.2800000000000002,2.6100000000000003,2.9400000000000004,3.2700000000000005,3.6000000000000005,3.93,-3.0,-2.67,-2.34,-2.01,-1.68,-1.3499999999999999,-1.02,-0.69,-0.3599999999999999,-0.02999999999999986,0.30000000000000016,0.6300000000000001,0.9600000000000002,1.2900000000000003,1.62,1.9500000000000002,2.2800000000000002,2.6100000000000003,2.9400000000000004,3.2700000000000005,3.6000000000000005,3.93,-3.0,-2.67,-2.34,-2.01,-1.68,-1.3499999999999999,-1.02,-0.69,-0.3599999999999999,-0.02999999999999986,0.30000000000000016,0.6300000000000001,0.9600000000000002,1.2900000000000003,1.62,1.9500000000000002,2.2800000000000002,2.6100000000000003,2.9400000000000004,3.2700000000000005,3.6000000000000005,3.93,-3.0,-2.67,-2.34,-2.01,-1.68,-1.3499999999999999,-1.02,-0.69,-0.3599999999999999,-0.02999999999999986,0.30000000000000016,0.6300000000000001,0.9600000000000002,1.2900000000000003,1.62,1.9500000000000002,2.2800000000000002,2.6100000000000003,2.9400000000000004,3.2700000000000005,3.6000000000000005,3.93,-3.0,-2.67,-2.34,-2.01,-1.68,-1.3499999999999999,-1.02,-0.69,-0.3599999999999999,-0.02999999999999986,0.30000000000000016,0.6300000000000001,0.9600000000000002,1.2900000000000003,1.62,1.9500000000000002,2.2800000000000002,2.6100000000000003,2.9400000000000004,3.2700000000000005,3.6000000000000005,3.93,-3.0,-2.67,-2.34,-2.01,-1.68,-1.3499999999999999,-1.02,-0.69,-0.3599999999999999,-0.02999999999999986,0.30000000000000016,0.6300000000000001,0.9600000000000002,1.2900000000000003,1.62,1.9500000000000002,2.2800000000000002,2.6100000000000003,2.9400000000000004,3.2700000000000005,3.6000000000000005,3.93,-3.0,-2.67,-2.34,-2.01,-1.68,-1.3499999999999999,-1.02,-0.69,-0.3599999999999999,-0.02999999999999986,0.30000000000000016,0.6300000000000001,0.9600000000000002,1.2900000000000003,1.62,1.9500000000000002,2.2800000000000002,2.6100000000000003,2.9400000000000004,3.2700000000000005,3.6000000000000005,3.93,-3.0,-2.67,-2.34,-2.01,-1.68,-1.3499999999999999,-1.02,-0.69,-0.3599999999999999,-0.02999999999999986,0.30000000000000016,0.6300000000000001,0.9600000000000002,1.2900000000000003,1.62,1.9500000000000002,2.2800000000000002,2.6100000000000003,2.9400000000000004,3.2700000000000005,3.6000000000000005,3.93,-3.0,-2.67,-2.34,-2.01,-1.68,-1.3499999999999999,-1.02,-0.69,-0.3599999999999999,-0.02999999999999986,0.30000000000000016,0.6300000000000001,0.9600000000000002,1.2900000000000003,1.62,1.9500000000000002,2.2800000000000002,2.6100000000000003,2.9400000000000004,3.2700000000000005,3.6000000000000005,3.93],\"z\":[3.6429849345304417e-25,2.0634153241016505e-24,8.200162837667452e-24,2.4723139251102145e-23,5.814312798281824e-23,1.0791631107788794e-22,1.5891718385627813e-22,1.8613495013224918e-22,1.7360877762378636e-22,1.2901744753628282e-22,7.64146900417877e-23,3.607564813753903e-23,1.3576503652232807e-23,4.0729736522863784e-24,9.74073149617664e-25,1.8570815354633943e-25,2.822482813225959e-26,3.419741686401416e-27,3.3030664644836756e-28,2.543334642528036e-29,1.5611763618659626e-30,7.639461256465607e-32,3.201184506113412e-23,2.0074119405726608e-22,8.251546456245071e-22,2.5228016678909414e-21,5.970497980235517e-21,1.1114168510600014e-20,1.6389608446178987e-20,1.9209549188784258e-20,1.7922611672095063e-20,1.3321274475074067e-20,7.890542852011754e-21,3.725288940951687e-21,1.4019786254236638e-21,4.2059948793805594e-22,1.0058900051970881e-22,1.9177445345593227e-23,2.9146841813720042e-24,3.531455201764314e-25,3.410969285794853e-26,2.6264192320823847e-27,1.6121763008137654e-28,7.889024584591363e-30,2.02779660810722e-21,1.5188775716349857e-20,6.5584163765548e-20,2.0440551601959127e-19,4.878545927494214e-19,9.117054330414081e-19,1.346944522261127e-18,1.5800934867692966e-18,1.4748634671581247e-18,1.0964414701448052e-18,6.495156127251922e-19,3.066644695529123e-19,1.1541305381500782e-19,3.4624788720974326e-20,8.280779683353195e-21,1.5787473112607485e-21,2.3994622501085557e-22,2.907209865621684e-23,2.808022730601563e-24,2.1621554857802937e-25,1.3271971321032745e-26,6.494507546327832e-28,8.061323905073487e-20,8.81344804801613e-19,4.101577764628402e-18,1.3131351428158674e-17,3.170084315733757e-17,5.955220370073994e-17,8.819762761270644e-17,1.0358512766781953e-16,9.674089798113965e-17,7.193846183368485e-17,4.262083353145137e-17,2.0124410234593455e-17,7.574044438300544e-18,2.2723040041641204e-18,5.434425223146588e-19,1.0360876623836019e-19,1.5747025128742972e-20,1.907925140727196e-21,1.8428319546184227e-22,1.4189664216861477e-23,8.71005044819599e-25,4.262176994617346e-26,6.05464047435107e-19,3.8161271579136145e-17,2.0064059832186306e-16,6.674998056874866e-16,1.636770558409621e-15,3.0963045780522904e-15,4.60059591102661e-15,5.411590292554968e-15,5.057767575351047e-15,3.7623961866488515e-15,2.229461079665854e-15,1.0527787845866824e-15,3.962408110952658e-16,1.188792870694328e-16,2.843134699636119e-17,5.4205366202467716e-18,8.23844504876456e-19,9.981792042389523e-20,9.641245521415776e-21,7.423686676506455e-22,4.556886771472529e-23,2.229867576198951e-24,-1.7298615551789515e-16,1.1553564912250167e-15,7.602849627322969e-15,2.676922603391662e-14,6.707175485433477e-14,1.2807740681951207e-13,1.9112614127218977e-13,2.2527733660218622e-13,2.1075371393819398e-13,1.5685003029618818e-13,9.29647211552739e-14,4.3903869095151044e-14,1.6525239563017048e-14,4.957991871582892e-15,1.1857752943322276e-15,2.2607358772021455e-16,3.4360070056895143e-17,4.163110246999345e-18,4.021081062423767e-19,3.096203236236885e-20,1.9005448900740893e-21,9.300129585206912e-23,-1.4424880201339727e-14,1.932749383277502e-14,2.1930054778661942e-13,8.432112761788472e-13,2.17783176709659e-12,4.211986351896363e-12,6.321787616699114e-12,7.471570092331872e-12,6.998888330408208e-12,5.212030159586758e-12,3.0900805219446687e-12,1.4595427157960023e-12,5.494041118074245e-13,1.6484072077644596e-13,3.94246751450256e-14,7.516556911482235e-15,1.1424173918092513e-15,1.3841701226224335e-16,1.336948783458351e-17,1.029441299721457e-18,6.319029002260923e-20,3.092155029652706e-21,-6.848533581694655e-13,-1.534272932193563e-13,4.6448078719648104e-12,2.0716437863271978e-11,5.590350145873403e-11,1.1002215934641565e-10,1.664150311625636e-10,1.9738946507001817e-10,1.8521685184285957e-10,1.3804236220149308e-10,8.18739212197387e-11,3.8678955904767976e-11,1.456094262201469e-11,4.368991930732058e-12,1.0449466415523705e-12,1.9922755819748452e-13,3.028010860585267e-14,3.668792394325198e-15,3.543634661254057e-16,2.7285756654575782e-17,1.6748845640879606e-18,8.195884841812927e-20,-2.2882340084084314e-11,-2.175202209590228e-11,6.56722338170415e-11,3.9232377894950557e-10,1.1306056478479833e-09,2.279757971966869e-09,3.484448365988159e-09,4.152808253651131e-09,3.905501414379017e-09,2.9139078541627637e-09,1.7291531336676093e-09,8.170916306044991e-10,3.076363892533855e-10,9.231125685715547e-11,2.2079015942329036e-11,4.209600613593697e-12,6.398110743887856e-13,7.752090507682501e-14,7.487645960168893e-15,5.765442982565459e-16,3.539009377710522e-17,1.731780136040317e-18,-5.718908432212674e-10,-7.766972237845327e-10,3.864468212251363e-10,5.601916016982062e-09,1.7922311103890864e-08,3.7404092877726825e-08,5.7987282744078666e-08,6.955302970971919e-08,6.560667852221103e-08,4.9018945130646676e-08,2.9108340363131204e-08,1.3759326916493956e-08,5.181229667004084e-09,1.55483023620391e-09,3.7189817820528627e-10,7.090763049418077e-11,1.0777240406588481e-11,1.3057993773111386e-12,1.26125759286035e-13,9.711617995856367e-15,5.961297844569798e-16,2.9171042668057545e-17,-1.097416344140441e-08,-1.7679838101779884e-08,-7.529393596702468e-09,5.743720292845513e-08,2.2083619642246674e-07,4.846496257518413e-07,7.661845502687802e-07,9.26927257296012e-07,8.778116561023781e-07,6.571020988199164e-07,3.905498878634928e-07,1.846902213108957e-07,6.956167295183522e-08,2.0876794481603743e-08,4.99374054589092e-09,9.52149357211049e-10,1.447186792927346e-10,1.753459923778906e-11,1.6936525326593744e-12,1.3041052722275426e-13,8.005014561965307e-15,3.9171784735176167e-16,-1.638883405177741e-07,-2.913918601353652e-07,-2.597671908568921e-07,3.6429878725685765e-07,2.084692072193629e-06,4.939870530786006e-06,8.026050796046183e-06,9.823340478701935e-06,9.352179179697168e-06,7.018176083640848e-06,4.176215396899769e-06,1.9760482189296123e-06,7.44462399493207e-07,2.2345703416147702e-07,5.345445731876156e-08,1.0192398853796953e-08,1.5491817282785822e-09,1.8770537402074961e-10,1.813036871504501e-11,1.3960328381125594e-12,8.569300611604496e-14,4.193307166652643e-15,-1.9197864880636028e-06,-3.6336087326357433e-06,-4.228819803341416e-06,2.951034617591013e-07,1.4653506424268384e-05,3.9368188606572736e-05,6.651793915440945e-05,8.271542187285223e-05,7.930793836051421e-05,5.971189710065253e-05,3.558768948393045e-05,1.6851571362360397e-05,6.351005424604434e-06,1.9066428701604197e-06,4.5613741700231707e-07,8.697726079210845e-08,1.3220262428832118e-08,1.601837189375094e-09,1.5472129377755701e-10,1.1913511643721701e-11,7.312900865424851e-13,3.578498300499442e-14,-1.7726357046960787e-05,-3.498738289758909e-05,-4.678126466087325e-05,-2.3182223667456974e-05,7.160623152782971e-05,0.0002428671703252163,0.00043484559833548565,0.0005527347845784116,0.0005350440797497348,0.00040461283459974505,0.00024164529770206487,0.00011453780666096808,4.318743968353249e-05,1.2968319846290309e-05,3.1028289257745193e-06,5.916851757075383e-07,8.9936455175028e-08,1.089729906909006e-08,1.05257352535034e-09,8.10480301536758e-11,4.9749851301065304e-12,2.434454952417122e-13,-0.00012943546091896335,-0.00026302629353880397,-0.00038226005293440267,-0.0003054992536172832,0.00018792421458064103,0.0011390316049596516,0.0022321248126670906,0.002926403582157516,0.002869645488800879,0.0021828423960529994,0.0013072327189660548,0.0006204268785548265,0.00023408354922405914,7.031167010582029e-05,1.6825332334002334e-05,3.2086740186476662e-06,4.877346395544676e-07,5.909783197927315e-08,5.708285936015458e-09,4.3953540406798734e-10,2.6979853216321814e-11,1.3202143358864832e-12,-0.0007490571798240945,-0.0015540794723785615,-0.0023840392235240206,-0.0023436111258831704,-0.000327809128028142,0.0039110890360837735,0.0089324058317695,0.012246527910852222,0.012224058240490296,0.009371756016184276,0.005632912028975692,0.002678050792236998,0.0010112430163357659,0.0003038654672254248,7.272713845522879e-05,1.3870533375186563e-05,2.108452045013594e-06,2.554774167133454e-07,2.4676331076378392e-08,1.900017912744535e-09,1.1662402339467724e-10,5.706540800735707e-12,-0.0034409556548370443,-0.007247151299198708,-0.011533941222038189,-0.01271649856172237,-0.006301836260866436,0.00888295441534587,0.02752876507240028,0.04036791713841086,0.041301323380975474,0.032001583452842625,0.019327936356311113,0.00920992518632315,0.003481419404342847,0.0010466384120732257,0.0002505561341487454,4.778967365573357e-05,7.2644805014517735e-06,8.80184654489587e-07,8.500963042382958e-08,6.544835284765039e-09,4.0166961882415493e-10,1.9650703705043702e-11,-0.012561128849823416,-0.02674898219122197,-0.04368434803188101,-0.051713642648746845,-0.036017399849363994,0.007780321405070276,0.06384976683959266,0.10424458873433336,0.11046196991062804,0.08683124543129994,0.052781969334254275,0.025225638775633764,0.009548371420725808,0.0028722387266749785,0.0006877201910997262,0.00013116972623025992,1.99361810749377e-05,2.4149502388305623e-06,2.3316422276542468e-07,1.7943679414226715e-08,1.1006609346149277e-09,5.381175331002803e-11,-0.03646826621966638,-0.07829616413686159,-0.13025639178299933,-0.16162605639555783,-0.1328167807350071,-0.030923869579472685,0.10579941310912522,0.20899590832288306,0.2331252911108766,0.18691312082525027,0.11459187538622219,0.054972722102245714,0.020840906103347028,0.006272199914143886,0.001501658033652296,0.00028628378878669863,4.348007641793484e-05,5.261749927287635e-06,5.073832372366182e-07,3.8984740865597975e-08,2.3865506338067417e-09,1.1638875942077495e-10,-0.08425535429249567,-0.18199902521242697,-0.3068957552015644,-0.39337094336794887,-0.35594493262333476,-0.16448416087369394,0.10599385234705855,0.3197814345049249,0.3859527287349003,0.3180711860794555,0.19718240006273807,0.09501210738373286,0.03606634074804511,0.010850210665779111,0.0025940102375384853,0.000493434032695692,7.471656510015739e-05,9.00692182493288e-06,8.642784377334898e-07,6.599763495584001e-08,4.008860568652215e-09,1.9359191783124395e-10,-0.15497816423751962,-0.3363053031657109,-0.5727949600561193,-0.7513902958198873,-0.7232861103485376,-0.43275992965870314,0.0007271363021509325,0.358688167389048,0.49423814900296836,0.4235442599577765,0.26620147955491635,0.12873695028219392,0.048800368734429174,0.014614920776075763,0.003469610361779179,0.0006537406482563452,9.777221625757226e-05,1.1599914651026202e-05,1.0904988629355518e-06,8.109014196579557e-08,4.757518530571991e-09,2.1940378592442145e-10,-0.22703194805827207,-0.49439749615824957,-0.8484819739786589,-1.1323295738280588,-1.1378411626823424,-0.7836667979971526,-0.22422754338785966,0.2563256945580096,0.4677211346210137,0.4253894160216213,0.27111952068442563,0.1305580847324167,0.04875203567240624,0.014254283300299292,0.003272039636062012,0.0005889061183410436,8.272630693275222e-05,8.991228086697935e-06,7.439882129151427e-07,4.534936076587473e-08,1.8718120693554202e-09,3.608534849577194e-11,-0.26496181967126703,-0.5786361797559937,-0.9992028337140993,-1.3521448069334057,-1.4052287128209622,-1.0657597927454427,-0.4954533107695308,0.010728297536630182,0.26060974635704065,0.2697136297168786,0.1713162967444548,0.07754162095056041,0.0257777182403907,0.006196327539689562,0.0009938458344820828,7.091142861625884e-05,-1.184382522636353e-05,-4.856075661801016e-06,-8.805830529781817e-07,-1.0723747402239544e-07,-9.593691363510074e-09,-6.527323048358084e-10,-0.2464472731979074,-0.5396492548247489,-0.9375191101828416,-1.286510505799831,-1.3831239245423863,-1.1479839900655724,-0.7175585804547487,-0.32729324482196404,-0.11406887738064889,-0.05258427413917974,-0.04872801060036113,-0.04274262695167098,-0.027035677481834476,-0.012444660267690102,-0.004293996863262755,-0.0011337729236681215,-0.00023207683736987386,-3.713539647436774e-05,-4.6705579174179645e-06,-4.6343269303669505e-07,-3.6372280215645396e-08,-2.262199448656168e-09,-0.18281355780507327,-0.4017323526810929,-0.703844607965503,-0.9857965875469191,-1.1141859653072137,-1.045005781890316,-0.8697220949327708,-0.7136718260365171,-0.6112080697563751,-0.5110159792248754,-0.3751143056478115,-0.2266135331051785,-0.10973098486091877,-0.0422259918695307,-0.01288805970840354,-0.003120530660802501,-0.0005998209600120229,-9.160220185823672e-05,-1.1121837319054144e-05,-1.074174134598048e-06,-8.256438386501614e-08,-5.05222790258459e-09,-0.10833182293252397,-0.23971563389381223,-0.42723481037948047,-0.6237465084290921,-0.7756411543913256,-0.8819223503616976,-0.9891943644127477,-1.103784196413958,-1.1430354560231435,-1.0178008546987065,-0.7449803613997914,-0.43931863432695933,-0.2070920274983861,-0.07781964028817676,-0.02329110101058509,-0.0055513960127576605,-0.0010538105824689876,-0.000159343241158938,-1.919455490843455e-05,-1.8422581028379593e-06,-1.4089528182095805e-07,-8.587228724704973e-09,-0.05150950376406138,-0.11592385676241757,-0.21524255249065974,-0.34453197160017496,-0.5107184863548888,-0.7467337273994221,-1.0677540704582182,-1.3916704909836248,-1.545613303967149,-1.4075986163268417,-1.0331045258040163,-0.6067976043530695,-0.2844499493207603,-0.10631708946920618,-0.031673330383146334,-0.007520420264617932,-0.001423147085427189,-0.00021464941289163153,-2.5804578286142847e-05,-2.472661553167806e-06,-1.8886222855336016e-07,-1.1498672370503263e-08,-0.019887632901515462,-0.04672982804099414,-0.09544104359065496,-0.18214984955133312,-0.34323770844064344,-0.6265844884432689,-1.031588602768696,-1.4384731451736124,-1.640920693394099,-1.5076579470561011,-1.1086153040519398,-0.650782377904377,-0.3046858452920404,-0.11373038384133961,-0.03384191845030206,-0.00802734579870457,-0.0015178381145033713,-0.00022877991291911088,-2.7488614986998123e-05,-2.632896899831812e-06,-2.010314119264786e-07,-1.223617306970327e-08,-0.006427981919597753,-0.016710456598950953,-0.040913413042212465,-0.09901279172801626,-0.23042376801950698,-0.47957275137814825,-0.8411476405540543,-1.2042699094947877,-1.387579918845719,-1.2792597945756976,-0.9415256565019233,-0.5527035866853028,-0.25869697228826966,-0.09653259180991491,-0.02871575904765987,-0.006809637364925443,-0.0012873114485494263,-0.00019399903602162675,-2.330626255288153e-05,-2.232048896747549e-06,-1.7040941166103408e-07,-1.0371532336618794e-08,-0.0018579291248758355,-0.005830773051520438,-0.018098068362400688,-0.053642591377629584,-0.14111970318008815,-0.3114592938416878,-0.5599648509230651,-0.8095611677013658,-0.9362201856511981,-0.8642515371859537,-0.6363305191496066,-0.37356738075190804,-0.17484218238232843,-0.0652371093929642,-0.019404709798014324,-0.004601305653896389,-0.0008697928557295653,-0.00013107244006281172,-1.5745915097732385e-05,-1.5079454066649107e-06,-1.1512369780886317e-07,-7.006569259676134e-09,-0.0005286042547134081,-0.0021028130767350075,-0.007931514765417248,-0.026363736386038904,-0.0732138649811577,-0.1653126383119209,-0.2999256900410055,-0.4351429078836832,-0.5038915920736188,-0.4653796758511985,-0.3427028483386942,-0.20119611545319985,-0.09416606199650207,-0.03513460483221187,-0.010450545234118465,-0.0024780217248162673,-0.0004684176715607151,-7.058678250040501e-05,-8.47960236427092e-06,-8.120628195954627e-07,-6.19963123298374e-08,-3.7731513521270225e-09],\"type\":\"scatter3d\"},{\"mode\":\"markers\",\"x\":[8.833845501691467,6.916552329583736,7.316245472621174],\"y\":[-0.31035723395513726,-0.6279170105167156,-1.686686426600164],\"z\":[-1.6533564277256176,0.3256151971114599,-1.4260948265104332],\"type\":\"scatter3d\"},{\"mode\":\"markers\",\"x\":[5.62919026722729,8.602813686159415,2.027145580207729],\"y\":[2.1833641240862223,-1.6531512607004966,2.9795723119932784],\"z\":[3.731543655561935e-05,-0.5126843724888656,1.611214320730063e-17],\"type\":\"scatter3d\"}],                        {\"template\":{\"data\":{\"histogram2dcontour\":[{\"type\":\"histogram2dcontour\",\"colorbar\":{\"outlinewidth\":0,\"ticks\":\"\"},\"colorscale\":[[0.0,\"#0d0887\"],[0.1111111111111111,\"#46039f\"],[0.2222222222222222,\"#7201a8\"],[0.3333333333333333,\"#9c179e\"],[0.4444444444444444,\"#bd3786\"],[0.5555555555555556,\"#d8576b\"],[0.6666666666666666,\"#ed7953\"],[0.7777777777777778,\"#fb9f3a\"],[0.8888888888888888,\"#fdca26\"],[1.0,\"#f0f921\"]]}],\"choropleth\":[{\"type\":\"choropleth\",\"colorbar\":{\"outlinewidth\":0,\"ticks\":\"\"}}],\"histogram2d\":[{\"type\":\"histogram2d\",\"colorbar\":{\"outlinewidth\":0,\"ticks\":\"\"},\"colorscale\":[[0.0,\"#0d0887\"],[0.1111111111111111,\"#46039f\"],[0.2222222222222222,\"#7201a8\"],[0.3333333333333333,\"#9c179e\"],[0.4444444444444444,\"#bd3786\"],[0.5555555555555556,\"#d8576b\"],[0.6666666666666666,\"#ed7953\"],[0.7777777777777778,\"#fb9f3a\"],[0.8888888888888888,\"#fdca26\"],[1.0,\"#f0f921\"]]}],\"heatmap\":[{\"type\":\"heatmap\",\"colorbar\":{\"outlinewidth\":0,\"ticks\":\"\"},\"colorscale\":[[0.0,\"#0d0887\"],[0.1111111111111111,\"#46039f\"],[0.2222222222222222,\"#7201a8\"],[0.3333333333333333,\"#9c179e\"],[0.4444444444444444,\"#bd3786\"],[0.5555555555555556,\"#d8576b\"],[0.6666666666666666,\"#ed7953\"],[0.7777777777777778,\"#fb9f3a\"],[0.8888888888888888,\"#fdca26\"],[1.0,\"#f0f921\"]]}],\"heatmapgl\":[{\"type\":\"heatmapgl\",\"colorbar\":{\"outlinewidth\":0,\"ticks\":\"\"},\"colorscale\":[[0.0,\"#0d0887\"],[0.1111111111111111,\"#46039f\"],[0.2222222222222222,\"#7201a8\"],[0.3333333333333333,\"#9c179e\"],[0.4444444444444444,\"#bd3786\"],[0.5555555555555556,\"#d8576b\"],[0.6666666666666666,\"#ed7953\"],[0.7777777777777778,\"#fb9f3a\"],[0.8888888888888888,\"#fdca26\"],[1.0,\"#f0f921\"]]}],\"contourcarpet\":[{\"type\":\"contourcarpet\",\"colorbar\":{\"outlinewidth\":0,\"ticks\":\"\"}}],\"contour\":[{\"type\":\"contour\",\"colorbar\":{\"outlinewidth\":0,\"ticks\":\"\"},\"colorscale\":[[0.0,\"#0d0887\"],[0.1111111111111111,\"#46039f\"],[0.2222222222222222,\"#7201a8\"],[0.3333333333333333,\"#9c179e\"],[0.4444444444444444,\"#bd3786\"],[0.5555555555555556,\"#d8576b\"],[0.6666666666666666,\"#ed7953\"],[0.7777777777777778,\"#fb9f3a\"],[0.8888888888888888,\"#fdca26\"],[1.0,\"#f0f921\"]]}],\"surface\":[{\"type\":\"surface\",\"colorbar\":{\"outlinewidth\":0,\"ticks\":\"\"},\"colorscale\":[[0.0,\"#0d0887\"],[0.1111111111111111,\"#46039f\"],[0.2222222222222222,\"#7201a8\"],[0.3333333333333333,\"#9c179e\"],[0.4444444444444444,\"#bd3786\"],[0.5555555555555556,\"#d8576b\"],[0.6666666666666666,\"#ed7953\"],[0.7777777777777778,\"#fb9f3a\"],[0.8888888888888888,\"#fdca26\"],[1.0,\"#f0f921\"]]}],\"mesh3d\":[{\"type\":\"mesh3d\",\"colorbar\":{\"outlinewidth\":0,\"ticks\":\"\"}}],\"scatter\":[{\"fillpattern\":{\"fillmode\":\"overlay\",\"size\":10,\"solidity\":0.2},\"type\":\"scatter\"}],\"parcoords\":[{\"type\":\"parcoords\",\"line\":{\"colorbar\":{\"outlinewidth\":0,\"ticks\":\"\"}}}],\"scatterpolargl\":[{\"type\":\"scatterpolargl\",\"marker\":{\"colorbar\":{\"outlinewidth\":0,\"ticks\":\"\"}}}],\"bar\":[{\"error_x\":{\"color\":\"#2a3f5f\"},\"error_y\":{\"color\":\"#2a3f5f\"},\"marker\":{\"line\":{\"color\":\"#E5ECF6\",\"width\":0.5},\"pattern\":{\"fillmode\":\"overlay\",\"size\":10,\"solidity\":0.2}},\"type\":\"bar\"}],\"scattergeo\":[{\"type\":\"scattergeo\",\"marker\":{\"colorbar\":{\"outlinewidth\":0,\"ticks\":\"\"}}}],\"scatterpolar\":[{\"type\":\"scatterpolar\",\"marker\":{\"colorbar\":{\"outlinewidth\":0,\"ticks\":\"\"}}}],\"histogram\":[{\"marker\":{\"pattern\":{\"fillmode\":\"overlay\",\"size\":10,\"solidity\":0.2}},\"type\":\"histogram\"}],\"scattergl\":[{\"type\":\"scattergl\",\"marker\":{\"colorbar\":{\"outlinewidth\":0,\"ticks\":\"\"}}}],\"scatter3d\":[{\"type\":\"scatter3d\",\"line\":{\"colorbar\":{\"outlinewidth\":0,\"ticks\":\"\"}},\"marker\":{\"colorbar\":{\"outlinewidth\":0,\"ticks\":\"\"}}}],\"scattermapbox\":[{\"type\":\"scattermapbox\",\"marker\":{\"colorbar\":{\"outlinewidth\":0,\"ticks\":\"\"}}}],\"scatterternary\":[{\"type\":\"scatterternary\",\"marker\":{\"colorbar\":{\"outlinewidth\":0,\"ticks\":\"\"}}}],\"scattercarpet\":[{\"type\":\"scattercarpet\",\"marker\":{\"colorbar\":{\"outlinewidth\":0,\"ticks\":\"\"}}}],\"carpet\":[{\"aaxis\":{\"endlinecolor\":\"#2a3f5f\",\"gridcolor\":\"white\",\"linecolor\":\"white\",\"minorgridcolor\":\"white\",\"startlinecolor\":\"#2a3f5f\"},\"baxis\":{\"endlinecolor\":\"#2a3f5f\",\"gridcolor\":\"white\",\"linecolor\":\"white\",\"minorgridcolor\":\"white\",\"startlinecolor\":\"#2a3f5f\"},\"type\":\"carpet\"}],\"table\":[{\"cells\":{\"fill\":{\"color\":\"#EBF0F8\"},\"line\":{\"color\":\"white\"}},\"header\":{\"fill\":{\"color\":\"#C8D4E3\"},\"line\":{\"color\":\"white\"}},\"type\":\"table\"}],\"barpolar\":[{\"marker\":{\"line\":{\"color\":\"#E5ECF6\",\"width\":0.5},\"pattern\":{\"fillmode\":\"overlay\",\"size\":10,\"solidity\":0.2}},\"type\":\"barpolar\"}],\"pie\":[{\"automargin\":true,\"type\":\"pie\"}]},\"layout\":{\"autotypenumbers\":\"strict\",\"colorway\":[\"#636efa\",\"#EF553B\",\"#00cc96\",\"#ab63fa\",\"#FFA15A\",\"#19d3f3\",\"#FF6692\",\"#B6E880\",\"#FF97FF\",\"#FECB52\"],\"font\":{\"color\":\"#2a3f5f\"},\"hovermode\":\"closest\",\"hoverlabel\":{\"align\":\"left\"},\"paper_bgcolor\":\"white\",\"plot_bgcolor\":\"#E5ECF6\",\"polar\":{\"bgcolor\":\"#E5ECF6\",\"angularaxis\":{\"gridcolor\":\"white\",\"linecolor\":\"white\",\"ticks\":\"\"},\"radialaxis\":{\"gridcolor\":\"white\",\"linecolor\":\"white\",\"ticks\":\"\"}},\"ternary\":{\"bgcolor\":\"#E5ECF6\",\"aaxis\":{\"gridcolor\":\"white\",\"linecolor\":\"white\",\"ticks\":\"\"},\"baxis\":{\"gridcolor\":\"white\",\"linecolor\":\"white\",\"ticks\":\"\"},\"caxis\":{\"gridcolor\":\"white\",\"linecolor\":\"white\",\"ticks\":\"\"}},\"coloraxis\":{\"colorbar\":{\"outlinewidth\":0,\"ticks\":\"\"}},\"colorscale\":{\"sequential\":[[0.0,\"#0d0887\"],[0.1111111111111111,\"#46039f\"],[0.2222222222222222,\"#7201a8\"],[0.3333333333333333,\"#9c179e\"],[0.4444444444444444,\"#bd3786\"],[0.5555555555555556,\"#d8576b\"],[0.6666666666666666,\"#ed7953\"],[0.7777777777777778,\"#fb9f3a\"],[0.8888888888888888,\"#fdca26\"],[1.0,\"#f0f921\"]],\"sequentialminus\":[[0.0,\"#0d0887\"],[0.1111111111111111,\"#46039f\"],[0.2222222222222222,\"#7201a8\"],[0.3333333333333333,\"#9c179e\"],[0.4444444444444444,\"#bd3786\"],[0.5555555555555556,\"#d8576b\"],[0.6666666666666666,\"#ed7953\"],[0.7777777777777778,\"#fb9f3a\"],[0.8888888888888888,\"#fdca26\"],[1.0,\"#f0f921\"]],\"diverging\":[[0,\"#8e0152\"],[0.1,\"#c51b7d\"],[0.2,\"#de77ae\"],[0.3,\"#f1b6da\"],[0.4,\"#fde0ef\"],[0.5,\"#f7f7f7\"],[0.6,\"#e6f5d0\"],[0.7,\"#b8e186\"],[0.8,\"#7fbc41\"],[0.9,\"#4d9221\"],[1,\"#276419\"]]},\"xaxis\":{\"gridcolor\":\"white\",\"linecolor\":\"white\",\"ticks\":\"\",\"title\":{\"standoff\":15},\"zerolinecolor\":\"white\",\"automargin\":true,\"zerolinewidth\":2},\"yaxis\":{\"gridcolor\":\"white\",\"linecolor\":\"white\",\"ticks\":\"\",\"title\":{\"standoff\":15},\"zerolinecolor\":\"white\",\"automargin\":true,\"zerolinewidth\":2},\"scene\":{\"xaxis\":{\"backgroundcolor\":\"#E5ECF6\",\"gridcolor\":\"white\",\"linecolor\":\"white\",\"showbackground\":true,\"ticks\":\"\",\"zerolinecolor\":\"white\",\"gridwidth\":2},\"yaxis\":{\"backgroundcolor\":\"#E5ECF6\",\"gridcolor\":\"white\",\"linecolor\":\"white\",\"showbackground\":true,\"ticks\":\"\",\"zerolinecolor\":\"white\",\"gridwidth\":2},\"zaxis\":{\"backgroundcolor\":\"#E5ECF6\",\"gridcolor\":\"white\",\"linecolor\":\"white\",\"showbackground\":true,\"ticks\":\"\",\"zerolinecolor\":\"white\",\"gridwidth\":2}},\"shapedefaults\":{\"line\":{\"color\":\"#2a3f5f\"}},\"annotationdefaults\":{\"arrowcolor\":\"#2a3f5f\",\"arrowhead\":0,\"arrowwidth\":1},\"geo\":{\"bgcolor\":\"white\",\"landcolor\":\"#E5ECF6\",\"subunitcolor\":\"white\",\"showland\":true,\"showlakes\":true,\"lakecolor\":\"white\"},\"title\":{\"x\":0.05},\"mapbox\":{\"style\":\"light\"}}}},                        {\"responsive\": true}                    ).then(function(){\n",
              "                            \n",
              "var gd = document.getElementById('150d67df-cc7e-4c31-8cb5-a38459d9ac87');\n",
              "var x = new MutationObserver(function (mutations, observer) {{\n",
              "        var display = window.getComputedStyle(gd).display;\n",
              "        if (!display || display === 'none') {{\n",
              "            console.log([gd, 'removed!']);\n",
              "            Plotly.purge(gd);\n",
              "            observer.disconnect();\n",
              "        }}\n",
              "}});\n",
              "\n",
              "// Listen for the removal of the full notebook cells\n",
              "var notebookContainer = gd.closest('#notebook-container');\n",
              "if (notebookContainer) {{\n",
              "    x.observe(notebookContainer, {childList: true});\n",
              "}}\n",
              "\n",
              "// Listen for the clearing of the current output cell\n",
              "var outputEl = gd.closest('.output');\n",
              "if (outputEl) {{\n",
              "    x.observe(outputEl, {childList: true});\n",
              "}}\n",
              "\n",
              "                        })                };                            </script>        </div>\n",
              "</body>\n",
              "</html>"
            ]
          },
          "metadata": {}
        }
      ]
    },
    {
      "cell_type": "code",
      "source": [
        "import torch\n",
        "import gpytorch\n",
        "\n",
        "torch.set_default_tensor_type(torch.DoubleTensor)\n",
        "\n",
        "class RCF():\n",
        "    \"\"\" built: 3/19/2024\n",
        "    this an object of a Random-Contionus-Function (RCF), with-respect-to a gpytorch kernel\n",
        "    RCF : IN -> OUT = R^(MO)\n",
        "    we define a prior, and then sample to form a posterior.\n",
        "    \"\"\"\n",
        "\n",
        "    def __init__(self, Domain, N:int, MO:int=1, seed:int=777,\n",
        "                 IN_noise=None, OUT_noise=None,\n",
        "                 kernel=gpytorch.kernels.RBFKernel()):\n",
        "        \"\"\"\n",
        "        GIVEN >\n",
        "            Domain  : 2d-torch.Tensor (domain of input points)\n",
        "                 N  : int (number of points)\n",
        "                MO  : int (Multiple-Output Dimension)\n",
        "             **seed : int\n",
        "           **kernel : gpytorch.kernels\n",
        "        ** IN_noise : 1d-torch.Tensor\n",
        "        **OUT_noise : 1d-torch.Tensor\n",
        "        GET   >\n",
        "            None\n",
        "        \"\"\"\n",
        "\n",
        "        self.dtype  = torch.float64\n",
        "        self.IN     = Domain.double() ### 2d-torch.Tensor\n",
        "        self.N      = N      ### number of defining points\n",
        "        self.MO     = MO     ### int (dimension of OUT)\n",
        "        self.kernel = kernel\n",
        "        self.seed   = seed ### define random sampling key\n",
        "\n",
        "        torch.manual_seed(self.seed)\n",
        "\n",
        "        ### define anisotropic i.i.d white noise\n",
        "        if IN_noise is None:\n",
        "            self.IN_noise = torch.zeros( self.IN.shape[0] , dtype=torch.float64)\n",
        "        else:\n",
        "            self.IN_noise = IN_noise\n",
        "        if OUT_noise is None:\n",
        "            self.OUT_noise = torch.zeros( self.MO , dtype=torch.float64)\n",
        "        else:\n",
        "            self.OUT_noise = OUT_noise\n",
        "\n",
        "        ### find a series of random defining points,\n",
        "        ### keep looping until we find a stable configuration of initial-points\n",
        "        ### --> \"A not p.d., added jitter of 1.0e-08 to the diagonal\" pytorch safety\n",
        "        self.R_ix  = torch.rand(N, self.IN.shape[0], dtype=torch.float64)\n",
        "        self.R_ix *= torch.diff(self.IN, axis=1).reshape(-1)\n",
        "        self.R_ix += self.IN[:,0]\n",
        "\n",
        "        ### compute cholesky-factorization\n",
        "        L_ij       = torch.linalg.cholesky( self.kernel(self.R_ix) ).to_dense()\n",
        "\n",
        "        ### compute OUT-space defining-points\n",
        "        D_iX       = torch.normal(0, 1, size=(self.N, self.MO))\n",
        "        D_iX      *= torch.diag(L_ij).reshape(-1,1)\n",
        "        D_iX       = torch.matmul(L_ij, D_iX)\n",
        "\n",
        "        ### compute (L \\ D) used to interpolate arbtirary points\n",
        "        self.S_jX  = torch.cholesky_solve(D_iX, L_ij)\n",
        "\n",
        "    def evaluate(self, D_ax):\n",
        "        \"\"\" evaluate for arbitrary values/points in OUT given points in IN.\n",
        "        GIVEN >\n",
        "              self\n",
        "              D_ax : 2d-torch.Tensor (D_ax ∈ IN)\n",
        "        GET   >\n",
        "              D_aX : 2d-torch.Tensor (D_aX ∈ OUT, note captial 'X')\n",
        "        \"\"\"\n",
        "        D_ax += self.IN_noise*torch.normal(0, 1, size=D_ax.shape)\n",
        "        D_aX  = torch.matmul(self.kernel(D_ax, self.R_ix), self.S_jX)\n",
        "        D_aX += self.OUT_noise*torch.normal(0, 1, size=D_aX.shape)\n",
        "        return D_aX"
      ],
      "metadata": {
        "id": "_7aMCmglS3RB"
      },
      "execution_count": 26,
      "outputs": []
    },
    {
      "cell_type": "markdown",
      "source": [
        "## Try out"
      ],
      "metadata": {
        "id": "WbdoVxl-0nR_"
      }
    },
    {
      "cell_type": "code",
      "source": [
        "Domain = torch.tensor([[0,10.],[-3,4.]]) #torch.tensor([[0,10.],[-3,4.],[-8,-2]]) ### numpy.2darray\n",
        "\n",
        "\n",
        "f = RCF(Domain, 23, seed=1287)\n",
        "\n",
        "#### generate mesh to plot\n",
        "R_ax = torch.stack(torch.meshgrid(*[ torch.linspace(Domain[i,0], Domain[i,1], 20) for i in range(len(Domain)) ]), axis=-1)\n",
        "R_ax = R_ax.reshape((torch.prod( torch.asarray(R_ax.shape[:-1]) ), R_ax.shape[-1]))\n",
        "\n",
        "R_ay = (f.evaluate(R_ax)).detach().numpy()\n",
        "R_ax = R_ax.detach().numpy()\n",
        "\n",
        "#### the plot\n",
        "fig = go.Figure(data=[go.Scatter3d(x=R_ax[:,0], y=R_ax[:,1], z=R_ay[:,0], mode='markers'),\n",
        "                      go.Scatter3d(x=f.R_ix.detach().numpy()[:,0], y=f.R_ix.detach().numpy()[:,1], z=f.evaluate(f.R_ix).detach().numpy()[:,0], mode='markers')])\n",
        "fig.show()"
      ],
      "metadata": {
        "colab": {
          "base_uri": "https://localhost:8080/",
          "height": 542
        },
        "id": "HEv5_kAN0g6a",
        "outputId": "326f393c-d1fe-43be-a208-8a861e387780"
      },
      "execution_count": 27,
      "outputs": [
        {
          "output_type": "display_data",
          "data": {
            "text/html": [
              "<html>\n",
              "<head><meta charset=\"utf-8\" /></head>\n",
              "<body>\n",
              "    <div>            <script src=\"https://cdnjs.cloudflare.com/ajax/libs/mathjax/2.7.5/MathJax.js?config=TeX-AMS-MML_SVG\"></script><script type=\"text/javascript\">if (window.MathJax && window.MathJax.Hub && window.MathJax.Hub.Config) {window.MathJax.Hub.Config({SVG: {font: \"STIX-Web\"}});}</script>                <script type=\"text/javascript\">window.PlotlyConfig = {MathJaxConfig: 'local'};</script>\n",
              "        <script charset=\"utf-8\" src=\"https://cdn.plot.ly/plotly-2.24.1.min.js\"></script>                <div id=\"d195e7ab-7e52-4f0f-8aae-16c45a69d7a5\" class=\"plotly-graph-div\" style=\"height:525px; width:100%;\"></div>            <script type=\"text/javascript\">                                    window.PLOTLYENV=window.PLOTLYENV || {};                                    if (document.getElementById(\"d195e7ab-7e52-4f0f-8aae-16c45a69d7a5\")) {                    Plotly.newPlot(                        \"d195e7ab-7e52-4f0f-8aae-16c45a69d7a5\",                        [{\"mode\":\"markers\",\"x\":[0.0,0.0,0.0,0.0,0.0,0.0,0.0,0.0,0.0,0.0,0.0,0.0,0.0,0.0,0.0,0.0,0.0,0.0,0.0,0.0,0.5263157894736842,0.5263157894736842,0.5263157894736842,0.5263157894736842,0.5263157894736842,0.5263157894736842,0.5263157894736842,0.5263157894736842,0.5263157894736842,0.5263157894736842,0.5263157894736842,0.5263157894736842,0.5263157894736842,0.5263157894736842,0.5263157894736842,0.5263157894736842,0.5263157894736842,0.5263157894736842,0.5263157894736842,0.5263157894736842,1.0526315789473684,1.0526315789473684,1.0526315789473684,1.0526315789473684,1.0526315789473684,1.0526315789473684,1.0526315789473684,1.0526315789473684,1.0526315789473684,1.0526315789473684,1.0526315789473684,1.0526315789473684,1.0526315789473684,1.0526315789473684,1.0526315789473684,1.0526315789473684,1.0526315789473684,1.0526315789473684,1.0526315789473684,1.0526315789473684,1.5789473684210527,1.5789473684210527,1.5789473684210527,1.5789473684210527,1.5789473684210527,1.5789473684210527,1.5789473684210527,1.5789473684210527,1.5789473684210527,1.5789473684210527,1.5789473684210527,1.5789473684210527,1.5789473684210527,1.5789473684210527,1.5789473684210527,1.5789473684210527,1.5789473684210527,1.5789473684210527,1.5789473684210527,1.5789473684210527,2.1052631578947367,2.1052631578947367,2.1052631578947367,2.1052631578947367,2.1052631578947367,2.1052631578947367,2.1052631578947367,2.1052631578947367,2.1052631578947367,2.1052631578947367,2.1052631578947367,2.1052631578947367,2.1052631578947367,2.1052631578947367,2.1052631578947367,2.1052631578947367,2.1052631578947367,2.1052631578947367,2.1052631578947367,2.1052631578947367,2.631578947368421,2.631578947368421,2.631578947368421,2.631578947368421,2.631578947368421,2.631578947368421,2.631578947368421,2.631578947368421,2.631578947368421,2.631578947368421,2.631578947368421,2.631578947368421,2.631578947368421,2.631578947368421,2.631578947368421,2.631578947368421,2.631578947368421,2.631578947368421,2.631578947368421,2.631578947368421,3.1578947368421053,3.1578947368421053,3.1578947368421053,3.1578947368421053,3.1578947368421053,3.1578947368421053,3.1578947368421053,3.1578947368421053,3.1578947368421053,3.1578947368421053,3.1578947368421053,3.1578947368421053,3.1578947368421053,3.1578947368421053,3.1578947368421053,3.1578947368421053,3.1578947368421053,3.1578947368421053,3.1578947368421053,3.1578947368421053,3.6842105263157894,3.6842105263157894,3.6842105263157894,3.6842105263157894,3.6842105263157894,3.6842105263157894,3.6842105263157894,3.6842105263157894,3.6842105263157894,3.6842105263157894,3.6842105263157894,3.6842105263157894,3.6842105263157894,3.6842105263157894,3.6842105263157894,3.6842105263157894,3.6842105263157894,3.6842105263157894,3.6842105263157894,3.6842105263157894,4.2105263157894735,4.2105263157894735,4.2105263157894735,4.2105263157894735,4.2105263157894735,4.2105263157894735,4.2105263157894735,4.2105263157894735,4.2105263157894735,4.2105263157894735,4.2105263157894735,4.2105263157894735,4.2105263157894735,4.2105263157894735,4.2105263157894735,4.2105263157894735,4.2105263157894735,4.2105263157894735,4.2105263157894735,4.2105263157894735,4.7368421052631575,4.7368421052631575,4.7368421052631575,4.7368421052631575,4.7368421052631575,4.7368421052631575,4.7368421052631575,4.7368421052631575,4.7368421052631575,4.7368421052631575,4.7368421052631575,4.7368421052631575,4.7368421052631575,4.7368421052631575,4.7368421052631575,4.7368421052631575,4.7368421052631575,4.7368421052631575,4.7368421052631575,4.7368421052631575,5.2631578947368425,5.2631578947368425,5.2631578947368425,5.2631578947368425,5.2631578947368425,5.2631578947368425,5.2631578947368425,5.2631578947368425,5.2631578947368425,5.2631578947368425,5.2631578947368425,5.2631578947368425,5.2631578947368425,5.2631578947368425,5.2631578947368425,5.2631578947368425,5.2631578947368425,5.2631578947368425,5.2631578947368425,5.2631578947368425,5.7894736842105265,5.7894736842105265,5.7894736842105265,5.7894736842105265,5.7894736842105265,5.7894736842105265,5.7894736842105265,5.7894736842105265,5.7894736842105265,5.7894736842105265,5.7894736842105265,5.7894736842105265,5.7894736842105265,5.7894736842105265,5.7894736842105265,5.7894736842105265,5.7894736842105265,5.7894736842105265,5.7894736842105265,5.7894736842105265,6.315789473684211,6.315789473684211,6.315789473684211,6.315789473684211,6.315789473684211,6.315789473684211,6.315789473684211,6.315789473684211,6.315789473684211,6.315789473684211,6.315789473684211,6.315789473684211,6.315789473684211,6.315789473684211,6.315789473684211,6.315789473684211,6.315789473684211,6.315789473684211,6.315789473684211,6.315789473684211,6.842105263157895,6.842105263157895,6.842105263157895,6.842105263157895,6.842105263157895,6.842105263157895,6.842105263157895,6.842105263157895,6.842105263157895,6.842105263157895,6.842105263157895,6.842105263157895,6.842105263157895,6.842105263157895,6.842105263157895,6.842105263157895,6.842105263157895,6.842105263157895,6.842105263157895,6.842105263157895,7.368421052631579,7.368421052631579,7.368421052631579,7.368421052631579,7.368421052631579,7.368421052631579,7.368421052631579,7.368421052631579,7.368421052631579,7.368421052631579,7.368421052631579,7.368421052631579,7.368421052631579,7.368421052631579,7.368421052631579,7.368421052631579,7.368421052631579,7.368421052631579,7.368421052631579,7.368421052631579,7.894736842105264,7.894736842105264,7.894736842105264,7.894736842105264,7.894736842105264,7.894736842105264,7.894736842105264,7.894736842105264,7.894736842105264,7.894736842105264,7.894736842105264,7.894736842105264,7.894736842105264,7.894736842105264,7.894736842105264,7.894736842105264,7.894736842105264,7.894736842105264,7.894736842105264,7.894736842105264,8.421052631578947,8.421052631578947,8.421052631578947,8.421052631578947,8.421052631578947,8.421052631578947,8.421052631578947,8.421052631578947,8.421052631578947,8.421052631578947,8.421052631578947,8.421052631578947,8.421052631578947,8.421052631578947,8.421052631578947,8.421052631578947,8.421052631578947,8.421052631578947,8.421052631578947,8.421052631578947,8.947368421052632,8.947368421052632,8.947368421052632,8.947368421052632,8.947368421052632,8.947368421052632,8.947368421052632,8.947368421052632,8.947368421052632,8.947368421052632,8.947368421052632,8.947368421052632,8.947368421052632,8.947368421052632,8.947368421052632,8.947368421052632,8.947368421052632,8.947368421052632,8.947368421052632,8.947368421052632,9.473684210526315,9.473684210526315,9.473684210526315,9.473684210526315,9.473684210526315,9.473684210526315,9.473684210526315,9.473684210526315,9.473684210526315,9.473684210526315,9.473684210526315,9.473684210526315,9.473684210526315,9.473684210526315,9.473684210526315,9.473684210526315,9.473684210526315,9.473684210526315,9.473684210526315,9.473684210526315,10.0,10.0,10.0,10.0,10.0,10.0,10.0,10.0,10.0,10.0,10.0,10.0,10.0,10.0,10.0,10.0,10.0,10.0,10.0,10.0],\"y\":[-3.0,-2.6315789473684212,-2.263157894736842,-1.8947368421052633,-1.5263157894736843,-1.1578947368421053,-0.7894736842105264,-0.4210526315789475,-0.052631578947368585,0.31578947368421034,0.6842105263157896,1.0526315789473686,1.4210526315789476,1.7894736842105265,2.1578947368421053,2.526315789473684,2.8947368421052633,3.263157894736842,3.6315789473684212,4.0,-3.0,-2.6315789473684212,-2.263157894736842,-1.8947368421052633,-1.5263157894736843,-1.1578947368421053,-0.7894736842105264,-0.4210526315789475,-0.052631578947368585,0.31578947368421034,0.6842105263157896,1.0526315789473686,1.4210526315789476,1.7894736842105265,2.1578947368421053,2.526315789473684,2.8947368421052633,3.263157894736842,3.6315789473684212,4.0,-3.0,-2.6315789473684212,-2.263157894736842,-1.8947368421052633,-1.5263157894736843,-1.1578947368421053,-0.7894736842105264,-0.4210526315789475,-0.052631578947368585,0.31578947368421034,0.6842105263157896,1.0526315789473686,1.4210526315789476,1.7894736842105265,2.1578947368421053,2.526315789473684,2.8947368421052633,3.263157894736842,3.6315789473684212,4.0,-3.0,-2.6315789473684212,-2.263157894736842,-1.8947368421052633,-1.5263157894736843,-1.1578947368421053,-0.7894736842105264,-0.4210526315789475,-0.052631578947368585,0.31578947368421034,0.6842105263157896,1.0526315789473686,1.4210526315789476,1.7894736842105265,2.1578947368421053,2.526315789473684,2.8947368421052633,3.263157894736842,3.6315789473684212,4.0,-3.0,-2.6315789473684212,-2.263157894736842,-1.8947368421052633,-1.5263157894736843,-1.1578947368421053,-0.7894736842105264,-0.4210526315789475,-0.052631578947368585,0.31578947368421034,0.6842105263157896,1.0526315789473686,1.4210526315789476,1.7894736842105265,2.1578947368421053,2.526315789473684,2.8947368421052633,3.263157894736842,3.6315789473684212,4.0,-3.0,-2.6315789473684212,-2.263157894736842,-1.8947368421052633,-1.5263157894736843,-1.1578947368421053,-0.7894736842105264,-0.4210526315789475,-0.052631578947368585,0.31578947368421034,0.6842105263157896,1.0526315789473686,1.4210526315789476,1.7894736842105265,2.1578947368421053,2.526315789473684,2.8947368421052633,3.263157894736842,3.6315789473684212,4.0,-3.0,-2.6315789473684212,-2.263157894736842,-1.8947368421052633,-1.5263157894736843,-1.1578947368421053,-0.7894736842105264,-0.4210526315789475,-0.052631578947368585,0.31578947368421034,0.6842105263157896,1.0526315789473686,1.4210526315789476,1.7894736842105265,2.1578947368421053,2.526315789473684,2.8947368421052633,3.263157894736842,3.6315789473684212,4.0,-3.0,-2.6315789473684212,-2.263157894736842,-1.8947368421052633,-1.5263157894736843,-1.1578947368421053,-0.7894736842105264,-0.4210526315789475,-0.052631578947368585,0.31578947368421034,0.6842105263157896,1.0526315789473686,1.4210526315789476,1.7894736842105265,2.1578947368421053,2.526315789473684,2.8947368421052633,3.263157894736842,3.6315789473684212,4.0,-3.0,-2.6315789473684212,-2.263157894736842,-1.8947368421052633,-1.5263157894736843,-1.1578947368421053,-0.7894736842105264,-0.4210526315789475,-0.052631578947368585,0.31578947368421034,0.6842105263157896,1.0526315789473686,1.4210526315789476,1.7894736842105265,2.1578947368421053,2.526315789473684,2.8947368421052633,3.263157894736842,3.6315789473684212,4.0,-3.0,-2.6315789473684212,-2.263157894736842,-1.8947368421052633,-1.5263157894736843,-1.1578947368421053,-0.7894736842105264,-0.4210526315789475,-0.052631578947368585,0.31578947368421034,0.6842105263157896,1.0526315789473686,1.4210526315789476,1.7894736842105265,2.1578947368421053,2.526315789473684,2.8947368421052633,3.263157894736842,3.6315789473684212,4.0,-3.0,-2.6315789473684212,-2.263157894736842,-1.8947368421052633,-1.5263157894736843,-1.1578947368421053,-0.7894736842105264,-0.4210526315789475,-0.052631578947368585,0.31578947368421034,0.6842105263157896,1.0526315789473686,1.4210526315789476,1.7894736842105265,2.1578947368421053,2.526315789473684,2.8947368421052633,3.263157894736842,3.6315789473684212,4.0,-3.0,-2.6315789473684212,-2.263157894736842,-1.8947368421052633,-1.5263157894736843,-1.1578947368421053,-0.7894736842105264,-0.4210526315789475,-0.052631578947368585,0.31578947368421034,0.6842105263157896,1.0526315789473686,1.4210526315789476,1.7894736842105265,2.1578947368421053,2.526315789473684,2.8947368421052633,3.263157894736842,3.6315789473684212,4.0,-3.0,-2.6315789473684212,-2.263157894736842,-1.8947368421052633,-1.5263157894736843,-1.1578947368421053,-0.7894736842105264,-0.4210526315789475,-0.052631578947368585,0.31578947368421034,0.6842105263157896,1.0526315789473686,1.4210526315789476,1.7894736842105265,2.1578947368421053,2.526315789473684,2.8947368421052633,3.263157894736842,3.6315789473684212,4.0,-3.0,-2.6315789473684212,-2.263157894736842,-1.8947368421052633,-1.5263157894736843,-1.1578947368421053,-0.7894736842105264,-0.4210526315789475,-0.052631578947368585,0.31578947368421034,0.6842105263157896,1.0526315789473686,1.4210526315789476,1.7894736842105265,2.1578947368421053,2.526315789473684,2.8947368421052633,3.263157894736842,3.6315789473684212,4.0,-3.0,-2.6315789473684212,-2.263157894736842,-1.8947368421052633,-1.5263157894736843,-1.1578947368421053,-0.7894736842105264,-0.4210526315789475,-0.052631578947368585,0.31578947368421034,0.6842105263157896,1.0526315789473686,1.4210526315789476,1.7894736842105265,2.1578947368421053,2.526315789473684,2.8947368421052633,3.263157894736842,3.6315789473684212,4.0,-3.0,-2.6315789473684212,-2.263157894736842,-1.8947368421052633,-1.5263157894736843,-1.1578947368421053,-0.7894736842105264,-0.4210526315789475,-0.052631578947368585,0.31578947368421034,0.6842105263157896,1.0526315789473686,1.4210526315789476,1.7894736842105265,2.1578947368421053,2.526315789473684,2.8947368421052633,3.263157894736842,3.6315789473684212,4.0,-3.0,-2.6315789473684212,-2.263157894736842,-1.8947368421052633,-1.5263157894736843,-1.1578947368421053,-0.7894736842105264,-0.4210526315789475,-0.052631578947368585,0.31578947368421034,0.6842105263157896,1.0526315789473686,1.4210526315789476,1.7894736842105265,2.1578947368421053,2.526315789473684,2.8947368421052633,3.263157894736842,3.6315789473684212,4.0,-3.0,-2.6315789473684212,-2.263157894736842,-1.8947368421052633,-1.5263157894736843,-1.1578947368421053,-0.7894736842105264,-0.4210526315789475,-0.052631578947368585,0.31578947368421034,0.6842105263157896,1.0526315789473686,1.4210526315789476,1.7894736842105265,2.1578947368421053,2.526315789473684,2.8947368421052633,3.263157894736842,3.6315789473684212,4.0,-3.0,-2.6315789473684212,-2.263157894736842,-1.8947368421052633,-1.5263157894736843,-1.1578947368421053,-0.7894736842105264,-0.4210526315789475,-0.052631578947368585,0.31578947368421034,0.6842105263157896,1.0526315789473686,1.4210526315789476,1.7894736842105265,2.1578947368421053,2.526315789473684,2.8947368421052633,3.263157894736842,3.6315789473684212,4.0,-3.0,-2.6315789473684212,-2.263157894736842,-1.8947368421052633,-1.5263157894736843,-1.1578947368421053,-0.7894736842105264,-0.4210526315789475,-0.052631578947368585,0.31578947368421034,0.6842105263157896,1.0526315789473686,1.4210526315789476,1.7894736842105265,2.1578947368421053,2.526315789473684,2.8947368421052633,3.263157894736842,3.6315789473684212,4.0],\"z\":[0.0009534143346035702,0.001941434311239363,0.0016329617253632005,-0.003429056925833878,-0.014907503486821096,-0.027151456063992833,-0.027849845348576492,-0.005214488766399933,0.046936654893227334,0.12370550596279131,0.19832966780023017,0.22695795284672132,0.18362616670907578,0.08825460211518676,-0.009781889290601723,-0.06983998488860654,-0.0813022202438089,-0.060514658732067815,-0.03256707330560563,-0.013054673437214056,0.004244906370275565,0.009483690845950687,0.010692524072387494,-0.006432587304521453,-0.05005220524682211,-0.0999617542124323,-0.11187441758977044,-0.05058398858520208,0.09071002080673976,0.28842040402521363,0.474045259791292,0.5446304436254469,0.440859310742,0.2118842783045545,-0.023493521388722155,-0.16768815411823818,-0.19520842057602433,-0.1452973011767173,-0.07819451743264905,-0.03134468191739303,0.007737122116736987,0.02171741032238713,0.029133454946096066,-0.0027905494127154207,-0.09323404461236051,-0.19792425177984527,-0.2245374140646994,-0.11617554791388202,0.11058712417064381,0.3964888519480256,0.6469868774518529,0.7363227709520948,0.5932035351024576,0.28427211815243925,-0.03245117089124315,-0.22644955322125657,-0.2633857593245176,-0.1960110517355288,-0.10548328789651859,-0.04228318096870496,-0.011327703482951725,0.0059626842586504025,0.01929719976607125,-0.011489211815251144,-0.09976912619311112,-0.17489078183575973,-0.1303241899883799,0.048706677271666526,0.2694100880890288,0.4477415391130256,0.5550489282331517,0.5602372583097803,0.4308493264602514,0.20047552979762326,-0.03145618274639974,-0.17379206270463968,-0.20011705372380242,-0.14864136996195254,-0.07995642500808306,-0.03204732835533483,-0.09264090928047763,-0.08586745242384669,-0.06865515056639934,-0.06527529034796747,-0.046419488539266196,0.09088405193693558,0.4000385705152766,0.7370632421429772,0.8543906357638495,0.6808359500377823,0.3920811143376285,0.1799427650801363,0.07480270638758377,0.011533940984673318,-0.04574945398248395,-0.08418326889433422,-0.08763541476132539,-0.06375450759151713,-0.03412245896433749,-0.013657873597365516,-0.20130899388725493,-0.19403968051865034,-0.1529104386843972,-0.08858519601648471,0.0737289231350822,0.46604632450302563,1.069301277336144,1.5549508457881154,1.5132044287532629,0.9145714778165559,0.1856259671117576,-0.24227744831743447,-0.3047066119215872,-0.1995557850903238,-0.10009310437547582,-0.05060817044363531,-0.02985317431909493,-0.017668372764421313,-0.008782773907291055,-0.0034071074650112456,-0.13638720420220113,-0.06795492984667434,0.01952007457546895,0.1000593656781937,0.25987967127878725,0.6386107588545649,1.199645349309182,1.5920077879270618,1.408132868695393,0.6581479634843631,-0.1674238152328471,-0.5954966465294491,-0.5808354137249631,-0.37748569162535983,-0.19815461069175797,-0.09531792317458578,-0.04372046051809429,-0.018054264209705784,-0.006234836240690952,-0.0017286671814392505,0.24393934575371268,0.46046353489622255,0.5982307872556543,0.5931752976818798,0.5413989025823184,0.6022203259259876,0.7926909832596934,0.9056026281852358,0.6925855069708444,0.16153532316696206,-0.3895827668978741,-0.6842452806369506,-0.7097139010990402,-0.6094032566284227,-0.4754167869919626,-0.3263438887809603,-0.18395203451365963,-0.08119497105213434,-0.02743700708812348,-0.00703348392286948,0.6518531367983403,1.0113360783812024,1.1867886899252156,1.0825034890838108,0.8132488179844041,0.5702181833320455,0.43498004689005,0.3421529430128795,0.18230908998764034,-0.07730792339262227,-0.3833075652863049,-0.6913205458790903,-0.989434787265631,-1.2023049101145724,-1.1912889590098021,-0.9236562122878051,-0.5481973572104111,-0.24670154793029034,-0.08386079435956553,-0.021498956596041178,0.6531868106600256,0.9859079490527727,1.1367866407227356,1.016106116654324,0.7193579729682906,0.4157141862561586,0.20421964840327983,0.08368594661999043,-0.002094012771194101,-0.12406308678139044,-0.3638016311200395,-0.7996286690476284,-1.3991789834253716,-1.907638323704128,-1.9895251758869439,-1.5726203284531741,-0.9382570611207788,-0.421637227598733,-0.14249825668594202,-0.036155086698813094,0.3070906055893263,0.46998653535034246,0.5273976515928878,0.41168736822891083,0.1680640137018959,-0.07780901560720627,-0.2155573502474243,-0.2245672278597018,-0.17504612914821327,-0.17468324582686062,-0.3316010993826082,-0.7255322506403169,-1.3056936904247716,-1.7990925836943974,-1.8695621395232183,-1.4566036413419479,-0.8464180383598959,-0.36407026403512155,-0.11438842119781133,-0.02556480647734635,-0.12145014015637906,-0.10913173171970438,-0.1283734465285361,-0.2701284324449337,-0.5432862301733354,-0.8107619233953216,-0.8912259346470843,-0.741589083811061,-0.4937206220235426,-0.3129111827292899,-0.28591349107899583,-0.42343675113517176,-0.6564913638313775,-0.8155009937734529,-0.7367028387301373,-0.4442004870207986,-0.13726871967603682,0.027575199206497203,0.05649747714445183,0.03324242503115502,-0.6463006808917157,-0.7060541151755301,-0.681872233728706,-0.7459971028862841,-0.9941018748650998,-1.2812551095513824,-1.35562547279616,-1.144578281352705,-0.8107263348836353,-0.5348015649960924,-0.358682588929803,-0.22861079289087147,-0.0663320500108629,0.1996701774255547,0.5523169282965177,0.8278604738017603,0.8507239506927673,0.6318449131786136,0.34642744612793164,0.14189581735658113,-1.0640810866872843,-1.1163746370325953,-0.9423809654480804,-0.7863800714368375,-0.8414551317803859,-1.0251535253078754,-1.110871520448068,-1.0137604470717825,-0.8363823150670309,-0.6715536462688929,-0.4930243530474927,-0.22926987376486652,0.1707180664331091,0.7161926717581507,1.2918534031256,1.6322081198691207,1.5334760976676252,1.0859501327535637,0.5834045986338388,0.23935973312606723,-0.8979745554830847,-0.8738221925135472,-0.6133454871811657,-0.3460492683018274,-0.2661429785461638,-0.3436856345731827,-0.4310683479306838,-0.46616517377680794,-0.486316024956126,-0.4948660738940807,-0.42116411454064706,-0.20433681150853247,0.16669007474726424,0.6654477748956642,1.1769565317500104,1.4752855565769318,1.391545400949646,1.002661600736916,0.5574151182683382,0.2419778764428496,-0.30088889019449166,-0.20078577093899036,-0.0013721198852600924,0.1615765847033125,0.20142026259152115,0.1618749654097772,0.12819440816085692,0.10992905121047125,0.05829153336285088,-0.027437289870616687,-0.0736356568974365,-0.014811015202015698,0.15238061359305105,0.39160836529041054,0.6366298683137072,0.7843353252051064,0.7546878016044354,0.5723853897315359,0.34567750001818043,0.16806335747170997,0.13823718533870422,0.27668702668466744,0.3738888835854265,0.38451154843470126,0.3402395936873393,0.3198210066711512,0.36722101067872137,0.43946825382178106,0.44856304076474984,0.36555441805632904,0.2574395499496491,0.20425292782556378,0.2170025423550606,0.256668449866925,0.29077367441355323,0.30404770463613634,0.28496449350286,0.23079793461653772,0.15680399132901937,0.08737842574925661,0.08245941044015292,0.2530319976289829,0.3499543618869956,0.332223339184498,0.2688278618301836,0.2539699398602723,0.31836888450334383,0.41076043553675107,0.4480677081226216,0.3991349175968513,0.31499864281761036,0.26055832021509334,0.24078919009843286,0.2183149675075779,0.17599918933095018,0.13028533986665183,0.09752025122613016,0.07512233107572666,0.0539899169108244,0.032652544846761875,-0.3627296089308101,-0.19087051477738437,-0.002296146984722802,0.09551837812164155,0.11147860986551242,0.11684365336349176,0.15203876893920426,0.20125819733994285,0.2253018526657318,0.20935505026168605,0.1785612423432285,0.16241356897202958,0.1573735953515834,0.13962079656477847,0.10230648590298787,0.06189669185361982,0.03431842742274045,0.020467491919648965,0.013244487313210224,0.007923265795166052,-0.5823815137372171,-0.4700992799913979,-0.26599650903598326,-0.09646257274724979,-0.01031693821754881,0.022060187708871005,0.03961592760324417,0.054851006682078235,0.06271059145711237,0.060733065277923055,0.05636007812424289,0.05684516168426083,0.058673113237647734,0.0529610423077069,0.03818970745746552,0.02162206266762295,0.010087265254592248,0.00447577025667849,0.002227278473871531,0.0011829584984500952],\"type\":\"scatter3d\"},{\"mode\":\"markers\",\"x\":[2.901743971036812,6.594086228223749,4.608618691368067,7.003815776043462,6.9684882496594405,7.1674349850289225,1.0627315272863758,3.2060391794926235,7.970493257577063,7.761006792590668,6.372931463344234,9.577136154808196,8.553236519923203,2.5504050164749503,4.9762183161894455,4.396733730360988,9.226676317718654,3.099157027789956,8.40239741755783,1.6252311657726226,8.873361011444937,1.5175852276774993,1.0630091267143138],\"y\":[-0.18621641597332417,-2.5983118248059194,-1.3449176856096743,-2.7302133247437563,2.6035991391562066,0.4536804305998521,2.6169179413236145,0.744614819364986,3.3063979238925914,-1.96374875847262,-0.9133842719989298,-2.8755737350489436,-0.06415179724869846,-1.288320874210413,2.043069608166981,-2.316015905472937,-2.691032930270329,-2.845962866108147,-0.9289007775003686,-1.42706255490181,1.562514728913703,-0.9696005209275906,1.0605482056356612],\"z\":[1.7074120849320598,-0.9769805918361594,0.6286916438450936,-1.1414408138116123,1.7011592084704694,-0.574451300251053,-0.24923799782975067,-0.30089570366088547,0.48827326161071904,0.024844384368415184,-1.374270425392014,-0.4015023620697078,0.48654108852669525,0.2556337618148242,-2.124273623303981,1.252234894513863,0.00988464542789047,-0.1421069311562942,0.3400954653543785,-0.12160442390099657,0.23889973091771674,-0.19456160519803367,0.7358683062275572],\"type\":\"scatter3d\"}],                        {\"template\":{\"data\":{\"histogram2dcontour\":[{\"type\":\"histogram2dcontour\",\"colorbar\":{\"outlinewidth\":0,\"ticks\":\"\"},\"colorscale\":[[0.0,\"#0d0887\"],[0.1111111111111111,\"#46039f\"],[0.2222222222222222,\"#7201a8\"],[0.3333333333333333,\"#9c179e\"],[0.4444444444444444,\"#bd3786\"],[0.5555555555555556,\"#d8576b\"],[0.6666666666666666,\"#ed7953\"],[0.7777777777777778,\"#fb9f3a\"],[0.8888888888888888,\"#fdca26\"],[1.0,\"#f0f921\"]]}],\"choropleth\":[{\"type\":\"choropleth\",\"colorbar\":{\"outlinewidth\":0,\"ticks\":\"\"}}],\"histogram2d\":[{\"type\":\"histogram2d\",\"colorbar\":{\"outlinewidth\":0,\"ticks\":\"\"},\"colorscale\":[[0.0,\"#0d0887\"],[0.1111111111111111,\"#46039f\"],[0.2222222222222222,\"#7201a8\"],[0.3333333333333333,\"#9c179e\"],[0.4444444444444444,\"#bd3786\"],[0.5555555555555556,\"#d8576b\"],[0.6666666666666666,\"#ed7953\"],[0.7777777777777778,\"#fb9f3a\"],[0.8888888888888888,\"#fdca26\"],[1.0,\"#f0f921\"]]}],\"heatmap\":[{\"type\":\"heatmap\",\"colorbar\":{\"outlinewidth\":0,\"ticks\":\"\"},\"colorscale\":[[0.0,\"#0d0887\"],[0.1111111111111111,\"#46039f\"],[0.2222222222222222,\"#7201a8\"],[0.3333333333333333,\"#9c179e\"],[0.4444444444444444,\"#bd3786\"],[0.5555555555555556,\"#d8576b\"],[0.6666666666666666,\"#ed7953\"],[0.7777777777777778,\"#fb9f3a\"],[0.8888888888888888,\"#fdca26\"],[1.0,\"#f0f921\"]]}],\"heatmapgl\":[{\"type\":\"heatmapgl\",\"colorbar\":{\"outlinewidth\":0,\"ticks\":\"\"},\"colorscale\":[[0.0,\"#0d0887\"],[0.1111111111111111,\"#46039f\"],[0.2222222222222222,\"#7201a8\"],[0.3333333333333333,\"#9c179e\"],[0.4444444444444444,\"#bd3786\"],[0.5555555555555556,\"#d8576b\"],[0.6666666666666666,\"#ed7953\"],[0.7777777777777778,\"#fb9f3a\"],[0.8888888888888888,\"#fdca26\"],[1.0,\"#f0f921\"]]}],\"contourcarpet\":[{\"type\":\"contourcarpet\",\"colorbar\":{\"outlinewidth\":0,\"ticks\":\"\"}}],\"contour\":[{\"type\":\"contour\",\"colorbar\":{\"outlinewidth\":0,\"ticks\":\"\"},\"colorscale\":[[0.0,\"#0d0887\"],[0.1111111111111111,\"#46039f\"],[0.2222222222222222,\"#7201a8\"],[0.3333333333333333,\"#9c179e\"],[0.4444444444444444,\"#bd3786\"],[0.5555555555555556,\"#d8576b\"],[0.6666666666666666,\"#ed7953\"],[0.7777777777777778,\"#fb9f3a\"],[0.8888888888888888,\"#fdca26\"],[1.0,\"#f0f921\"]]}],\"surface\":[{\"type\":\"surface\",\"colorbar\":{\"outlinewidth\":0,\"ticks\":\"\"},\"colorscale\":[[0.0,\"#0d0887\"],[0.1111111111111111,\"#46039f\"],[0.2222222222222222,\"#7201a8\"],[0.3333333333333333,\"#9c179e\"],[0.4444444444444444,\"#bd3786\"],[0.5555555555555556,\"#d8576b\"],[0.6666666666666666,\"#ed7953\"],[0.7777777777777778,\"#fb9f3a\"],[0.8888888888888888,\"#fdca26\"],[1.0,\"#f0f921\"]]}],\"mesh3d\":[{\"type\":\"mesh3d\",\"colorbar\":{\"outlinewidth\":0,\"ticks\":\"\"}}],\"scatter\":[{\"fillpattern\":{\"fillmode\":\"overlay\",\"size\":10,\"solidity\":0.2},\"type\":\"scatter\"}],\"parcoords\":[{\"type\":\"parcoords\",\"line\":{\"colorbar\":{\"outlinewidth\":0,\"ticks\":\"\"}}}],\"scatterpolargl\":[{\"type\":\"scatterpolargl\",\"marker\":{\"colorbar\":{\"outlinewidth\":0,\"ticks\":\"\"}}}],\"bar\":[{\"error_x\":{\"color\":\"#2a3f5f\"},\"error_y\":{\"color\":\"#2a3f5f\"},\"marker\":{\"line\":{\"color\":\"#E5ECF6\",\"width\":0.5},\"pattern\":{\"fillmode\":\"overlay\",\"size\":10,\"solidity\":0.2}},\"type\":\"bar\"}],\"scattergeo\":[{\"type\":\"scattergeo\",\"marker\":{\"colorbar\":{\"outlinewidth\":0,\"ticks\":\"\"}}}],\"scatterpolar\":[{\"type\":\"scatterpolar\",\"marker\":{\"colorbar\":{\"outlinewidth\":0,\"ticks\":\"\"}}}],\"histogram\":[{\"marker\":{\"pattern\":{\"fillmode\":\"overlay\",\"size\":10,\"solidity\":0.2}},\"type\":\"histogram\"}],\"scattergl\":[{\"type\":\"scattergl\",\"marker\":{\"colorbar\":{\"outlinewidth\":0,\"ticks\":\"\"}}}],\"scatter3d\":[{\"type\":\"scatter3d\",\"line\":{\"colorbar\":{\"outlinewidth\":0,\"ticks\":\"\"}},\"marker\":{\"colorbar\":{\"outlinewidth\":0,\"ticks\":\"\"}}}],\"scattermapbox\":[{\"type\":\"scattermapbox\",\"marker\":{\"colorbar\":{\"outlinewidth\":0,\"ticks\":\"\"}}}],\"scatterternary\":[{\"type\":\"scatterternary\",\"marker\":{\"colorbar\":{\"outlinewidth\":0,\"ticks\":\"\"}}}],\"scattercarpet\":[{\"type\":\"scattercarpet\",\"marker\":{\"colorbar\":{\"outlinewidth\":0,\"ticks\":\"\"}}}],\"carpet\":[{\"aaxis\":{\"endlinecolor\":\"#2a3f5f\",\"gridcolor\":\"white\",\"linecolor\":\"white\",\"minorgridcolor\":\"white\",\"startlinecolor\":\"#2a3f5f\"},\"baxis\":{\"endlinecolor\":\"#2a3f5f\",\"gridcolor\":\"white\",\"linecolor\":\"white\",\"minorgridcolor\":\"white\",\"startlinecolor\":\"#2a3f5f\"},\"type\":\"carpet\"}],\"table\":[{\"cells\":{\"fill\":{\"color\":\"#EBF0F8\"},\"line\":{\"color\":\"white\"}},\"header\":{\"fill\":{\"color\":\"#C8D4E3\"},\"line\":{\"color\":\"white\"}},\"type\":\"table\"}],\"barpolar\":[{\"marker\":{\"line\":{\"color\":\"#E5ECF6\",\"width\":0.5},\"pattern\":{\"fillmode\":\"overlay\",\"size\":10,\"solidity\":0.2}},\"type\":\"barpolar\"}],\"pie\":[{\"automargin\":true,\"type\":\"pie\"}]},\"layout\":{\"autotypenumbers\":\"strict\",\"colorway\":[\"#636efa\",\"#EF553B\",\"#00cc96\",\"#ab63fa\",\"#FFA15A\",\"#19d3f3\",\"#FF6692\",\"#B6E880\",\"#FF97FF\",\"#FECB52\"],\"font\":{\"color\":\"#2a3f5f\"},\"hovermode\":\"closest\",\"hoverlabel\":{\"align\":\"left\"},\"paper_bgcolor\":\"white\",\"plot_bgcolor\":\"#E5ECF6\",\"polar\":{\"bgcolor\":\"#E5ECF6\",\"angularaxis\":{\"gridcolor\":\"white\",\"linecolor\":\"white\",\"ticks\":\"\"},\"radialaxis\":{\"gridcolor\":\"white\",\"linecolor\":\"white\",\"ticks\":\"\"}},\"ternary\":{\"bgcolor\":\"#E5ECF6\",\"aaxis\":{\"gridcolor\":\"white\",\"linecolor\":\"white\",\"ticks\":\"\"},\"baxis\":{\"gridcolor\":\"white\",\"linecolor\":\"white\",\"ticks\":\"\"},\"caxis\":{\"gridcolor\":\"white\",\"linecolor\":\"white\",\"ticks\":\"\"}},\"coloraxis\":{\"colorbar\":{\"outlinewidth\":0,\"ticks\":\"\"}},\"colorscale\":{\"sequential\":[[0.0,\"#0d0887\"],[0.1111111111111111,\"#46039f\"],[0.2222222222222222,\"#7201a8\"],[0.3333333333333333,\"#9c179e\"],[0.4444444444444444,\"#bd3786\"],[0.5555555555555556,\"#d8576b\"],[0.6666666666666666,\"#ed7953\"],[0.7777777777777778,\"#fb9f3a\"],[0.8888888888888888,\"#fdca26\"],[1.0,\"#f0f921\"]],\"sequentialminus\":[[0.0,\"#0d0887\"],[0.1111111111111111,\"#46039f\"],[0.2222222222222222,\"#7201a8\"],[0.3333333333333333,\"#9c179e\"],[0.4444444444444444,\"#bd3786\"],[0.5555555555555556,\"#d8576b\"],[0.6666666666666666,\"#ed7953\"],[0.7777777777777778,\"#fb9f3a\"],[0.8888888888888888,\"#fdca26\"],[1.0,\"#f0f921\"]],\"diverging\":[[0,\"#8e0152\"],[0.1,\"#c51b7d\"],[0.2,\"#de77ae\"],[0.3,\"#f1b6da\"],[0.4,\"#fde0ef\"],[0.5,\"#f7f7f7\"],[0.6,\"#e6f5d0\"],[0.7,\"#b8e186\"],[0.8,\"#7fbc41\"],[0.9,\"#4d9221\"],[1,\"#276419\"]]},\"xaxis\":{\"gridcolor\":\"white\",\"linecolor\":\"white\",\"ticks\":\"\",\"title\":{\"standoff\":15},\"zerolinecolor\":\"white\",\"automargin\":true,\"zerolinewidth\":2},\"yaxis\":{\"gridcolor\":\"white\",\"linecolor\":\"white\",\"ticks\":\"\",\"title\":{\"standoff\":15},\"zerolinecolor\":\"white\",\"automargin\":true,\"zerolinewidth\":2},\"scene\":{\"xaxis\":{\"backgroundcolor\":\"#E5ECF6\",\"gridcolor\":\"white\",\"linecolor\":\"white\",\"showbackground\":true,\"ticks\":\"\",\"zerolinecolor\":\"white\",\"gridwidth\":2},\"yaxis\":{\"backgroundcolor\":\"#E5ECF6\",\"gridcolor\":\"white\",\"linecolor\":\"white\",\"showbackground\":true,\"ticks\":\"\",\"zerolinecolor\":\"white\",\"gridwidth\":2},\"zaxis\":{\"backgroundcolor\":\"#E5ECF6\",\"gridcolor\":\"white\",\"linecolor\":\"white\",\"showbackground\":true,\"ticks\":\"\",\"zerolinecolor\":\"white\",\"gridwidth\":2}},\"shapedefaults\":{\"line\":{\"color\":\"#2a3f5f\"}},\"annotationdefaults\":{\"arrowcolor\":\"#2a3f5f\",\"arrowhead\":0,\"arrowwidth\":1},\"geo\":{\"bgcolor\":\"white\",\"landcolor\":\"#E5ECF6\",\"subunitcolor\":\"white\",\"showland\":true,\"showlakes\":true,\"lakecolor\":\"white\"},\"title\":{\"x\":0.05},\"mapbox\":{\"style\":\"light\"}}}},                        {\"responsive\": true}                    ).then(function(){\n",
              "                            \n",
              "var gd = document.getElementById('d195e7ab-7e52-4f0f-8aae-16c45a69d7a5');\n",
              "var x = new MutationObserver(function (mutations, observer) {{\n",
              "        var display = window.getComputedStyle(gd).display;\n",
              "        if (!display || display === 'none') {{\n",
              "            console.log([gd, 'removed!']);\n",
              "            Plotly.purge(gd);\n",
              "            observer.disconnect();\n",
              "        }}\n",
              "}});\n",
              "\n",
              "// Listen for the removal of the full notebook cells\n",
              "var notebookContainer = gd.closest('#notebook-container');\n",
              "if (notebookContainer) {{\n",
              "    x.observe(notebookContainer, {childList: true});\n",
              "}}\n",
              "\n",
              "// Listen for the clearing of the current output cell\n",
              "var outputEl = gd.closest('.output');\n",
              "if (outputEl) {{\n",
              "    x.observe(outputEl, {childList: true});\n",
              "}}\n",
              "\n",
              "                        })                };                            </script>        </div>\n",
              "</body>\n",
              "</html>"
            ]
          },
          "metadata": {}
        }
      ]
    },
    {
      "cell_type": "markdown",
      "source": [
        "## very small domain, hence close test\n",
        "\n",
        "looks straight, because on the length-scale of the kernel, its essentially constant (a point)."
      ],
      "metadata": {
        "id": "6RcxOKdkxCg5"
      }
    },
    {
      "cell_type": "code",
      "source": [
        "Domain = torch.tensor([[0,0.001],[-0.001,0.004]])\n",
        "\n",
        "f = RCF(Domain, 222, seed=12087)\n",
        "\n",
        "#### generate mesh to plot\n",
        "R_ax = torch.stack(torch.meshgrid(*[ torch.linspace(Domain[i,0], Domain[i,1], 20) for i in range(len(Domain)) ]), axis=-1)\n",
        "R_ax = R_ax.reshape((torch.prod( torch.asarray(R_ax.shape[:-1]) ), R_ax.shape[-1]))\n",
        "\n",
        "R_ay = (f.evaluate(R_ax)).detach().numpy()\n",
        "R_ax = R_ax.detach().numpy()\n",
        "\n",
        "#### the plot\n",
        "fig = go.Figure(data=[go.Scatter3d(x=R_ax[:,0], y=R_ax[:,1], z=R_ay[:,0], mode='markers'),\n",
        "                      go.Scatter3d(x=f.R_ix.detach().numpy()[:,0], y=f.R_ix.detach().numpy()[:,1], z=f.evaluate(f.R_ix).detach().numpy()[:,0], mode='markers')])\n",
        "fig.show()"
      ],
      "metadata": {
        "colab": {
          "base_uri": "https://localhost:8080/",
          "height": 542
        },
        "id": "sU37L79xvZxt",
        "outputId": "8c1458b0-6f3e-4a90-f66a-dfff425325fd"
      },
      "execution_count": 28,
      "outputs": [
        {
          "output_type": "display_data",
          "data": {
            "text/html": [
              "<html>\n",
              "<head><meta charset=\"utf-8\" /></head>\n",
              "<body>\n",
              "    <div>            <script src=\"https://cdnjs.cloudflare.com/ajax/libs/mathjax/2.7.5/MathJax.js?config=TeX-AMS-MML_SVG\"></script><script type=\"text/javascript\">if (window.MathJax && window.MathJax.Hub && window.MathJax.Hub.Config) {window.MathJax.Hub.Config({SVG: {font: \"STIX-Web\"}});}</script>                <script type=\"text/javascript\">window.PlotlyConfig = {MathJaxConfig: 'local'};</script>\n",
              "        <script charset=\"utf-8\" src=\"https://cdn.plot.ly/plotly-2.24.1.min.js\"></script>                <div id=\"d26db388-6cb4-4f1c-a14b-c7eb3d8295e7\" class=\"plotly-graph-div\" style=\"height:525px; width:100%;\"></div>            <script type=\"text/javascript\">                                    window.PLOTLYENV=window.PLOTLYENV || {};                                    if (document.getElementById(\"d26db388-6cb4-4f1c-a14b-c7eb3d8295e7\")) {                    Plotly.newPlot(                        \"d26db388-6cb4-4f1c-a14b-c7eb3d8295e7\",                        [{\"mode\":\"markers\",\"x\":[0.0,0.0,0.0,0.0,0.0,0.0,0.0,0.0,0.0,0.0,0.0,0.0,0.0,0.0,0.0,0.0,0.0,0.0,0.0,0.0,5.2631578947368424e-05,5.2631578947368424e-05,5.2631578947368424e-05,5.2631578947368424e-05,5.2631578947368424e-05,5.2631578947368424e-05,5.2631578947368424e-05,5.2631578947368424e-05,5.2631578947368424e-05,5.2631578947368424e-05,5.2631578947368424e-05,5.2631578947368424e-05,5.2631578947368424e-05,5.2631578947368424e-05,5.2631578947368424e-05,5.2631578947368424e-05,5.2631578947368424e-05,5.2631578947368424e-05,5.2631578947368424e-05,5.2631578947368424e-05,0.00010526315789473685,0.00010526315789473685,0.00010526315789473685,0.00010526315789473685,0.00010526315789473685,0.00010526315789473685,0.00010526315789473685,0.00010526315789473685,0.00010526315789473685,0.00010526315789473685,0.00010526315789473685,0.00010526315789473685,0.00010526315789473685,0.00010526315789473685,0.00010526315789473685,0.00010526315789473685,0.00010526315789473685,0.00010526315789473685,0.00010526315789473685,0.00010526315789473685,0.00015789473684210527,0.00015789473684210527,0.00015789473684210527,0.00015789473684210527,0.00015789473684210527,0.00015789473684210527,0.00015789473684210527,0.00015789473684210527,0.00015789473684210527,0.00015789473684210527,0.00015789473684210527,0.00015789473684210527,0.00015789473684210527,0.00015789473684210527,0.00015789473684210527,0.00015789473684210527,0.00015789473684210527,0.00015789473684210527,0.00015789473684210527,0.00015789473684210527,0.0002105263157894737,0.0002105263157894737,0.0002105263157894737,0.0002105263157894737,0.0002105263157894737,0.0002105263157894737,0.0002105263157894737,0.0002105263157894737,0.0002105263157894737,0.0002105263157894737,0.0002105263157894737,0.0002105263157894737,0.0002105263157894737,0.0002105263157894737,0.0002105263157894737,0.0002105263157894737,0.0002105263157894737,0.0002105263157894737,0.0002105263157894737,0.0002105263157894737,0.0002631578947368421,0.0002631578947368421,0.0002631578947368421,0.0002631578947368421,0.0002631578947368421,0.0002631578947368421,0.0002631578947368421,0.0002631578947368421,0.0002631578947368421,0.0002631578947368421,0.0002631578947368421,0.0002631578947368421,0.0002631578947368421,0.0002631578947368421,0.0002631578947368421,0.0002631578947368421,0.0002631578947368421,0.0002631578947368421,0.0002631578947368421,0.0002631578947368421,0.00031578947368421053,0.00031578947368421053,0.00031578947368421053,0.00031578947368421053,0.00031578947368421053,0.00031578947368421053,0.00031578947368421053,0.00031578947368421053,0.00031578947368421053,0.00031578947368421053,0.00031578947368421053,0.00031578947368421053,0.00031578947368421053,0.00031578947368421053,0.00031578947368421053,0.00031578947368421053,0.00031578947368421053,0.00031578947368421053,0.00031578947368421053,0.00031578947368421053,0.00036842105263157896,0.00036842105263157896,0.00036842105263157896,0.00036842105263157896,0.00036842105263157896,0.00036842105263157896,0.00036842105263157896,0.00036842105263157896,0.00036842105263157896,0.00036842105263157896,0.00036842105263157896,0.00036842105263157896,0.00036842105263157896,0.00036842105263157896,0.00036842105263157896,0.00036842105263157896,0.00036842105263157896,0.00036842105263157896,0.00036842105263157896,0.00036842105263157896,0.0004210526315789474,0.0004210526315789474,0.0004210526315789474,0.0004210526315789474,0.0004210526315789474,0.0004210526315789474,0.0004210526315789474,0.0004210526315789474,0.0004210526315789474,0.0004210526315789474,0.0004210526315789474,0.0004210526315789474,0.0004210526315789474,0.0004210526315789474,0.0004210526315789474,0.0004210526315789474,0.0004210526315789474,0.0004210526315789474,0.0004210526315789474,0.0004210526315789474,0.0004736842105263158,0.0004736842105263158,0.0004736842105263158,0.0004736842105263158,0.0004736842105263158,0.0004736842105263158,0.0004736842105263158,0.0004736842105263158,0.0004736842105263158,0.0004736842105263158,0.0004736842105263158,0.0004736842105263158,0.0004736842105263158,0.0004736842105263158,0.0004736842105263158,0.0004736842105263158,0.0004736842105263158,0.0004736842105263158,0.0004736842105263158,0.0004736842105263158,0.0005263157894736842,0.0005263157894736842,0.0005263157894736842,0.0005263157894736842,0.0005263157894736842,0.0005263157894736842,0.0005263157894736842,0.0005263157894736842,0.0005263157894736842,0.0005263157894736842,0.0005263157894736842,0.0005263157894736842,0.0005263157894736842,0.0005263157894736842,0.0005263157894736842,0.0005263157894736842,0.0005263157894736842,0.0005263157894736842,0.0005263157894736842,0.0005263157894736842,0.0005789473684210526,0.0005789473684210526,0.0005789473684210526,0.0005789473684210526,0.0005789473684210526,0.0005789473684210526,0.0005789473684210526,0.0005789473684210526,0.0005789473684210526,0.0005789473684210526,0.0005789473684210526,0.0005789473684210526,0.0005789473684210526,0.0005789473684210526,0.0005789473684210526,0.0005789473684210526,0.0005789473684210526,0.0005789473684210526,0.0005789473684210526,0.0005789473684210526,0.0006315789473684211,0.0006315789473684211,0.0006315789473684211,0.0006315789473684211,0.0006315789473684211,0.0006315789473684211,0.0006315789473684211,0.0006315789473684211,0.0006315789473684211,0.0006315789473684211,0.0006315789473684211,0.0006315789473684211,0.0006315789473684211,0.0006315789473684211,0.0006315789473684211,0.0006315789473684211,0.0006315789473684211,0.0006315789473684211,0.0006315789473684211,0.0006315789473684211,0.0006842105263157894,0.0006842105263157894,0.0006842105263157894,0.0006842105263157894,0.0006842105263157894,0.0006842105263157894,0.0006842105263157894,0.0006842105263157894,0.0006842105263157894,0.0006842105263157894,0.0006842105263157894,0.0006842105263157894,0.0006842105263157894,0.0006842105263157894,0.0006842105263157894,0.0006842105263157894,0.0006842105263157894,0.0006842105263157894,0.0006842105263157894,0.0006842105263157894,0.0007368421052631579,0.0007368421052631579,0.0007368421052631579,0.0007368421052631579,0.0007368421052631579,0.0007368421052631579,0.0007368421052631579,0.0007368421052631579,0.0007368421052631579,0.0007368421052631579,0.0007368421052631579,0.0007368421052631579,0.0007368421052631579,0.0007368421052631579,0.0007368421052631579,0.0007368421052631579,0.0007368421052631579,0.0007368421052631579,0.0007368421052631579,0.0007368421052631579,0.0007894736842105263,0.0007894736842105263,0.0007894736842105263,0.0007894736842105263,0.0007894736842105263,0.0007894736842105263,0.0007894736842105263,0.0007894736842105263,0.0007894736842105263,0.0007894736842105263,0.0007894736842105263,0.0007894736842105263,0.0007894736842105263,0.0007894736842105263,0.0007894736842105263,0.0007894736842105263,0.0007894736842105263,0.0007894736842105263,0.0007894736842105263,0.0007894736842105263,0.0008421052631578948,0.0008421052631578948,0.0008421052631578948,0.0008421052631578948,0.0008421052631578948,0.0008421052631578948,0.0008421052631578948,0.0008421052631578948,0.0008421052631578948,0.0008421052631578948,0.0008421052631578948,0.0008421052631578948,0.0008421052631578948,0.0008421052631578948,0.0008421052631578948,0.0008421052631578948,0.0008421052631578948,0.0008421052631578948,0.0008421052631578948,0.0008421052631578948,0.0008947368421052632,0.0008947368421052632,0.0008947368421052632,0.0008947368421052632,0.0008947368421052632,0.0008947368421052632,0.0008947368421052632,0.0008947368421052632,0.0008947368421052632,0.0008947368421052632,0.0008947368421052632,0.0008947368421052632,0.0008947368421052632,0.0008947368421052632,0.0008947368421052632,0.0008947368421052632,0.0008947368421052632,0.0008947368421052632,0.0008947368421052632,0.0008947368421052632,0.0009473684210526316,0.0009473684210526316,0.0009473684210526316,0.0009473684210526316,0.0009473684210526316,0.0009473684210526316,0.0009473684210526316,0.0009473684210526316,0.0009473684210526316,0.0009473684210526316,0.0009473684210526316,0.0009473684210526316,0.0009473684210526316,0.0009473684210526316,0.0009473684210526316,0.0009473684210526316,0.0009473684210526316,0.0009473684210526316,0.0009473684210526316,0.0009473684210526316,0.001,0.001,0.001,0.001,0.001,0.001,0.001,0.001,0.001,0.001,0.001,0.001,0.001,0.001,0.001,0.001,0.001,0.001,0.001,0.001],\"y\":[-0.001,-0.0007368421052631579,-0.0004736842105263158,-0.00021052631578947372,5.2631578947368376e-05,0.0003157894736842105,0.0005789473684210526,0.0008421052631578947,0.0011052631578947368,0.0013684210526315789,0.0016315789473684212,0.0018947368421052633,0.002157894736842105,0.0024210526315789475,0.00268421052631579,0.0029473684210526317,0.0032105263157894736,0.003473684210526316,0.003736842105263158,0.004,-0.001,-0.0007368421052631579,-0.0004736842105263158,-0.00021052631578947372,5.2631578947368376e-05,0.0003157894736842105,0.0005789473684210526,0.0008421052631578947,0.0011052631578947368,0.0013684210526315789,0.0016315789473684212,0.0018947368421052633,0.002157894736842105,0.0024210526315789475,0.00268421052631579,0.0029473684210526317,0.0032105263157894736,0.003473684210526316,0.003736842105263158,0.004,-0.001,-0.0007368421052631579,-0.0004736842105263158,-0.00021052631578947372,5.2631578947368376e-05,0.0003157894736842105,0.0005789473684210526,0.0008421052631578947,0.0011052631578947368,0.0013684210526315789,0.0016315789473684212,0.0018947368421052633,0.002157894736842105,0.0024210526315789475,0.00268421052631579,0.0029473684210526317,0.0032105263157894736,0.003473684210526316,0.003736842105263158,0.004,-0.001,-0.0007368421052631579,-0.0004736842105263158,-0.00021052631578947372,5.2631578947368376e-05,0.0003157894736842105,0.0005789473684210526,0.0008421052631578947,0.0011052631578947368,0.0013684210526315789,0.0016315789473684212,0.0018947368421052633,0.002157894736842105,0.0024210526315789475,0.00268421052631579,0.0029473684210526317,0.0032105263157894736,0.003473684210526316,0.003736842105263158,0.004,-0.001,-0.0007368421052631579,-0.0004736842105263158,-0.00021052631578947372,5.2631578947368376e-05,0.0003157894736842105,0.0005789473684210526,0.0008421052631578947,0.0011052631578947368,0.0013684210526315789,0.0016315789473684212,0.0018947368421052633,0.002157894736842105,0.0024210526315789475,0.00268421052631579,0.0029473684210526317,0.0032105263157894736,0.003473684210526316,0.003736842105263158,0.004,-0.001,-0.0007368421052631579,-0.0004736842105263158,-0.00021052631578947372,5.2631578947368376e-05,0.0003157894736842105,0.0005789473684210526,0.0008421052631578947,0.0011052631578947368,0.0013684210526315789,0.0016315789473684212,0.0018947368421052633,0.002157894736842105,0.0024210526315789475,0.00268421052631579,0.0029473684210526317,0.0032105263157894736,0.003473684210526316,0.003736842105263158,0.004,-0.001,-0.0007368421052631579,-0.0004736842105263158,-0.00021052631578947372,5.2631578947368376e-05,0.0003157894736842105,0.0005789473684210526,0.0008421052631578947,0.0011052631578947368,0.0013684210526315789,0.0016315789473684212,0.0018947368421052633,0.002157894736842105,0.0024210526315789475,0.00268421052631579,0.0029473684210526317,0.0032105263157894736,0.003473684210526316,0.003736842105263158,0.004,-0.001,-0.0007368421052631579,-0.0004736842105263158,-0.00021052631578947372,5.2631578947368376e-05,0.0003157894736842105,0.0005789473684210526,0.0008421052631578947,0.0011052631578947368,0.0013684210526315789,0.0016315789473684212,0.0018947368421052633,0.002157894736842105,0.0024210526315789475,0.00268421052631579,0.0029473684210526317,0.0032105263157894736,0.003473684210526316,0.003736842105263158,0.004,-0.001,-0.0007368421052631579,-0.0004736842105263158,-0.00021052631578947372,5.2631578947368376e-05,0.0003157894736842105,0.0005789473684210526,0.0008421052631578947,0.0011052631578947368,0.0013684210526315789,0.0016315789473684212,0.0018947368421052633,0.002157894736842105,0.0024210526315789475,0.00268421052631579,0.0029473684210526317,0.0032105263157894736,0.003473684210526316,0.003736842105263158,0.004,-0.001,-0.0007368421052631579,-0.0004736842105263158,-0.00021052631578947372,5.2631578947368376e-05,0.0003157894736842105,0.0005789473684210526,0.0008421052631578947,0.0011052631578947368,0.0013684210526315789,0.0016315789473684212,0.0018947368421052633,0.002157894736842105,0.0024210526315789475,0.00268421052631579,0.0029473684210526317,0.0032105263157894736,0.003473684210526316,0.003736842105263158,0.004,-0.001,-0.0007368421052631579,-0.0004736842105263158,-0.00021052631578947372,5.2631578947368376e-05,0.0003157894736842105,0.0005789473684210526,0.0008421052631578947,0.0011052631578947368,0.0013684210526315789,0.0016315789473684212,0.0018947368421052633,0.002157894736842105,0.0024210526315789475,0.00268421052631579,0.0029473684210526317,0.0032105263157894736,0.003473684210526316,0.003736842105263158,0.004,-0.001,-0.0007368421052631579,-0.0004736842105263158,-0.00021052631578947372,5.2631578947368376e-05,0.0003157894736842105,0.0005789473684210526,0.0008421052631578947,0.0011052631578947368,0.0013684210526315789,0.0016315789473684212,0.0018947368421052633,0.002157894736842105,0.0024210526315789475,0.00268421052631579,0.0029473684210526317,0.0032105263157894736,0.003473684210526316,0.003736842105263158,0.004,-0.001,-0.0007368421052631579,-0.0004736842105263158,-0.00021052631578947372,5.2631578947368376e-05,0.0003157894736842105,0.0005789473684210526,0.0008421052631578947,0.0011052631578947368,0.0013684210526315789,0.0016315789473684212,0.0018947368421052633,0.002157894736842105,0.0024210526315789475,0.00268421052631579,0.0029473684210526317,0.0032105263157894736,0.003473684210526316,0.003736842105263158,0.004,-0.001,-0.0007368421052631579,-0.0004736842105263158,-0.00021052631578947372,5.2631578947368376e-05,0.0003157894736842105,0.0005789473684210526,0.0008421052631578947,0.0011052631578947368,0.0013684210526315789,0.0016315789473684212,0.0018947368421052633,0.002157894736842105,0.0024210526315789475,0.00268421052631579,0.0029473684210526317,0.0032105263157894736,0.003473684210526316,0.003736842105263158,0.004,-0.001,-0.0007368421052631579,-0.0004736842105263158,-0.00021052631578947372,5.2631578947368376e-05,0.0003157894736842105,0.0005789473684210526,0.0008421052631578947,0.0011052631578947368,0.0013684210526315789,0.0016315789473684212,0.0018947368421052633,0.002157894736842105,0.0024210526315789475,0.00268421052631579,0.0029473684210526317,0.0032105263157894736,0.003473684210526316,0.003736842105263158,0.004,-0.001,-0.0007368421052631579,-0.0004736842105263158,-0.00021052631578947372,5.2631578947368376e-05,0.0003157894736842105,0.0005789473684210526,0.0008421052631578947,0.0011052631578947368,0.0013684210526315789,0.0016315789473684212,0.0018947368421052633,0.002157894736842105,0.0024210526315789475,0.00268421052631579,0.0029473684210526317,0.0032105263157894736,0.003473684210526316,0.003736842105263158,0.004,-0.001,-0.0007368421052631579,-0.0004736842105263158,-0.00021052631578947372,5.2631578947368376e-05,0.0003157894736842105,0.0005789473684210526,0.0008421052631578947,0.0011052631578947368,0.0013684210526315789,0.0016315789473684212,0.0018947368421052633,0.002157894736842105,0.0024210526315789475,0.00268421052631579,0.0029473684210526317,0.0032105263157894736,0.003473684210526316,0.003736842105263158,0.004,-0.001,-0.0007368421052631579,-0.0004736842105263158,-0.00021052631578947372,5.2631578947368376e-05,0.0003157894736842105,0.0005789473684210526,0.0008421052631578947,0.0011052631578947368,0.0013684210526315789,0.0016315789473684212,0.0018947368421052633,0.002157894736842105,0.0024210526315789475,0.00268421052631579,0.0029473684210526317,0.0032105263157894736,0.003473684210526316,0.003736842105263158,0.004,-0.001,-0.0007368421052631579,-0.0004736842105263158,-0.00021052631578947372,5.2631578947368376e-05,0.0003157894736842105,0.0005789473684210526,0.0008421052631578947,0.0011052631578947368,0.0013684210526315789,0.0016315789473684212,0.0018947368421052633,0.002157894736842105,0.0024210526315789475,0.00268421052631579,0.0029473684210526317,0.0032105263157894736,0.003473684210526316,0.003736842105263158,0.004,-0.001,-0.0007368421052631579,-0.0004736842105263158,-0.00021052631578947372,5.2631578947368376e-05,0.0003157894736842105,0.0005789473684210526,0.0008421052631578947,0.0011052631578947368,0.0013684210526315789,0.0016315789473684212,0.0018947368421052633,0.002157894736842105,0.0024210526315789475,0.00268421052631579,0.0029473684210526317,0.0032105263157894736,0.003473684210526316,0.003736842105263158,0.004],\"z\":[-0.12121307552217475,-0.12121176329062067,-0.12121043356822536,-0.12120908635556926,-0.12120772165323412,-0.12120633946180925,-0.12120493978188795,-0.12120352261408263,-0.1212020879589959,-0.1212006358172637,-0.121199166189502,-0.12119767907634715,-0.12119617447845066,-0.12119465239645155,-0.12119311283101863,-0.12119155578280871,-0.12118998125250302,-0.12118838924077302,-0.12118677974831238,-0.12118515277582365,-0.12121319714123491,-0.12121188490998946,-0.12121055518788948,-0.12120920797550871,-0.12120784327342449,-0.12120646108224253,-0.12120506140254506,-0.12120364423494134,-0.12120220958005534,-0.12120075743848657,-0.12119928781087808,-0.12119780069786357,-0.12119629610007987,-0.12119477401818424,-0.12119323445282948,-0.12119167740468706,-0.12119010287442222,-0.12118851086272331,-0.12118690137027954,-0.12118527439778148,-0.12121331806141722,-0.12121200583048886,-0.12121067610869529,-0.12120932889659386,-0.12120796419478497,-0.12120658200384504,-0.12120518232438027,-0.1212037651569915,-0.12120233050229512,-0.12120087836090798,-0.12119940873346291,-0.12119792162058607,-0.12119641702292894,-0.12119489494114077,-0.12119335537588016,-0.12119179832781013,-0.12119022379761013,-0.12118863178594586,-0.12118702229352163,-0.12118539532103334,-0.12121343828273146,-0.12121212605212817,-0.12121079633063214,-0.12120944911882958,-0.12120808441728936,-0.12120670222660346,-0.12120530254738382,-0.12120388538021754,-0.12120245072572455,-0.12120099858452527,-0.12119952895724895,-0.12119804184452576,-0.12119653724700274,-0.1211950151653376,-0.12119347560017424,-0.12119191855218814,-0.1211903440220472,-0.12118875201043489,-0.12118714251804397,-0.12118551554557078,-0.12121355780515808,-0.12121224557488919,-0.12121091585371291,-0.121209568642207,-0.12120820394094656,-0.12120682175052933,-0.12120542207155394,-0.12120400490461902,-0.1212025702503361,-0.12120111810933532,-0.12119964848223574,-0.12119816136967243,-0.12119665677229241,-0.12119513469075116,-0.12119359512570282,-0.12119203807780998,-0.12119046354774676,-0.12118887153618907,-0.12118726204383723,-0.12118563507137736,-0.12121367662870819,-0.12121236439878302,-0.12121103467792871,-0.121209687466731,-0.12120832276576587,-0.1212069405756111,-0.1212055408968884,-0.12120412373019684,-0.12120268907613774,-0.12120123693533413,-0.12119976730842152,-0.12119828019602918,-0.12119677559880637,-0.12119525351739702,-0.12119371395246725,-0.12119215690467078,-0.12119058237468971,-0.12118899036320308,-0.12118738087090275,-0.1211857538984824,-0.12121379475337557,-0.1212124825237999,-0.12121115280327333,-0.1212098055923927,-0.12120844089171756,-0.12120705870185455,-0.12120565902339786,-0.12120424185693768,-0.1212028072031135,-0.12120135506252083,-0.12119988543580584,-0.12119839832359158,-0.12119689372653042,-0.12119537164526539,-0.1211938320804613,-0.12119227503277852,-0.12119070050288672,-0.1211891084914809,-0.12118749899923342,-0.12118587202685394,-0.12121391217915845,-0.1212125999499376,-0.12121127022975298,-0.12120992301919076,-0.12120855831882338,-0.12120717612924903,-0.12120577645105834,-0.12120435928486462,-0.12120292463126958,-0.1212014724909003,-0.12120000286438604,-0.12119851575235918,-0.12119701115546544,-0.12119548907435584,-0.12119394950968276,-0.12119239246212032,-0.12119081793233866,-0.12118922592100878,-0.12118761642883769,-0.12118598945650794,-0.12121402890605504,-0.12121271667719746,-0.12121138695736011,-0.12121003974712563,-0.12120867504707089,-0.12120729285779408,-0.12120589317988673,-0.12120447601395057,-0.12120304136059934,-0.1212015892204601,-0.12120011959416566,-0.12119863248233287,-0.12119712788561676,-0.12119560580466926,-0.12119406624014184,-0.12119250919270286,-0.12119093466302644,-0.12118934265179604,-0.12118773315970399,-0.1211861061874342,-0.12121414493406046,-0.12121283270557281,-0.12121150298609296,-0.12121015577619954,-0.12120879107646454,-0.12120740888748838,-0.12120600920986568,-0.12120459204420486,-0.12120315739111343,-0.12120170525121443,-0.12120023562512916,-0.1211987485135011,-0.1211972439169684,-0.12119572183619587,-0.12119418227182166,-0.12119262522452257,-0.12119105069496428,-0.12118945868383513,-0.1211878491918279,-0.12118622221962738,-0.12121426026317739,-0.12121294803507343,-0.12121161831595595,-0.12121027110640226,-0.12120890640699677,-0.12120752421833414,-0.12120612454101298,-0.12120470737562172,-0.12120327272278875,-0.12120182058313489,-0.1212003509572841,-0.12119886384586698,-0.12119735924953456,-0.12119583716893256,-0.12119429760472844,-0.12119274055756879,-0.12119116602815083,-0.12118957401713848,-0.12118796452521874,-0.12118633755309594,-0.12121437489340758,-0.12121306266568599,-0.12121173294693444,-0.12121038573773824,-0.12120902103866937,-0.12120763885032337,-0.12120623917330287,-0.12120482200819982,-0.12120338735564307,-0.12120193521623879,-0.12120046559062692,-0.12119897847943317,-0.12119747388330815,-0.12119595180288956,-0.12119441223885463,-0.12119285519185574,-0.12119128066257145,-0.12118968865167501,-0.12118807915986718,-0.12118645218783675,-0.1212144888247364,-0.12121317659741138,-0.12121184687903952,-0.12121049967019637,-0.12120913497147745,-0.12120775278346052,-0.12120635310674821,-0.12120493594194848,-0.1212035012896635,-0.1212020491505239,-0.12120057952515984,-0.12119909241419435,-0.12119758781827672,-0.12119606573806108,-0.12119452617420556,-0.12119296912736521,-0.1211913945982257,-0.12118980258746692,-0.12118819309576967,-0.12118656612383072,-0.12121460205717138,-0.12121328983024338,-0.12121196011225566,-0.1212106129037882,-0.1212092482054179,-0.12120786601773981,-0.12120646634134458,-0.12120504917684638,-0.1212036145248514,-0.12120216238598447,-0.12120069276087309,-0.12119920565014386,-0.12119770105445138,-0.12119617897443868,-0.12119463941077013,-0.12119308236410875,-0.12119150783512245,-0.121189915824504,-0.12118830633292932,-0.12118667936110539,-0.1212147145907072,-0.12121340236419043,-0.12121207264659706,-0.12121072543849909,-0.12120936074049515,-0.12120797855315635,-0.12120657887709108,-0.12120516171290374,-0.12120372706119831,-0.12120227492261915,-0.12120080529776533,-0.12119931818728702,-0.12119781359182236,-0.12119629151202416,-0.12119475194855411,-0.12119319490207303,-0.12119162037325593,-0.12119002836278536,-0.1211884188713519,-0.12118679189963943,-0.12121482642533588,-0.12121351419923743,-0.12121218448204685,-0.12121083727433701,-0.12120947257669767,-0.12120809038971059,-0.12120669071398238,-0.12120527355011834,-0.12120383889872022,-0.12120238676041684,-0.12120091713583525,-0.12119943002561584,-0.12119792543039098,-0.1211964033508206,-0.12119486378755617,-0.12119330674126871,-0.12119173221261947,-0.12119014020231056,-0.12118853071101077,-0.12118690373942798,-0.1212149375610716,-0.12121362533539726,-0.12121229561860769,-0.12121094841129265,-0.12120958371402724,-0.12120820152740297,-0.1212068018520176,-0.12120538468847997,-0.12120395003739892,-0.12120249789938553,-0.12120102827509083,-0.12119954116513165,-0.12119803657016126,-0.12119651449081248,-0.12119497492776432,-0.12119341788167626,-0.12119184335321709,-0.12119025134306982,-0.12118864185192368,-0.12118701488047856,-0.12121504799790417,-0.1212137357726566,-0.12121240605628447,-0.12121105884937045,-0.1212096941524834,-0.12120831196623438,-0.12120691229119851,-0.12120549512799483,-0.12120406047723487,-0.12120260833952834,-0.1212011387155183,-0.12119965160583046,-0.12119814701110654,-0.12119662493201,-0.12119508536918477,-0.1211935283233041,-0.12119195379503811,-0.12119036178507248,-0.12118875229408976,-0.12118712532278275,-0.12121515773582558,-0.12121384551101233,-0.12121251579506787,-0.12121116858856329,-0.12120980389207459,-0.12120842170619106,-0.121207022031522,-0.12120560486865717,-0.12120417021822183,-0.1212027180808346,-0.12120124845711944,-0.12119976134770916,-0.12119825675325879,-0.12119673467440606,-0.12119519511182109,-0.12119363806615358,-0.12119206353809098,-0.12119047152831008,-0.12118886203749657,-0.12118723506634455,-0.12121526677483807,-0.12121395455048045,-0.12121262483496542,-0.12121127762886585,-0.12120991293277772,-0.1212085307472841,-0.12120713107297654,-0.12120571391047319,-0.12120427926037136,-0.1212028271233061,-0.12120135749989691,-0.12119987039077973,-0.1211983657965896,-0.12119684371800554,-0.12119530415565771,-0.12119374711021802,-0.12119217258236681,-0.12119058057277998,-0.1211889710821441,-0.12118734411116394],\"type\":\"scatter3d\"},{\"mode\":\"markers\",\"x\":[0.0007535154154131552,0.0001998133457969278,0.0002742591012189648,0.0005536457780945838,0.000226207163876046,0.00043036860985591965,0.00039223706130175786,0.0006542551737009798,0.0008473762442184307,0.0006331162143163359,0.0003645479202293194,0.00015155282981162466,0.00035420810670048396,0.0005685845009181646,0.0008659810965273038,0.0001460463232016167,0.00029887288648289723,0.0004986926833212408,0.00024123318579116594,0.0006050876766101887,0.00012559848273868368,0.0002585482894775424,0.0009947847552849787,0.0006392282278014684,2.0616335249913687e-05,0.0006898882290878428,0.0006375581782292679,0.0009639201189805617,0.0008032620628230759,0.0009011816607152104,0.0004452812187417642,0.0006227681776677996,0.00013336805367347403,0.0007749596086155044,0.0006268411085314173,0.00016676470880703354,0.00037160704843749906,0.0005596417833654085,0.000985821020822952,2.7517857874859388e-05,0.0006138238126246372,0.000653633147199447,0.00036913596833005094,0.0008104066447981056,0.00048553494310700507,2.187572211326405e-05,0.0007349174870677045,0.0007272506127279195,0.00018132813094252353,0.0008905377290327558,0.000977575128740668,0.0002214791200469487,0.00032835869560714036,0.000647642002483322,0.0008877470570917197,0.0003673928014100094,0.00039568499585786475,0.0001032842626703272,0.0005118888066797822,0.0001382159305519498,0.0007438685738655091,7.155196411620113e-05,0.0005384613644928591,0.00042656116732659057,0.000823560297236736,0.0005119390545153683,0.0008235080059853031,4.674568049778749e-05,0.00038888198916465046,0.0009082944620532705,0.0009788975584644978,0.00034312678984488646,0.000537370325591952,0.0003906935205587984,0.00048716239234605584,0.00064606001973018,0.00048185607972267574,0.00045512775685631205,0.0006031495212522161,0.0008604651584611395,5.041497211788182e-05,0.0009432842210825522,0.0009722517376266091,4.350898695521921e-05,0.0008930804313694316,0.00034613432196475347,0.0007617804784219929,0.00030586272800984973,6.784721738066957e-05,0.0005829917603492296,7.311244761023328e-05,0.0006336997602056221,0.0004080475278291278,0.0002068009894477606,1.4634959641711797e-05,0.000974379924545645,0.0005895093486028388,0.0006034490671302938,0.0009975876334576486,0.000535632450752661,0.0004153169221248012,0.0009875407463573807,0.0005091449301220222,0.0007881374491284041,0.0009091794591572263,0.00029208005906337166,0.0006424663478712137,0.0005658207847070126,0.0008306279559445027,0.00040023617916037067,0.000975356540435595,0.0008134741831954397,0.0006389573535840262,0.00030541597238233786,0.0004427511253666243,0.00037025498091489205,0.0007497831106857128,0.0009760394591993073,0.00042257006636618744,0.000746914452643238,0.00013036150673664736,0.00020157975943190244,0.0006775898593660086,0.0009787813569351559,0.0002931843004216208,0.0006517987030079356,0.000621710116185077,0.0001185409294006412,0.00012887931890393135,0.0008165126673213738,0.0008468427978350083,0.00011221711224338227,0.0009609468977472698,3.3037507587798e-05,0.0001339406362459674,0.00010295933032851735,0.0007308412319062892,8.818696303708774e-05,0.00024508178552123207,0.0008277233344061652,0.0006693863665678174,0.0005671528997266617,0.0004828839924582549,0.0007922438743941554,0.0007112292701984026,0.0004181578865078102,0.0005833683539082866,0.0003501066480571843,0.00027875946610278593,0.0009961777376019138,0.0008425743376320592,0.0006593615555996165,0.0009529505308337491,0.0006498091185737481,0.0008036491192200811,0.00023229527436343124,0.0006342394026842662,0.00047305184805689716,0.0007465284261244723,0.0004274471577962554,0.00011687927806442122,0.0007603966718689125,0.0006711009400692587,0.0007542406591942581,0.0005942045477855784,3.825030558803444e-05,0.0006336774034924609,0.00011303959682334342,0.0006416120143862142,0.0003304037745507814,0.00020324956417594277,0.0008220054643411907,0.0009128828259668269,0.00039182108565263607,0.00025901225220038306,4.732731494366815e-07,0.0009001093364421625,0.000916619087577175,0.00012180987089319717,0.0007282892187096567,0.0008337011569898639,0.00035954578070344987,0.00035678052704342443,0.0001122415147521576,0.0006778410851941077,6.758847569072713e-05,0.0009587637091365702,0.000393443207980527,0.00023949542572846794,0.0003370855367226338,0.0007210347355845745,9.536035993097713e-06,0.00042306930308513114,0.00021212819960253338,0.0007004880830198379,0.0006499928779046069,0.0008772577184449161,0.0004553562818353206,0.0006744646681714696,0.0006929581617649124,0.00024253398419363503,0.0008736703112408473,0.0008133281104130465,0.0003906488145085898,0.0006608969515360367,0.0003688075321024782,0.0007089685193692417,0.0006178872590367375,0.0005296358027209484,0.0009447937630994535,0.0008964132436491582,0.0009857948663143427,0.0006369693417189741,0.000169071070240846,0.0008967187686416445,0.00037358956171901247,0.0008808728248478652,0.00014129931894461622,0.00021351660471984502,0.0004339383687709816,4.6726565456929774e-05,0.0002412483799821641],\"y\":[0.0022342112113357907,0.0020318268168719343,-0.0006899100534969291,0.0018909401567764514,0.003509073991254977,0.0007258157562752307,0.0013472283885949884,0.0035348057349042722,0.0033243694450108743,0.003451480777194032,0.0037595342817704543,-0.00010593930680770716,0.0006469268067099063,-0.0004677475902428543,0.0007007515840410587,0.0024290214188799285,0.0006222207268566802,0.0031474937005487114,0.0025074706400329064,-0.0006562365677584144,0.0029447551156475127,-0.0004566409625444359,0.0032944427755945875,0.0008699127605876103,0.0039778973015709524,0.003245860209084601,0.0004799793625592599,-0.0006998276732327571,0.0022521432116419967,0.0008092690814044648,0.0016361656020423537,0.003482758215085419,-0.0007907391625569756,-0.00019278950375116195,0.0020808180996725227,-0.0008534058477840003,0.0020602894934710334,0.0021443679846777446,-8.08991015617119e-05,0.003580668198111361,0.003689918373104341,0.0001816119323102298,0.001752688172192787,0.0017975890064236212,0.000834618551569961,0.002752191166124851,0.0020449149385411473,-0.00034008938602166604,-0.0005115969450405779,0.003426223894079359,0.003301056475964085,0.0015616743008273586,0.0027276417550009687,0.002004907469510803,0.0020711604877982973,-0.0008228544582508226,-0.000627928414298298,-0.0002978636261269992,0.001974504368219188,0.0029335506398068664,0.0014786931138918089,0.001977774694422858,0.0009608926038946362,0.0023298510353988973,-0.0006065010478560548,0.0010860979509867094,0.000749650143581959,0.000484104714974694,0.00040613339988142955,0.0029506613046724733,0.0005382501955185097,0.0003416360832422254,0.0024210437129125284,0.0008310529910795471,0.0008871558065175831,0.0014184330766925002,0.002641798260734429,0.0018595627474606849,0.0028731215123022347,0.0021464710580731228,0.003547580434760559,-0.0009094051647116965,-0.00013458916710844065,0.0033188129565283704,0.001741854917212072,-0.0009360762554050825,-0.0006416872141251613,0.0027915784885835047,0.00036557253632163423,0.0019242661332645903,0.0030124162607518988,0.0015309832904604275,0.0013230286216320461,0.000493048854057043,-0.0004212232349277647,0.002873092776403317,-0.0005846118516244183,0.003999460374696705,0.0036526865962892424,1.2574205788179905e-05,0.0014785442548790394,0.0015217135936478185,0.003257061692132991,-0.0008446939030738961,0.0012968326355684437,-0.0007659774978118225,-0.0004274926058260389,-0.0009807412173023587,0.0008120671575476154,0.003428538977647188,0.0014824357006169358,-0.0008329940030387475,-0.00026944564859929265,0.0009570165074129686,0.003895873077224758,0.0005536317799175398,0.0033258970195586893,0.0006745245259498415,-0.00048558123185584855,0.0037338535074498257,0.002819194525084694,0.0029780279046702903,0.0033255483419872382,0.0015190163459569178,0.0017956307488583654,0.0005134104497020368,0.003304378575025785,0.0018951698143277553,0.003484034211121519,0.003486141688379429,0.0011632641989660214,0.0030701283393745234,3.662447743094403e-05,0.0018800490484920736,0.003409257618315978,0.00284128668963796,0.0017729401890474355,-0.00023062869637191974,0.0011762420961613962,0.0029429813674979877,0.003112910282398424,0.001338320718515645,-0.0007877733619935875,-0.00037672471045564564,0.0023832082473830853,0.00031225904233247764,0.001390490119290562,-0.0006540817425627335,3.948083096236548e-05,-5.813124310372888e-06,0.00030765610080964547,0.001682137591002115,0.0035529996471024778,0.001897612931391495,0.0033846334806794083,0.0009793698449476265,0.0011691221559279883,0.002241159336090928,-0.0005019814946489395,0.003119331715981626,0.003771992690616029,0.0008027484285101376,0.001582931331346522,0.00020284129450993038,0.0014384886441519986,0.003501331190156636,0.0024063935063800856,0.0015196229024414345,0.0032486198955316587,0.002375679008691325,0.0006815869587235143,0.0036591891608025113,0.0006071658750362472,0.000165128148725208,0.0016385361677652838,0.00032166133870178233,0.0036151196816432037,0.0003807896943066834,-0.0009984335908669797,0.0010945534447250474,0.0022155508967617965,0.0029748002695577577,0.002923558385976994,0.0033665370350278436,0.002784605592791187,0.0006967589215448565,-0.00022434877615144593,0.003979691064604561,0.0019283767406052255,0.003393090212009544,0.000993393966729498,0.0028307220992110096,-0.0005324954523107053,-0.0002889965371532207,0.00210754347340787,0.0011108537987846259,0.003525476821712388,0.0024497374100155536,-0.0007835589588256349,0.001903151153244677,0.001372116633543753,0.0017744214463856576,0.0028199665688531076,0.003526834295256528,0.002766793624901334,0.00045543698137296513,0.0033333470853602566,0.0023192675847376735,0.0007442920701165193,0.0034345362358201015,0.0012390166609231573,0.0004624973050853674,0.003686275055802499,0.0035622758425830434,0.001771479821956678,0.0026460192596169923,0.0019073338586849866,-0.00013055146789310102,0.0033380567385586646,-0.0007011291804708665,-0.000743672607620525,0.003263745747462515],\"z\":[-0.1211974094900179,-0.12119735547128929,-0.12121215350893078,-0.12119894503830686,-0.12118869158304646,-0.1212051250048578,-0.1212016429894236,-0.12118947919625223,-0.12119116788099271,-0.12118994090285629,-0.12118746820545434,-0.12120889438950355,-0.1212053803992923,-0.12121168023290796,-0.12120619826966061,-0.12119494179794499,-0.12120538929624214,-0.12119148431360482,-0.12119470045538439,-0.12121271390308275,-0.12119186041018226,-0.12121093757737489,-0.12119165604276771,-0.12120480167125303,-0.12118533782188745,-0.12119130726763405,-0.12120689444595989,-0.12121369390343384,-0.12119741149988572,-0.121205686388425,-0.1212001473254487,-0.12118972835653885,-0.12121234029570571,-0.12121071507264691,-0.1211980200841114,-0.12121272964443408,-0.12119757833619849,-0.12119750968109688,-0.12121057828114123,-0.12118780070367885,-0.12118844300722165,-0.12120850724490495,-0.12119932223512864,-0.12120002533262797,-0.12120465863298202,-0.12119276291467651,-0.12119845758859826,-0.12121137045221397,-0.12121104228195989,-0.1211906414091124,-0.12119158050495571,-0.121200065361728,-0.12119360441934779,-0.12119849927878246,-0.12119863021545774,-0.12121302848480253,-0.12121211229119755,-0.1212097734169606,-0.12119837807988665,-0.12119195587408438,-0.12120167619962308,-0.12119737137006625,-0.1212040884655452,-0.12119614746280183,-0.1212129298384883,-0.1212033463613924,-0.12120584538186252,-0.12120555429927204,-0.12120674304359502,-0.12119353706531477,-0.12120730503890176,-0.12120698308403144,-0.12119586135606619,-0.12120446863805112,-0.12120437728484479,-0.12120180242569623,-0.12119444953302727,-0.12119890746587103,-0.12119334874377197,-0.1211981408529903,-0.12118805556519296,-0.1212146994724872,-0.12121082822497709,-0.12118942886483541,-0.1212005142074295,-0.12121354539520057,-0.12121297665018238,-0.12119317669260354,-0.12120623266810338,-0.12119881929757614,-0.12119133697466822,-0.12120114795022374,-0.12120181217139514,-0.12120587243233549,-0.12121020028312435,-0.12119413535987178,-0.1212123185088072,-0.12118650866975988,-0.12118948270112062,-0.12120913560992408,-0.12120096366916355,-0.12120194742668744,-0.12119084822787363,-0.12121405128248064,-0.1212030352883251,-0.12121257554138598,-0.12121163515244904,-0.12121425092940274,-0.1212055231582494,-0.12118957092159288,-0.12120214157789633,-0.12121404645042677,-0.1212108187373322,-0.1212035943208023,-0.12118679996283221,-0.12120591593841645,-0.12119095213782582,-0.12120656883697611,-0.12121145080477014,-0.12118845870528006,-0.12119261630711486,-0.12119183526705646,-0.12119079993783766,-0.12120194437667475,-0.12119890977732073,-0.12120674690256017,-0.12119080752067957,-0.12119794955516383,-0.12118862284683996,-0.12119012159052156,-0.12120364145243112,-0.12119108192898986,-0.12120991560042471,-0.12119783896323177,-0.12118908875349943,-0.12119242281509646,-0.12119999584037888,-0.12120939326985658,-0.12120225839544485,-0.12119341368170788,-0.12119206210852695,-0.12120207657152937,-0.12121310824720899,-0.12121169601050763,-0.12119645679823643,-0.1212073051145528,-0.12120182223877718,-0.1212121428704771,-0.12120842646784258,-0.12121020963344664,-0.12120824549566755,-0.12120035503492099,-0.12118999986868051,-0.12119911536576344,-0.12119071088662503,-0.12120330799524703,-0.12120315625497957,-0.12119676282315472,-0.12121223710464468,-0.12119149641380433,-0.12118683258105456,-0.12120542490803565,-0.12120093761497364,-0.12120861098188707,-0.12120157872636961,-0.12118830943047953,-0.12119615551307295,-0.12120005390586686,-0.12119118686792474,-0.12119566800636328,-0.12120485492993538,-0.12118907623874087,-0.12120679907993281,-0.12120802157472976,-0.12119971888374703,-0.1212063095181315,-0.12118951016359292,-0.12120801358237765,-0.12121334817370455,-0.1212037675483062,-0.12119768688859178,-0.1211922093945601,-0.1211925081485501,-0.12118929807864376,-0.1211940337914501,-0.12120446355624681,-0.12121126345390643,-0.12118617122228548,-0.12119803549930497,-0.12118964551258671,-0.12120430534698201,-0.12119227019881107,-0.12121169010313171,-0.12120997581985815,-0.12119802516808864,-0.12120351031806198,-0.12119000979903394,-0.12119551454291244,-0.12121350314428314,-0.121199176564883,-0.12120116993889907,-0.12120028955828532,-0.1211941131917742,-0.12118895164396148,-0.12119410259443963,-0.12120643641279427,-0.12119082001434078,-0.12119662695445577,-0.12120524341572247,-0.12119070411398081,-0.1212033281003535,-0.12120772323923257,-0.12118851535364694,-0.1211882375693274,-0.1212003544554161,-0.12119418552038841,-0.12119955095725743,-0.12120899839770027,-0.1211897009871099,-0.12121256571959238,-0.12121190558093708,-0.12119021244577866],\"type\":\"scatter3d\"}],                        {\"template\":{\"data\":{\"histogram2dcontour\":[{\"type\":\"histogram2dcontour\",\"colorbar\":{\"outlinewidth\":0,\"ticks\":\"\"},\"colorscale\":[[0.0,\"#0d0887\"],[0.1111111111111111,\"#46039f\"],[0.2222222222222222,\"#7201a8\"],[0.3333333333333333,\"#9c179e\"],[0.4444444444444444,\"#bd3786\"],[0.5555555555555556,\"#d8576b\"],[0.6666666666666666,\"#ed7953\"],[0.7777777777777778,\"#fb9f3a\"],[0.8888888888888888,\"#fdca26\"],[1.0,\"#f0f921\"]]}],\"choropleth\":[{\"type\":\"choropleth\",\"colorbar\":{\"outlinewidth\":0,\"ticks\":\"\"}}],\"histogram2d\":[{\"type\":\"histogram2d\",\"colorbar\":{\"outlinewidth\":0,\"ticks\":\"\"},\"colorscale\":[[0.0,\"#0d0887\"],[0.1111111111111111,\"#46039f\"],[0.2222222222222222,\"#7201a8\"],[0.3333333333333333,\"#9c179e\"],[0.4444444444444444,\"#bd3786\"],[0.5555555555555556,\"#d8576b\"],[0.6666666666666666,\"#ed7953\"],[0.7777777777777778,\"#fb9f3a\"],[0.8888888888888888,\"#fdca26\"],[1.0,\"#f0f921\"]]}],\"heatmap\":[{\"type\":\"heatmap\",\"colorbar\":{\"outlinewidth\":0,\"ticks\":\"\"},\"colorscale\":[[0.0,\"#0d0887\"],[0.1111111111111111,\"#46039f\"],[0.2222222222222222,\"#7201a8\"],[0.3333333333333333,\"#9c179e\"],[0.4444444444444444,\"#bd3786\"],[0.5555555555555556,\"#d8576b\"],[0.6666666666666666,\"#ed7953\"],[0.7777777777777778,\"#fb9f3a\"],[0.8888888888888888,\"#fdca26\"],[1.0,\"#f0f921\"]]}],\"heatmapgl\":[{\"type\":\"heatmapgl\",\"colorbar\":{\"outlinewidth\":0,\"ticks\":\"\"},\"colorscale\":[[0.0,\"#0d0887\"],[0.1111111111111111,\"#46039f\"],[0.2222222222222222,\"#7201a8\"],[0.3333333333333333,\"#9c179e\"],[0.4444444444444444,\"#bd3786\"],[0.5555555555555556,\"#d8576b\"],[0.6666666666666666,\"#ed7953\"],[0.7777777777777778,\"#fb9f3a\"],[0.8888888888888888,\"#fdca26\"],[1.0,\"#f0f921\"]]}],\"contourcarpet\":[{\"type\":\"contourcarpet\",\"colorbar\":{\"outlinewidth\":0,\"ticks\":\"\"}}],\"contour\":[{\"type\":\"contour\",\"colorbar\":{\"outlinewidth\":0,\"ticks\":\"\"},\"colorscale\":[[0.0,\"#0d0887\"],[0.1111111111111111,\"#46039f\"],[0.2222222222222222,\"#7201a8\"],[0.3333333333333333,\"#9c179e\"],[0.4444444444444444,\"#bd3786\"],[0.5555555555555556,\"#d8576b\"],[0.6666666666666666,\"#ed7953\"],[0.7777777777777778,\"#fb9f3a\"],[0.8888888888888888,\"#fdca26\"],[1.0,\"#f0f921\"]]}],\"surface\":[{\"type\":\"surface\",\"colorbar\":{\"outlinewidth\":0,\"ticks\":\"\"},\"colorscale\":[[0.0,\"#0d0887\"],[0.1111111111111111,\"#46039f\"],[0.2222222222222222,\"#7201a8\"],[0.3333333333333333,\"#9c179e\"],[0.4444444444444444,\"#bd3786\"],[0.5555555555555556,\"#d8576b\"],[0.6666666666666666,\"#ed7953\"],[0.7777777777777778,\"#fb9f3a\"],[0.8888888888888888,\"#fdca26\"],[1.0,\"#f0f921\"]]}],\"mesh3d\":[{\"type\":\"mesh3d\",\"colorbar\":{\"outlinewidth\":0,\"ticks\":\"\"}}],\"scatter\":[{\"fillpattern\":{\"fillmode\":\"overlay\",\"size\":10,\"solidity\":0.2},\"type\":\"scatter\"}],\"parcoords\":[{\"type\":\"parcoords\",\"line\":{\"colorbar\":{\"outlinewidth\":0,\"ticks\":\"\"}}}],\"scatterpolargl\":[{\"type\":\"scatterpolargl\",\"marker\":{\"colorbar\":{\"outlinewidth\":0,\"ticks\":\"\"}}}],\"bar\":[{\"error_x\":{\"color\":\"#2a3f5f\"},\"error_y\":{\"color\":\"#2a3f5f\"},\"marker\":{\"line\":{\"color\":\"#E5ECF6\",\"width\":0.5},\"pattern\":{\"fillmode\":\"overlay\",\"size\":10,\"solidity\":0.2}},\"type\":\"bar\"}],\"scattergeo\":[{\"type\":\"scattergeo\",\"marker\":{\"colorbar\":{\"outlinewidth\":0,\"ticks\":\"\"}}}],\"scatterpolar\":[{\"type\":\"scatterpolar\",\"marker\":{\"colorbar\":{\"outlinewidth\":0,\"ticks\":\"\"}}}],\"histogram\":[{\"marker\":{\"pattern\":{\"fillmode\":\"overlay\",\"size\":10,\"solidity\":0.2}},\"type\":\"histogram\"}],\"scattergl\":[{\"type\":\"scattergl\",\"marker\":{\"colorbar\":{\"outlinewidth\":0,\"ticks\":\"\"}}}],\"scatter3d\":[{\"type\":\"scatter3d\",\"line\":{\"colorbar\":{\"outlinewidth\":0,\"ticks\":\"\"}},\"marker\":{\"colorbar\":{\"outlinewidth\":0,\"ticks\":\"\"}}}],\"scattermapbox\":[{\"type\":\"scattermapbox\",\"marker\":{\"colorbar\":{\"outlinewidth\":0,\"ticks\":\"\"}}}],\"scatterternary\":[{\"type\":\"scatterternary\",\"marker\":{\"colorbar\":{\"outlinewidth\":0,\"ticks\":\"\"}}}],\"scattercarpet\":[{\"type\":\"scattercarpet\",\"marker\":{\"colorbar\":{\"outlinewidth\":0,\"ticks\":\"\"}}}],\"carpet\":[{\"aaxis\":{\"endlinecolor\":\"#2a3f5f\",\"gridcolor\":\"white\",\"linecolor\":\"white\",\"minorgridcolor\":\"white\",\"startlinecolor\":\"#2a3f5f\"},\"baxis\":{\"endlinecolor\":\"#2a3f5f\",\"gridcolor\":\"white\",\"linecolor\":\"white\",\"minorgridcolor\":\"white\",\"startlinecolor\":\"#2a3f5f\"},\"type\":\"carpet\"}],\"table\":[{\"cells\":{\"fill\":{\"color\":\"#EBF0F8\"},\"line\":{\"color\":\"white\"}},\"header\":{\"fill\":{\"color\":\"#C8D4E3\"},\"line\":{\"color\":\"white\"}},\"type\":\"table\"}],\"barpolar\":[{\"marker\":{\"line\":{\"color\":\"#E5ECF6\",\"width\":0.5},\"pattern\":{\"fillmode\":\"overlay\",\"size\":10,\"solidity\":0.2}},\"type\":\"barpolar\"}],\"pie\":[{\"automargin\":true,\"type\":\"pie\"}]},\"layout\":{\"autotypenumbers\":\"strict\",\"colorway\":[\"#636efa\",\"#EF553B\",\"#00cc96\",\"#ab63fa\",\"#FFA15A\",\"#19d3f3\",\"#FF6692\",\"#B6E880\",\"#FF97FF\",\"#FECB52\"],\"font\":{\"color\":\"#2a3f5f\"},\"hovermode\":\"closest\",\"hoverlabel\":{\"align\":\"left\"},\"paper_bgcolor\":\"white\",\"plot_bgcolor\":\"#E5ECF6\",\"polar\":{\"bgcolor\":\"#E5ECF6\",\"angularaxis\":{\"gridcolor\":\"white\",\"linecolor\":\"white\",\"ticks\":\"\"},\"radialaxis\":{\"gridcolor\":\"white\",\"linecolor\":\"white\",\"ticks\":\"\"}},\"ternary\":{\"bgcolor\":\"#E5ECF6\",\"aaxis\":{\"gridcolor\":\"white\",\"linecolor\":\"white\",\"ticks\":\"\"},\"baxis\":{\"gridcolor\":\"white\",\"linecolor\":\"white\",\"ticks\":\"\"},\"caxis\":{\"gridcolor\":\"white\",\"linecolor\":\"white\",\"ticks\":\"\"}},\"coloraxis\":{\"colorbar\":{\"outlinewidth\":0,\"ticks\":\"\"}},\"colorscale\":{\"sequential\":[[0.0,\"#0d0887\"],[0.1111111111111111,\"#46039f\"],[0.2222222222222222,\"#7201a8\"],[0.3333333333333333,\"#9c179e\"],[0.4444444444444444,\"#bd3786\"],[0.5555555555555556,\"#d8576b\"],[0.6666666666666666,\"#ed7953\"],[0.7777777777777778,\"#fb9f3a\"],[0.8888888888888888,\"#fdca26\"],[1.0,\"#f0f921\"]],\"sequentialminus\":[[0.0,\"#0d0887\"],[0.1111111111111111,\"#46039f\"],[0.2222222222222222,\"#7201a8\"],[0.3333333333333333,\"#9c179e\"],[0.4444444444444444,\"#bd3786\"],[0.5555555555555556,\"#d8576b\"],[0.6666666666666666,\"#ed7953\"],[0.7777777777777778,\"#fb9f3a\"],[0.8888888888888888,\"#fdca26\"],[1.0,\"#f0f921\"]],\"diverging\":[[0,\"#8e0152\"],[0.1,\"#c51b7d\"],[0.2,\"#de77ae\"],[0.3,\"#f1b6da\"],[0.4,\"#fde0ef\"],[0.5,\"#f7f7f7\"],[0.6,\"#e6f5d0\"],[0.7,\"#b8e186\"],[0.8,\"#7fbc41\"],[0.9,\"#4d9221\"],[1,\"#276419\"]]},\"xaxis\":{\"gridcolor\":\"white\",\"linecolor\":\"white\",\"ticks\":\"\",\"title\":{\"standoff\":15},\"zerolinecolor\":\"white\",\"automargin\":true,\"zerolinewidth\":2},\"yaxis\":{\"gridcolor\":\"white\",\"linecolor\":\"white\",\"ticks\":\"\",\"title\":{\"standoff\":15},\"zerolinecolor\":\"white\",\"automargin\":true,\"zerolinewidth\":2},\"scene\":{\"xaxis\":{\"backgroundcolor\":\"#E5ECF6\",\"gridcolor\":\"white\",\"linecolor\":\"white\",\"showbackground\":true,\"ticks\":\"\",\"zerolinecolor\":\"white\",\"gridwidth\":2},\"yaxis\":{\"backgroundcolor\":\"#E5ECF6\",\"gridcolor\":\"white\",\"linecolor\":\"white\",\"showbackground\":true,\"ticks\":\"\",\"zerolinecolor\":\"white\",\"gridwidth\":2},\"zaxis\":{\"backgroundcolor\":\"#E5ECF6\",\"gridcolor\":\"white\",\"linecolor\":\"white\",\"showbackground\":true,\"ticks\":\"\",\"zerolinecolor\":\"white\",\"gridwidth\":2}},\"shapedefaults\":{\"line\":{\"color\":\"#2a3f5f\"}},\"annotationdefaults\":{\"arrowcolor\":\"#2a3f5f\",\"arrowhead\":0,\"arrowwidth\":1},\"geo\":{\"bgcolor\":\"white\",\"landcolor\":\"#E5ECF6\",\"subunitcolor\":\"white\",\"showland\":true,\"showlakes\":true,\"lakecolor\":\"white\"},\"title\":{\"x\":0.05},\"mapbox\":{\"style\":\"light\"}}}},                        {\"responsive\": true}                    ).then(function(){\n",
              "                            \n",
              "var gd = document.getElementById('d26db388-6cb4-4f1c-a14b-c7eb3d8295e7');\n",
              "var x = new MutationObserver(function (mutations, observer) {{\n",
              "        var display = window.getComputedStyle(gd).display;\n",
              "        if (!display || display === 'none') {{\n",
              "            console.log([gd, 'removed!']);\n",
              "            Plotly.purge(gd);\n",
              "            observer.disconnect();\n",
              "        }}\n",
              "}});\n",
              "\n",
              "// Listen for the removal of the full notebook cells\n",
              "var notebookContainer = gd.closest('#notebook-container');\n",
              "if (notebookContainer) {{\n",
              "    x.observe(notebookContainer, {childList: true});\n",
              "}}\n",
              "\n",
              "// Listen for the clearing of the current output cell\n",
              "var outputEl = gd.closest('.output');\n",
              "if (outputEl) {{\n",
              "    x.observe(outputEl, {childList: true});\n",
              "}}\n",
              "\n",
              "                        })                };                            </script>        </div>\n",
              "</body>\n",
              "</html>"
            ]
          },
          "metadata": {}
        }
      ]
    }
  ]
}